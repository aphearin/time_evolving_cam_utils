{
 "cells": [
  {
   "cell_type": "code",
   "execution_count": 1,
   "metadata": {
    "collapsed": false
   },
   "outputs": [],
   "source": [
    "%matplotlib inline\n",
    "from matplotlib import pyplot as plt\n",
    "from matplotlib import lines as mlines\n",
    "import os\n",
    "from astropy.table import Table"
   ]
  },
  {
   "cell_type": "code",
   "execution_count": 2,
   "metadata": {
    "collapsed": true
   },
   "outputs": [],
   "source": [
    "from read_sfh import get_scales\n",
    "small_file_fname = \"/Users/aphearin/Dropbox/UniverseMachine/data/histories/small_sfh_catalog_1.002310.txt\"\n",
    "scale_factor_array = get_scales(small_file_fname)\n",
    "cosmic_age_array = np.load('/Users/aphearin/Dropbox/UniverseMachine/data/histories/prelim_sfh_reduction/times.npy')"
   ]
  },
  {
   "cell_type": "code",
   "execution_count": 4,
   "metadata": {
    "collapsed": false
   },
   "outputs": [
    {
     "name": "stdout",
     "output_type": "stream",
     "text": [
      "... Assembling history data\n",
      "... Assembling halo catalog data\n",
      "New colnames to add from halo catalog = ['first_acc_scale']\n",
      "Number of galaxies before throwing out orphans = 701037\n",
      "Number of galaxies after throwing out orphans = 646460\n"
     ]
    }
   ],
   "source": [
    "from collate_full_catalog import collate_catalog\n",
    "z_string = 'z0'\n",
    "\n",
    "\n",
    "history_colnames = ('halo_id', 'halo_upid', 'halo_mpeak', 'sfr_mp', 'sm_mp', 'stellar_mass', 'sfr')\n",
    "\n",
    "halocat_propnames = ('halo_id', 'first_acc_scale')\n",
    "\n",
    "histories = collate_catalog(z_string, history_colnames=history_colnames, halocat_propnames=halocat_propnames)\n",
    "print(\"Number of galaxies before throwing out orphans = {0}\".format(len(histories)))\n",
    "\n",
    "histories = histories[histories['gal_type'] != 'orphan']\n",
    "print(\"Number of galaxies after throwing out orphans = {0}\".format(len(histories)))"
   ]
  },
  {
   "cell_type": "code",
   "execution_count": null,
   "metadata": {
    "collapsed": true
   },
   "outputs": [],
   "source": [
    "# from assemble_catalog import assemble_catalog as assemble_history_data\n",
    "\n",
    "# snapshot_root_dirname = \"/Users/aphearin/Dropbox/UniverseMachine/data/binary_reductions/z0/binaries/\"\n",
    "# num_subvols = 144\n",
    "# history_cols = ('halo_id', 'halo_upid', 'halo_mpeak', 'halo_vmax_at_mpeak', \n",
    "#                 'stellar_mass', 'sfr', 'sfr_mp', 'sm_mp')\n",
    "# histories = Table(assemble_history_data(snapshot_root_dirname, num_subvols, *history_cols))"
   ]
  },
  {
   "cell_type": "code",
   "execution_count": 5,
   "metadata": {
    "collapsed": false
   },
   "outputs": [],
   "source": [
    "from quenching_time import quenching_time\n",
    "histories['quenching_time'] = quenching_time(histories['sfr_mp'], histories['sm_mp'])"
   ]
  },
  {
   "cell_type": "code",
   "execution_count": null,
   "metadata": {
    "collapsed": false
   },
   "outputs": [],
   "source": [
    "# from halocat_binary_reduction import assemble_halocat, read_column_info_array\n",
    "\n",
    "# halocat_binary_dirname = \"/Users/aphearin/Dropbox/UniverseMachine/data/halocat_snapshot/a_1.00231\"\n",
    "# column_info_fname = os.path.join(os.path.dirname(halocat_binary_dirname), 'column_info.dat')\n",
    "# column_info_array = read_column_info_array(column_info_fname)\n",
    "# propnames = ('halo_id', 'first_acc_scale', 'acc_rate_1tdyn', 'mpeak_scale', 'delta_vmax_tdyn_behroozi16', \n",
    "#             'x', 'y', 'z', 'vx', 'vy', 'vz')\n",
    "# halo_table = Table(assemble_halocat(halocat_binary_dirname, column_info_array, *propnames))\n",
    "# print(\"Available columns = \\n{0}\\n\".format(halo_table.keys()))\n",
    "# print(\"number of halos in snapshot = {0}\".format(len(halo_table)))"
   ]
  },
  {
   "cell_type": "code",
   "execution_count": null,
   "metadata": {
    "collapsed": true
   },
   "outputs": [],
   "source": [
    "# from halotools.utils import crossmatch\n",
    "# idxA, idxB = crossmatch(histories['halo_id'].data, halo_table['halo_id'].data)\n",
    "# histories = histories[idxA]\n",
    "\n",
    "# keys_to_add = ('x', 'y', 'z', 'vx', 'vy', 'vz', \n",
    "#                'first_acc_scale', 'acc_rate_1tdyn', 'mpeak_scale', \n",
    "#                'delta_vmax_tdyn_behroozi16', 'mpeak')\n",
    "# for key in keys_to_add:\n",
    "#     histories[key] = halo_table[key][idxB]"
   ]
  },
  {
   "cell_type": "code",
   "execution_count": 6,
   "metadata": {
    "collapsed": true
   },
   "outputs": [],
   "source": [
    "histories['time_first_acc'] = np.interp(histories['first_acc_scale'], scale_factor_array, cosmic_age_array)\n",
    "histories['host_mpeak'] = histories['halo_mpeak']"
   ]
  },
  {
   "cell_type": "code",
   "execution_count": 7,
   "metadata": {
    "collapsed": false
   },
   "outputs": [],
   "source": [
    "from history_functions import ssfr_at_infall\n",
    "\n",
    "histories['ssfr_at_infall'] = ssfr_at_infall(histories['sfr_mp'].data, \n",
    "                                histories['sm_mp'].data, histories['time_first_acc'].data)\n",
    "\n",
    "satmask = histories['halo_upid'] != -1\n",
    "sats = histories[satmask]\n",
    "cens = histories[~satmask]"
   ]
  },
  {
   "cell_type": "code",
   "execution_count": 9,
   "metadata": {
    "collapsed": false
   },
   "outputs": [],
   "source": [
    "from halotools.utils import crossmatch\n",
    "idxA, idxB = crossmatch(sats['halo_upid'], histories['halo_id'])\n",
    "sats['host_mpeak'][idxA] = histories['halo_mpeak'][idxB]\n",
    "histories['host_mpeak'][satmask] = sats['host_mpeak']"
   ]
  },
  {
   "cell_type": "code",
   "execution_count": 10,
   "metadata": {
    "collapsed": true
   },
   "outputs": [],
   "source": [
    "quenched_satmask = np.log10(sats['sfr']/sats['stellar_mass']) < -11\n",
    "quenched_sats = sats[quenched_satmask]"
   ]
  },
  {
   "cell_type": "markdown",
   "metadata": {},
   "source": [
    "# Plot fraction that quenched after infall"
   ]
  },
  {
   "cell_type": "code",
   "execution_count": 13,
   "metadata": {
    "collapsed": false
   },
   "outputs": [],
   "source": [
    "logsm_low, logsm_high, num_sm_bins = 9, 11.5, 15\n",
    "sm_bins = np.logspace(logsm_low, logsm_high, num_sm_bins)\n",
    "sm_mids = 10**((np.log10(sm_bins)[1:] + np.log10(sm_bins)[:-1])/2.)\n",
    "\n",
    "host_mass_bins = [10**12, 10**13, 10**14, np.inf]\n",
    "\n",
    "frac_quenched_as_sat = np.zeros(len(sm_bins)-1)\n",
    "frac_quenched_as_sat_milky_way = np.zeros(len(sm_bins)-1)\n",
    "frac_quenched_as_sat_group = np.zeros(len(sm_bins)-1)\n",
    "frac_quenched_as_sat_cluster = np.zeros(len(sm_bins)-1)\n",
    "\n",
    "for i, sm_low, sm_high in zip(range(len(sm_bins)-1), sm_bins[0:-1], sm_bins[1:]):\n",
    "    sm_bin_mask = (quenched_sats['stellar_mass'] > sm_low) & (quenched_sats['stellar_mass'] < sm_high)\n",
    "    sm_bin_active_at_infall_mask = sm_bin_mask * (quenched_sats['ssfr_at_infall'] > -11)\n",
    "    frac_quenched_as_sat[i] = len(quenched_sats[sm_bin_active_at_infall_mask])/float(len(quenched_sats[sm_bin_mask]))\n",
    "    \n",
    "    milky_way_sm_bin_mask = sm_bin_mask*(quenched_sats['host_mpeak'] > host_mass_bins[0])*(quenched_sats['host_mpeak'] < host_mass_bins[1])\n",
    "    milky_way_sm_bin_active_at_infall_mask = milky_way_sm_bin_mask*(quenched_sats['ssfr_at_infall'] > -11)\n",
    "    frac_quenched_as_sat_milky_way[i] = len(quenched_sats[milky_way_sm_bin_active_at_infall_mask])/float(len(quenched_sats[milky_way_sm_bin_mask]))\n",
    "\n",
    "    group_sm_bin_mask = sm_bin_mask*(quenched_sats['host_mpeak'] > host_mass_bins[1])*(quenched_sats['host_mpeak'] < host_mass_bins[2])\n",
    "    group_sm_bin_active_at_infall_mask = group_sm_bin_mask*(quenched_sats['ssfr_at_infall'] > -11)\n",
    "    frac_quenched_as_sat_group[i] = len(quenched_sats[group_sm_bin_active_at_infall_mask])/float(len(quenched_sats[group_sm_bin_mask]))\n",
    "\n",
    "    cluster_sm_bin_mask = sm_bin_mask*(quenched_sats['host_mpeak'] > host_mass_bins[2])*(quenched_sats['host_mpeak'] < host_mass_bins[3])\n",
    "    cluster_sm_bin_active_at_infall_mask = cluster_sm_bin_mask*(quenched_sats['ssfr_at_infall'] > -11)\n",
    "    frac_quenched_as_sat_cluster[i] = len(quenched_sats[cluster_sm_bin_active_at_infall_mask])/float(len(quenched_sats[cluster_sm_bin_mask]))\n"
   ]
  },
  {
   "cell_type": "code",
   "execution_count": 19,
   "metadata": {
    "collapsed": false
   },
   "outputs": [
    {
     "data": {
      "image/png": "[encoded data removed]",
      "text/plain": [
       "<matplotlib.figure.Figure at 0x13abf4050>"
      ]
     },
     "metadata": {},
     "output_type": "display_data"
    }
   ],
   "source": [
    "from scipy.signal import savgol_filter\n",
    "\n",
    "fig = plt.figure()\n",
    "ax = fig.add_subplot(111)\n",
    "\n",
    "xlabel = ax.set_xlabel(r'$M_{\\ast}$ $[M_{\\odot}]$', fontsize=18)\n",
    "ylabel = ax.set_ylabel('Frac quenched after infall', fontsize=14)\n",
    "title = ax.set_title('z=0 quenched satellites', fontsize=17, y=1.02) # y param fixes an overhanging title\n",
    "\n",
    "ax.plot(sm_mids, savgol_filter(frac_quenched_as_sat_cluster, 13, 5), color='red', \n",
    "        linewidth=2.5, label = \"cluster satellites\")\n",
    "\n",
    "ax.plot(sm_mids, savgol_filter(frac_quenched_as_sat_group, 13, 4), color='green', \n",
    "        linewidth=2.5, label = \"group satellites\")\n",
    "\n",
    "# ax.plot(sm_mids, savgol_filter(frac_quenched_as_sat, 13, 4), color='k', \n",
    "#         linewidth=2.5, label = \"all satellites\")\n",
    "\n",
    "ax.plot(sm_mids[:-3], savgol_filter(frac_quenched_as_sat_milky_way[:-3], 11, 5), color='blue', \n",
    "        linewidth=2.5, label = \"Milky Way satellites\")\n",
    "\n",
    "ax.plot(np.logspace(9, 12, 100), np.zeros(100) + 0.5, '--', color='gray')\n",
    "\n",
    "plt.tick_params(axis='x', length=5, width=1, which='major') \n",
    "plt.tick_params(axis='x', length=2, width=1, which='minor') \n",
    "plt.tick_params(axis='y', length=5, width=1, which='major') \n",
    "plt.xscale('log')\n",
    "plt.xticks(fontsize=14)\n",
    "plt.yticks(fontsize=14)\n",
    "plt.xlim(xmin = 10**9, xmax=3*10**11)\n",
    "plt.ylim(ymin = 0, ymax = 1)\n",
    "plt.legend(frameon=False, loc='lower left', fontsize=15)\n",
    "\n",
    "fig.savefig('FIGS/post_infall_quenching_fractions.pdf', bbox_extra_artists=[xlabel, ylabel], bbox_inches='tight')"
   ]
  },
  {
   "cell_type": "markdown",
   "metadata": {},
   "source": [
    "# Plot the quenching time"
   ]
  },
  {
   "cell_type": "code",
   "execution_count": 20,
   "metadata": {
    "collapsed": false
   },
   "outputs": [],
   "source": [
    "from quenching_time import quenching_time\n",
    "quenched_sats['quenching_time'] = quenching_time(quenched_sats['sfr_mp'], quenched_sats['sm_mp'])"
   ]
  },
  {
   "cell_type": "code",
   "execution_count": 21,
   "metadata": {
    "collapsed": false
   },
   "outputs": [],
   "source": [
    "quenched_sats['quenching_time_delay'] = quenched_sats['quenching_time'] - quenched_sats['time_first_acc'] "
   ]
  },
  {
   "cell_type": "code",
   "execution_count": 22,
   "metadata": {
    "collapsed": false
   },
   "outputs": [],
   "source": [
    "log_mhost_bins = np.array((12, 13, 14, np.inf))\n",
    "mhost_bins = 10**log_mhost_bins"
   ]
  },
  {
   "cell_type": "code",
   "execution_count": 23,
   "metadata": {
    "collapsed": false
   },
   "outputs": [],
   "source": [
    "quenching_time_delay = np.zeros((len(sm_bins)-1, 4))\n",
    "for i, sm_low, sm_high in zip(range(len(sm_bins)-1), sm_bins[0:-1], sm_bins[1:]):\n",
    "    sm_bin_mask = (quenched_sats['stellar_mass'] > sm_low) & (quenched_sats['stellar_mass'] < sm_high)\n",
    "    quenching_time_delay[i, 0] = np.mean(quenched_sats[sm_bin_mask]['quenching_time_delay'])\n",
    "    \n",
    "    mhost_mask = sm_bin_mask * (quenched_sats['host_mpeak'] >= mhost_bins[0])\n",
    "    mhost_mask *= (quenched_sats['host_mpeak'] < mhost_bins[1])\n",
    "    if len(quenched_sats[mhost_mask]) > 0:\n",
    "        quenching_time_delay[i, 1] = np.mean(quenched_sats[mhost_mask]['quenching_time_delay'])\n",
    "\n",
    "    mhost_mask = sm_bin_mask * (quenched_sats['host_mpeak'] >= mhost_bins[1])\n",
    "    mhost_mask *= (quenched_sats['host_mpeak'] < mhost_bins[2])\n",
    "    if len(quenched_sats[mhost_mask]) > 0:\n",
    "        quenching_time_delay[i, 2] = np.mean(quenched_sats[mhost_mask]['quenching_time_delay'])\n",
    "\n",
    "    mhost_mask = sm_bin_mask * (quenched_sats['host_mpeak'] >= mhost_bins[2])\n",
    "    mhost_mask *= (quenched_sats['host_mpeak'] < mhost_bins[3])\n",
    "    if len(quenched_sats[mhost_mask]) > 0:\n",
    "        quenching_time_delay[i, 3] = np.mean(quenched_sats[mhost_mask]['quenching_time_delay'])\n"
   ]
  },
  {
   "cell_type": "code",
   "execution_count": 31,
   "metadata": {
    "collapsed": false
   },
   "outputs": [
    {
     "data": {
      "image/png": "[encoded data removed]",
      "text/plain": [
       "<matplotlib.figure.Figure at 0x10d71bd50>"
      ]
     },
     "metadata": {},
     "output_type": "display_data"
    }
   ],
   "source": [
    "fig = plt.figure()\n",
    "ax = fig.add_subplot(111)\n",
    "\n",
    "xlabel = ax.set_xlabel(r'$M_{\\ast}$ $[M_{\\odot}]$', fontsize=17)\n",
    "ylabel = ax.set_ylabel(r'$\\langle t_{\\rm delay} \\rangle$ $[{\\rm Gyr}]$', fontsize=17)\n",
    "title = ax.set_title('z=0 quenching timescales', fontsize=17, y=1.02) # y param fixes an overhanging title\n",
    "\n",
    "ax.plot(sm_mids, savgol_filter(quenching_time_delay[:, 3], 9, 3), color='red', \n",
    "        linewidth=2.5, label = \"cluster satellites\")\n",
    "ax.plot(sm_mids, savgol_filter(quenching_time_delay[:, 2], 9, 3), color='green', \n",
    "        linewidth=2.5, label = \"group satellites\")\n",
    "ax.plot(sm_mids[:-3], savgol_filter(quenching_time_delay[:, 1][:-3], 9, 3), color='blue', \n",
    "        linewidth=2.5, label = \"Milky Way satellites\")\n",
    "\n",
    "\n",
    "plt.tick_params(axis='x', length=5, width=1, which='major') \n",
    "plt.tick_params(axis='x', length=2, width=1, which='minor') \n",
    "plt.tick_params(axis='y', length=5, width=1, which='major') \n",
    "plt.xscale('log')\n",
    "plt.xticks(fontsize=14)\n",
    "plt.yticks(fontsize=14)\n",
    "plt.xlim(xmin = 10**9, xmax=2.2*10**11)\n",
    "plt.ylim(ymin = 0, ymax = 6.)\n",
    "plt.legend(frameon=False, loc='upper right', fontsize=13)\n",
    "\n",
    "fig.savefig('FIGS/quenching_timescales.pdf', bbox_extra_artists=[xlabel, ylabel], bbox_inches='tight')"
   ]
  },
  {
   "cell_type": "markdown",
   "metadata": {},
   "source": [
    "# Fraction quenched because of infall"
   ]
  },
  {
   "cell_type": "code",
   "execution_count": null,
   "metadata": {
    "collapsed": false
   },
   "outputs": [],
   "source": [
    "logsm_low, logsm_high, num_sm_bins = 9.5, 11.5, 20\n",
    "sm_bins = np.logspace(logsm_low, logsm_high, num_sm_bins)\n",
    "sm_mids = 10**((np.log10(sm_bins)[1:] + np.log10(sm_bins)[:-1])/2.)\n",
    "\n",
    "host_mass_bins = [10**12, 10**13, 10**14, np.inf]\n",
    "\n",
    "frac_quenched_cen = np.zeros(len(sm_bins)-1)\n",
    "frac_quenched_sat = np.zeros(len(sm_bins)-1)\n",
    "frac_quenched_sat_milky_way = np.zeros(len(sm_bins)-1)\n",
    "frac_quenched_sat_group = np.zeros(len(sm_bins)-1)\n",
    "frac_quenched_sat_cluster = np.zeros(len(sm_bins)-1)\n",
    "\n",
    "for i, sm_low, sm_high in zip(range(len(sm_bins)-1), sm_bins[0:-1], sm_bins[1:]):\n",
    "    sm_bin_mask = (cens['stellar_mass'] > sm_low) & (cens['stellar_mass'] < sm_high)\n",
    "    sm_bin_active_at_infall_mask = sm_bin_mask * (np.log10(cens['sfr']/cens['stellar_mass']) < -11)\n",
    "    frac_quenched_cen[i] = len(cens[sm_bin_active_at_infall_mask])/float(len(cens[sm_bin_mask]))\n",
    "\n",
    "    sm_bin_mask = (sats['stellar_mass'] > sm_low) & (sats['stellar_mass'] < sm_high)\n",
    "    sm_bin_active_at_infall_mask = sm_bin_mask * (np.log10(sats['sfr']/sats['stellar_mass']) < -11)\n",
    "    frac_quenched_sat[i] = len(sats[sm_bin_active_at_infall_mask])/float(len(sats[sm_bin_mask]))\n",
    "\n",
    "    milky_way_sm_bin_mask = sm_bin_mask*(sats['host_mpeak'] > host_mass_bins[0])*(sats['host_mpeak'] < host_mass_bins[1])\n",
    "    milky_way_sm_bin_active_at_infall_mask = milky_way_sm_bin_mask*(np.log10(sats['sfr']/sats['stellar_mass']) < -11)\n",
    "    frac_quenched_sat_milky_way[i] = len(sats[milky_way_sm_bin_active_at_infall_mask])/float(len(sats[milky_way_sm_bin_mask]))\n",
    "\n",
    "    group_sm_bin_mask = sm_bin_mask*(sats['host_mpeak'] > host_mass_bins[1])*(sats['host_mpeak'] < host_mass_bins[2])\n",
    "    group_sm_bin_active_at_infall_mask = group_sm_bin_mask*(np.log10(sats['sfr']/sats['stellar_mass']) < -11)\n",
    "    frac_quenched_sat_group[i] = len(sats[group_sm_bin_active_at_infall_mask])/float(len(sats[group_sm_bin_mask]))\n",
    "\n",
    "    cluster_sm_bin_mask = sm_bin_mask*(sats['host_mpeak'] > host_mass_bins[2])*(sats['host_mpeak'] < host_mass_bins[3])\n",
    "    cluster_sm_bin_active_at_infall_mask = cluster_sm_bin_mask*(np.log10(sats['sfr']/sats['stellar_mass']) < -11)\n",
    "    frac_quenched_sat_cluster[i] = len(sats[cluster_sm_bin_active_at_infall_mask])/float(len(sats[cluster_sm_bin_mask]))\n"
   ]
  },
  {
   "cell_type": "code",
   "execution_count": null,
   "metadata": {
    "collapsed": false
   },
   "outputs": [],
   "source": [
    "fig = plt.figure()\n",
    "ax = fig.add_subplot(111)\n",
    "\n",
    "xlabel = ax.set_xlabel(r'$M_{\\ast}$ $[M_{\\odot}]$', fontsize=20)\n",
    "ylabel = ax.set_ylabel('fraction quenched due to infall', fontsize=15)\n",
    "title = ax.set_title('z=0 quenched satellites', fontsize=20, y=1.02) # y param fixes an overhanging title\n",
    "\n",
    "ax.plot(sm_mids, savgol_filter(frac_quenched_sat_cluster - frac_quenched_cen, 19, 3), color='red', \n",
    "        linewidth=2.5, label = \"cluster satellites\")\n",
    "ax.plot(sm_mids, savgol_filter(frac_quenched_sat_group - frac_quenched_cen, 19, 3), color='green', \n",
    "        linewidth=2.5, label = \"group satellites\")\n",
    "ax.plot(sm_mids, savgol_filter(frac_quenched_sat_milky_way - frac_quenched_cen, 19, 3), color='blue', \n",
    "        linewidth=2.5, label = \"Milky Way satellites\")\n",
    "\n",
    "\n",
    "plt.tick_params(axis='x', length=8, width=1, which='major') \n",
    "plt.tick_params(axis='x', length=4, width=1, which='minor') \n",
    "plt.tick_params(axis='y', length=6, width=1, which='major') \n",
    "plt.xscale('log')\n",
    "plt.xticks(fontsize=17)\n",
    "plt.yticks(fontsize=17)\n",
    "plt.xlim(xmin = 10**9.65, xmax=3*10**11)\n",
    "plt.ylim(ymin = 0, ymax = 0.4)\n",
    "plt.legend(frameon=False, loc='lower left', fontsize=15)\n",
    "\n",
    "fig.savefig('FIGS/infall_caused_quenched_fraction_z0.pdf', bbox_extra_artists=[xlabel, ylabel], bbox_inches='tight')"
   ]
  },
  {
   "cell_type": "code",
   "execution_count": null,
   "metadata": {
    "collapsed": false
   },
   "outputs": [],
   "source": [
    "fig = plt.figure()\n",
    "ax = fig.add_subplot(111)\n",
    "\n",
    "xlabel = ax.set_xlabel(r'$M_{\\ast}$ $[M_{\\odot}]$', fontsize=20)\n",
    "ylabel = ax.set_ylabel('self-quenched fraction', fontsize=17)\n",
    "title = ax.set_title('z=0 quenched satellites', fontsize=20, y=1.02) # y param fixes an overhanging title\n",
    "\n",
    "ax.plot(sm_mids, 1-savgol_filter(frac_quenched_sat_cluster - frac_quenched_cen, 19, 3), color='red', \n",
    "        linewidth=2.5, label = \"cluster satellites\")\n",
    "ax.plot(sm_mids, 1-savgol_filter(frac_quenched_sat_group - frac_quenched_cen, 19, 3), color='green', \n",
    "        linewidth=2.5, label = \"group satellites\")\n",
    "ax.plot(sm_mids, 1-savgol_filter(frac_quenched_sat_milky_way - frac_quenched_cen, 19, 3), color='blue', \n",
    "        linewidth=2.5, label = \"Milky Way satellites\")\n",
    "\n",
    "\n",
    "plt.tick_params(axis='x', length=8, width=1, which='major') \n",
    "plt.tick_params(axis='x', length=4, width=1, which='minor') \n",
    "plt.tick_params(axis='y', length=6, width=1, which='major') \n",
    "plt.xscale('log')\n",
    "plt.xticks(fontsize=17)\n",
    "plt.yticks(fontsize=17)\n",
    "plt.xlim(xmin = 10**9.65, xmax=3*10**11)\n",
    "plt.ylim(ymin = 0, ymax = 1)\n",
    "plt.legend(frameon=False, loc='lower left', fontsize=15)\n",
    "\n",
    "fig.savefig('FIGS/self_quenched_fraction_z0.pdf', bbox_extra_artists=[xlabel, ylabel], bbox_inches='tight')"
   ]
  },
  {
   "cell_type": "markdown",
   "metadata": {},
   "source": [
    "# Compare infall time distributions "
   ]
  },
  {
   "cell_type": "markdown",
   "metadata": {},
   "source": [
    "### Compare infall time distributions: Mhost-dependence"
   ]
  },
  {
   "cell_type": "code",
   "execution_count": null,
   "metadata": {
    "collapsed": false
   },
   "outputs": [],
   "source": [
    "fig = plt.figure()\n",
    "ax = fig.add_subplot(111)\n",
    "\n",
    "sm_low, sm_high = 10, 10.25\n",
    "\n",
    "sm_mask = (sats['sm'] > 10**sm_low) & (sats['sm'] < 10**sm_high)\n",
    "\n",
    "mhost_mask = sm_mask * (sats['mvir_host_halo'] > 10**14) & (sats['mvir_host_halo'] < 10**15)\n",
    "__=plt.hist(cosmic_age_array[-1] - sats['time_first_acc'][mhost_mask], \n",
    "            bins=np.linspace(0, 12, 20), normed=True, alpha=0.5, \n",
    "            label = \"M* ~ 10 sats: [14, 15]\", color='red')\n",
    "\n",
    "mhost_mask = sm_mask * (sats['mvir_host_halo'] > 10**12) & (sats['mvir_host_halo'] < 10**13)\n",
    "__=plt.hist(cosmic_age_array[-1] - sats['time_first_acc'][mhost_mask], \n",
    "            bins=np.linspace(0, 12, 20), normed=True, alpha=0.5, \n",
    "            label = \"M* ~ 10 sats: [12, 13]\", color='blue')\n",
    "\n",
    "sm_mask = (sats['sm'] > 10**sm_low) & (sats['sm'] < 10**sm_high)\n",
    "\n",
    "xlabel = ax.set_xlabel(r'$t_{\\rm lookback}^{\\rm infall}$  $[{\\rm Gyr}]$', fontsize=20)\n",
    "title = ax.set_title('Infall time distributions', fontsize=20, y=1.02) # y param fixes an overhanging title\n",
    "\n",
    "plt.xticks(fontsize=17)\n",
    "plt.yticks(fontsize=15)\n",
    "plt.xlim(xmin = -0.2, xmax=13)\n",
    "plt.ylim(ymin = 0, ymax = 0.25)\n",
    "plt.legend(frameon=False, loc='upper right', fontsize=15)\n",
    "fig.savefig('FIGS/infall_time_distributions_host_dependence.pdf', bbox_extra_artists=[xlabel, ylabel], bbox_inches='tight')"
   ]
  },
  {
   "cell_type": "markdown",
   "metadata": {},
   "source": [
    "### Compare infall time distributions: difference between quenched and star-forming sats"
   ]
  },
  {
   "cell_type": "code",
   "execution_count": null,
   "metadata": {
    "collapsed": false
   },
   "outputs": [],
   "source": [
    "fig = plt.figure()\n",
    "ax = fig.add_subplot(111)\n",
    "\n",
    "sm_low, sm_high = 10, 10.25\n",
    "\n",
    "sm_mask = (sats['sm'] > 10**sm_low) & (sats['sm'] < 10**sm_high)\n",
    "quenched_mask = sm_mask * (sats['sfr'] / sats['sm'] < 1e-11)\n",
    "active_mask = sm_mask * (sats['sfr'] / sats['sm'] > 1e-11)\n",
    "\n",
    "__=plt.hist(cosmic_age_array[-1] - sats['time_first_acc'][active_mask], \n",
    "            bins=np.linspace(0, 12, 20), normed=True, alpha=0.5, \n",
    "            label = 'Active M* ~ 10 sats', color='blue')\n",
    "\n",
    "__=plt.hist(cosmic_age_array[-1] - sats['time_first_acc'][quenched_mask], \n",
    "            bins=np.linspace(0, 12, 20), normed=True, alpha=0.5, \n",
    "            label = \"Quenched M* ~ 10 sats\", color='red')\n",
    "\n",
    "xlabel = ax.set_xlabel(r'$t_{\\rm lookback}^{\\rm infall}$  $[{\\rm Gyr}]$', fontsize=20)\n",
    "title = ax.set_title('Infall time distributions', fontsize=20, y=1.02) # y param fixes an overhanging title\n",
    "\n",
    "plt.xticks(fontsize=17)\n",
    "plt.yticks(fontsize=15)\n",
    "plt.xlim(xmin = -0.2, xmax=13)\n",
    "plt.ylim(ymin = 0, ymax = 0.25)\n",
    "plt.legend(frameon=False, loc='upper right', fontsize=15)\n",
    "fig.savefig('FIGS/infall_time_distributions_sfr_dependence.pdf', bbox_extra_artists=[xlabel, ylabel], bbox_inches='tight')"
   ]
  },
  {
   "cell_type": "code",
   "execution_count": null,
   "metadata": {
    "collapsed": false
   },
   "outputs": [],
   "source": [
    "fig = plt.figure()\n",
    "ax = fig.add_subplot(111)\n",
    "\n",
    "sm_low, sm_high = 10, 10.25\n",
    "\n",
    "sm_mask = (quenched_sats['sm'] > 10**sm_low) & (quenched_sats['sm'] < 10**sm_high)\n",
    "\n",
    "mhost_mask = sm_mask * (quenched_sats['mvir_host_halo'] > 10**14) & (quenched_sats['mvir_host_halo'] < 10**15)\n",
    "__=plt.hist(cosmic_age_array[-1] - quenched_sats['quenching_time'][mhost_mask], \n",
    "            bins=np.linspace(0, 12, 20), normed=True, alpha=0.5, \n",
    "            label = \"Quenched M* ~ 10 sats: [14, 15]\", color='red')\n",
    "\n",
    "mhost_mask = sm_mask * (quenched_sats['mvir_host_halo'] > 10**12) & (quenched_sats['mvir_host_halo'] < 10**13)\n",
    "__=plt.hist(cosmic_age_array[-1] - quenched_sats['quenching_time'][mhost_mask], \n",
    "            bins=np.linspace(0, 12, 20), normed=True, alpha=0.5, \n",
    "            label = \"Quenched M* ~ 10 sats: [12, 13]\", color='blue')\n",
    "\n",
    "xlabel = ax.set_xlabel(r'$t_{\\rm lookback}^{\\rm quench}$  $[{\\rm Gyr}]$', fontsize=20)\n",
    "title = ax.set_title('Quenching time distributions', fontsize=17, y=1.02) # y param fixes an overhanging title\n",
    "\n",
    "plt.xticks(fontsize=17)\n",
    "plt.yticks(fontsize=15)\n",
    "plt.xlim(xmin = -0.2, xmax=13)\n",
    "plt.ylim(ymin = 0, ymax = 0.5)\n",
    "plt.legend(frameon=False, loc='upper right', fontsize=15)\n",
    "fig.savefig('FIGS/quenching_time_distributions_host_dependence.pdf', bbox_extra_artists=[xlabel, ylabel], bbox_inches='tight')"
   ]
  },
  {
   "cell_type": "code",
   "execution_count": null,
   "metadata": {
    "collapsed": false
   },
   "outputs": [],
   "source": [
    "fig = plt.figure()\n",
    "ax = fig.add_subplot(111)\n",
    "\n",
    "sm_low, sm_high = 10, 10.25\n",
    "\n",
    "sm_mask = (quenched_sats['sm'] > 10**sm_low) & (quenched_sats['sm'] < 10**sm_high)\n",
    "\n",
    "mhost_mask = sm_mask * (quenched_sats['mvir_host_halo'] > 10**14) & (quenched_sats['mvir_host_halo'] < 10**15)\n",
    "__=plt.hist(quenched_sats['quenching_time'][mhost_mask] - quenched_sats['time_first_acc'][mhost_mask], \n",
    "            bins=np.linspace(0, 12, 20), normed=True, alpha=0.5, \n",
    "            label = \"Quenched M* ~ 10 sats: [14, 15]\", color='red')\n",
    "\n",
    "mhost_mask = sm_mask * (quenched_sats['mvir_host_halo'] > 10**12) & (quenched_sats['mvir_host_halo'] < 10**13)\n",
    "__=plt.hist(quenched_sats['quenching_time'][mhost_mask] - quenched_sats['time_first_acc'][mhost_mask], \n",
    "            bins=np.linspace(0, 12, 20), normed=True, alpha=0.5, \n",
    "            label = \"Quenched M* ~ 10 sats: [12, 13]\", color='blue')\n",
    "\n",
    "xlabel = ax.set_xlabel(r'$t_{\\rm delay}$  $[{\\rm Gyr}]$', fontsize=20)\n",
    "title = ax.set_title('Quenching time delay distributions', fontsize=17, y=1.02) # y param fixes an overhanging title\n",
    "\n",
    "plt.xticks(fontsize=17)\n",
    "plt.yticks(fontsize=15)\n",
    "plt.xlim(xmin = -0.2, xmax=13)\n",
    "plt.ylim(ymin = 0, ymax = 0.45)\n",
    "plt.legend(frameon=False, loc='upper right', fontsize=15)\n",
    "fig.savefig('FIGS/delay_time_distributions_host_dependence.pdf', bbox_extra_artists=[xlabel, ylabel], bbox_inches='tight')"
   ]
  },
  {
   "cell_type": "code",
   "execution_count": null,
   "metadata": {
    "collapsed": false
   },
   "outputs": [],
   "source": []
  }
 ],
 "metadata": {
  "anaconda-cloud": {},
  "kernelspec": {
   "display_name": "Python [default]",
   "language": "python",
   "name": "python2"
  },
  "language_info": {
   "codemirror_mode": {
    "name": "ipython",
    "version": 2
   },
   "file_extension": ".py",
   "mimetype": "text/x-python",
   "name": "python",
   "nbconvert_exporter": "python",
   "pygments_lexer": "ipython2",
   "version": "2.7.12"
  }
 },
 "nbformat": 4,
 "nbformat_minor": 0
}
