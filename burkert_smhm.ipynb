{
 "cells": [
  {
   "cell_type": "code",
   "execution_count": 1,
   "metadata": {
    "collapsed": true
   },
   "outputs": [],
   "source": [
    "%matplotlib inline\n",
    "from matplotlib import pyplot as plt\n",
    "from matplotlib import lines as mlines\n",
    "import os\n",
    "from astropy.table import Table"
   ]
  },
  {
   "cell_type": "code",
   "execution_count": 2,
   "metadata": {
    "collapsed": true
   },
   "outputs": [],
   "source": [
    "from read_sfh import get_scales\n",
    "small_file_fname = \"/Users/aphearin/Dropbox/UniverseMachine/data/histories/small_sfh_catalog_1.002310.txt\"\n",
    "scale_factor_array = get_scales(small_file_fname)\n",
    "cosmic_age_array = np.load('/Users/aphearin/Dropbox/UniverseMachine/data/histories/prelim_sfh_reduction/times.npy')"
   ]
  },
  {
   "cell_type": "code",
   "execution_count": 3,
   "metadata": {
    "collapsed": false
   },
   "outputs": [
    {
     "name": "stdout",
     "output_type": "stream",
     "text": [
      "... Assembling history data\n",
      "... Assembling halo catalog data\n",
      "... Cross-matching on halo_id\n",
      "\n",
      "Number of objects in history catalog = 676028\n",
      "Number of objects in halo catalog = 12085858\n",
      "Number of matching objects = 640466\n",
      "Fraction of objects appearing in both catalogs = 0.947\n",
      "New colnames to add from halo catalog = ['y', 'x', 'z', 'rvir']\n",
      "\u0007\n",
      "Number of galaxies = 676028\n"
     ]
    }
   ],
   "source": [
    "from collate_full_catalog import collate_catalog\n",
    "a_string = 'a_1.002310'\n",
    "idx_tobs_z0 = np.where(scale_factor_array >= float(a_string[2:]))[0][0]\n",
    "t_today_z0 = cosmic_age_array[idx_tobs_z0]\n",
    "\n",
    "history_colnames = ('halo_id', 'halo_upid', 'halo_mpeak', 'halo_vmax_at_mpeak', \n",
    "                'stellar_mass', 'sfr', 'a_first_infall', 'a_last_infall')\n",
    "halocat_propnames = ('x', 'y', 'z', 'rvir')\n",
    "histories_z0 = collate_catalog(a_string, history_colnames=history_colnames, \n",
    "                            halocat_propnames=halocat_propnames, verbose=True)\n",
    "print(\"Number of galaxies = {0}\".format(len(histories_z0)))\n",
    "\n",
    "histories_z0['ssfr'] = np.log10(histories_z0['sfr']/histories_z0['stellar_mass'])"
   ]
  },
  {
   "cell_type": "code",
   "execution_count": 4,
   "metadata": {
    "collapsed": false
   },
   "outputs": [
    {
     "name": "stdout",
     "output_type": "stream",
     "text": [
      "... Assembling history data\n",
      "... Assembling halo catalog data\n",
      "... Cross-matching on halo_id\n",
      "\n",
      "Number of objects in history catalog = 479093\n",
      "Number of objects in halo catalog = 15954527\n",
      "Number of matching objects = 443093\n",
      "Fraction of objects appearing in both catalogs = 0.925\n",
      "New colnames to add from halo catalog = ['y', 'x', 'z', 'rvir']\n",
      "\u0007\n",
      "Number of galaxies = 479093\n"
     ]
    }
   ],
   "source": [
    "from collate_full_catalog import collate_catalog\n",
    "a_string = 'a_0.501122'\n",
    "idx_tobs_z1 = np.where(scale_factor_array >= float(a_string[2:]))[0][0]\n",
    "t_today_z1 = cosmic_age_array[idx_tobs_z1]\n",
    "\n",
    "history_colnames = ('halo_id', 'halo_upid', 'halo_mpeak', 'halo_vmax_at_mpeak', \n",
    "                'stellar_mass', 'sfr', 'a_first_infall', 'a_last_infall')\n",
    "halocat_propnames = ('x', 'y', 'z', 'rvir')\n",
    "histories_z1 = collate_catalog(a_string, history_colnames=history_colnames, \n",
    "                            halocat_propnames=halocat_propnames, verbose=True)\n",
    "print(\"Number of galaxies = {0}\".format(len(histories_z1)))\n",
    "\n",
    "histories_z1['ssfr'] = np.log10(histories_z1['sfr']/histories_z1['stellar_mass'])"
   ]
  },
  {
   "cell_type": "code",
   "execution_count": null,
   "metadata": {
    "collapsed": true
   },
   "outputs": [],
   "source": []
  }
 ],
 "metadata": {
  "anaconda-cloud": {},
  "kernelspec": {
   "display_name": "Python [conda root]",
   "language": "python",
   "name": "conda-root-py"
  },
  "language_info": {
   "codemirror_mode": {
    "name": "ipython",
    "version": 2
   },
   "file_extension": ".py",
   "mimetype": "text/x-python",
   "name": "python",
   "nbconvert_exporter": "python",
   "pygments_lexer": "ipython2",
   "version": "2.7.12"
  }
 },
 "nbformat": 4,
 "nbformat_minor": 1
}
