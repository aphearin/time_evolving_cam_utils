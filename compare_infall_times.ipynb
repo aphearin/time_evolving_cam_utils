{
 "cells": [
  {
   "cell_type": "code",
   "execution_count": 1,
   "metadata": {
    "collapsed": true
   },
   "outputs": [],
   "source": [
    "%matplotlib inline\n",
    "from matplotlib import pyplot as plt\n",
    "from matplotlib import lines as mlines\n",
    "import os\n",
    "from astropy.table import Table"
   ]
  },
  {
   "cell_type": "code",
   "execution_count": 2,
   "metadata": {
    "collapsed": true
   },
   "outputs": [],
   "source": [
    "from read_sfh import get_scales\n",
    "small_file_fname = \"/Users/aphearin/Dropbox/UniverseMachine/data/histories/small_sfh_catalog_1.002310.txt\"\n",
    "scale_factor_array = get_scales(small_file_fname)\n",
    "cosmic_age_array = np.load('/Users/aphearin/Dropbox/UniverseMachine/data/histories/prelim_sfh_reduction/times.npy')"
   ]
  },
  {
   "cell_type": "code",
   "execution_count": 3,
   "metadata": {
    "collapsed": false
   },
   "outputs": [
    {
     "name": "stdout",
     "output_type": "stream",
     "text": [
      "... Assembling history data\n",
      "Number of galaxies = 676555\n"
     ]
    }
   ],
   "source": [
    "from collate_full_catalog import collate_catalog\n",
    "a_string = 'a_0.911185'\n",
    "idx_tobs = np.where(scale_factor_array >= float(a_string[2:]))[0][0]\n",
    "t_today = cosmic_age_array[idx_tobs]\n",
    "\n",
    "history_colnames = ('halo_id', 'halo_upid', 'halo_mpeak', 'halo_vmax_at_mpeak', \n",
    "                'stellar_mass', 'sfr', 'sfr_mp', 'sm_mp', 'a_first_infall')\n",
    "\n",
    "histories = collate_catalog(a_string, history_colnames=history_colnames)\n",
    "print(\"Number of galaxies = {0}\".format(len(histories)))"
   ]
  },
  {
   "cell_type": "code",
   "execution_count": 4,
   "metadata": {
    "collapsed": true
   },
   "outputs": [],
   "source": [
    "from quenching_time import quenching_time\n",
    "histories['quenching_time'] = quenching_time(histories['sfr_mp'], histories['sm_mp'])"
   ]
  },
  {
   "cell_type": "code",
   "execution_count": 5,
   "metadata": {
    "collapsed": true
   },
   "outputs": [],
   "source": [
    "histories['time_first_acc'] = np.interp(histories['a_first_infall'], scale_factor_array, cosmic_age_array)\n",
    "histories['host_mpeak'] = histories['halo_mpeak']"
   ]
  },
  {
   "cell_type": "code",
   "execution_count": null,
   "metadata": {
    "collapsed": true
   },
   "outputs": [],
   "source": [
    "from history_functions import ssfr_at_infall\n",
    "\n",
    "histories['ssfr_at_infall'] = ssfr_at_infall(histories['sfr_mp'].data, \n",
    "                                histories['sm_mp'].data, histories['time_first_acc'].data)"
   ]
  },
  {
   "cell_type": "code",
   "execution_count": 9,
   "metadata": {
    "collapsed": false
   },
   "outputs": [],
   "source": [
    "satmask = (histories['gal_type'] == 'satellite') | (histories['gal_type'] == 'orphan')\n",
    "sats = histories[satmask]\n",
    "cenmask = (histories['gal_type'] == 'central') \n",
    "cens = histories[cenmask]\n",
    "\n",
    "# idxA, idxB = crossmatch(sats['halo_upid'], histories['halo_id'])\n",
    "# sats['host_mpeak'][idxA] = histories['halo_mpeak'][idxB]\n",
    "# histories['host_mpeak'][satmask] = sats['host_mpeak']\n",
    "\n",
    "# quenched_satmask = np.log10(sats['sfr']/sats['stellar_mass']) < -11\n",
    "# quenched_sats = sats[quenched_satmask]"
   ]
  },
  {
   "cell_type": "markdown",
   "metadata": {},
   "source": [
    "# Plot fraction that quenched after infall"
   ]
  },
  {
   "cell_type": "code",
   "execution_count": null,
   "metadata": {
    "collapsed": true
   },
   "outputs": [],
   "source": [
    "# time_first_acc\n",
    "# ssfr_at_infall"
   ]
  },
  {
   "cell_type": "code",
   "execution_count": null,
   "metadata": {
    "collapsed": true
   },
   "outputs": [],
   "source": [
    "logsm_low, logsm_high, num_sm_bins = 9.5, 11.5, 15\n",
    "sm_bins = np.logspace(logsm_low, logsm_high, num_sm_bins)\n",
    "sm_mids = 10**((np.log10(sm_bins)[1:] + np.log10(sm_bins)[:-1])/2.)\n",
    "\n",
    "host_mass_bins = [10**12, 10**13, 10**14, np.inf]\n",
    "\n",
    "infall_time = np.zeros(len(sm_bins)-1)\n",
    "infall_time_variance = np.zeros(len(sm_bins)-1)\n",
    "infall_time_milky_way = np.zeros(len(sm_bins)-1)\n",
    "infall_time_group = np.zeros(len(sm_bins)-1)\n",
    "infall_time_cluster = np.zeros(len(sm_bins)-1)\n",
    "#\n",
    "ssfr_at_infall = np.zeros(len(sm_bins)-1)\n",
    "ssfr_at_infall_variance = np.zeros(len(sm_bins)-1)\n",
    "ssfr_at_infall_milky_way = np.zeros(len(sm_bins)-1)\n",
    "ssfr_at_infall_group = np.zeros(len(sm_bins)-1)\n",
    "ssfr_at_infall_cluster = np.zeros(len(sm_bins)-1)\n",
    "\n",
    "\n",
    "for i, sm_low, sm_high in zip(range(len(sm_bins)-1), sm_bins[0:-1], sm_bins[1:]):\n",
    "    sm_bin_mask = (sats['stellar_mass'] > sm_low) & (sats['stellar_mass'] < sm_high)\n",
    "    infall_time[i] = np.mean(sats['time_first_acc'][sm_bin_mask])\n",
    "    infall_time_variance[i] = np.std(sats['time_first_acc'][sm_bin_mask])\n",
    "    ssfr_at_infall[i] = np.mean(sats['ssfr_at_infall'][sm_bin_mask])\n",
    "    ssfr_at_infall_variance[i] = np.std(sats['ssfr_at_infall'][sm_bin_mask])\n",
    "    \n",
    "    milky_way_sm_bin_mask = sm_bin_mask*(sats['host_mpeak'] > host_mass_bins[0])*(sats['host_mpeak'] < host_mass_bins[1])\n",
    "    infall_time_milky_way[i] = np.mean(sats['time_first_acc'][milky_way_sm_bin_mask])\n",
    "    ssfr_at_infall_milky_way[i] = np.mean(sats['ssfr_at_infall'][milky_way_sm_bin_mask])\n",
    "\n",
    "    group_sm_bin_mask = sm_bin_mask*(sats['host_mpeak'] > host_mass_bins[1])*(sats['host_mpeak'] < host_mass_bins[2])\n",
    "    infall_time_group[i] = np.mean(sats['time_first_acc'][group_sm_bin_mask])\n",
    "    ssfr_at_infall_group[i] = np.mean(sats['ssfr_at_infall'][group_sm_bin_mask])\n",
    "\n",
    "    cluster_sm_bin_mask = sm_bin_mask*(sats['host_mpeak'] > host_mass_bins[2])*(sats['host_mpeak'] < host_mass_bins[3])\n",
    "    infall_time_cluster[i] = np.mean(sats['time_first_acc'][cluster_sm_bin_mask])\n",
    "    ssfr_at_infall_cluster[i] = np.mean(sats['ssfr_at_infall'][cluster_sm_bin_mask])\n"
   ]
  },
  {
   "cell_type": "code",
   "execution_count": null,
   "metadata": {
    "collapsed": false
   },
   "outputs": [],
   "source": [
    "from scipy.signal import savgol_filter\n",
    "\n",
    "fig = plt.figure()\n",
    "ax = fig.add_subplot(111)\n",
    "\n",
    "xlabel = ax.set_xlabel(r'$M_{\\ast}$ $[M_{\\odot}]$', fontsize=20)\n",
    "ylabel = ax.set_ylabel(r'$\\langle t_{\\rm lookback}^{\\rm infall}\\rangle$  ${\\rm [Gyr]}$', fontsize=17)\n",
    "title = ax.set_title('z=0 satellites', fontsize=20, y=1.02) # y param fixes an overhanging title\n",
    "\n",
    "ax.plot(sm_mids, savgol_filter(cosmic_age_array[-1] - infall_time_cluster, 13, 5), color='red', \n",
    "        linewidth=2.5, label = \"cluster satellites\")\n",
    "\n",
    "ax.plot(sm_mids, savgol_filter(cosmic_age_array[-1] - infall_time_group, 13, 5), color='green', \n",
    "        linewidth=2.5, label = \"group satellites\")\n",
    "\n",
    "y1 = savgol_filter(cosmic_age_array[-1] - infall_time - infall_time_variance, 13, 5)\n",
    "y2 = savgol_filter(cosmic_age_array[-1] - infall_time + infall_time_variance, 13, 5)\n",
    "ax.fill_between(sm_mids, y1, y2, facecolor='gray', alpha=0.5)\n",
    "\n",
    "ax.plot(sm_mids[:-3], savgol_filter(cosmic_age_array[-1] - infall_time_milky_way, 13, 5)[:-3], color='blue', \n",
    "        linewidth=2.5, label = \"Milky Way satellites\")\n",
    "\n",
    "plt.tick_params(axis='x', length=8, width=1, which='major') \n",
    "plt.tick_params(axis='x', length=4, width=1, which='minor') \n",
    "plt.tick_params(axis='y', length=6, width=1, which='major') \n",
    "plt.xscale('log')\n",
    "plt.xticks(fontsize=17)\n",
    "plt.yticks(fontsize=17)\n",
    "plt.xlim(xmin = 10**9.55, xmax=3*10**11)\n",
    "plt.ylim(ymin = 0, ymax = 12)\n",
    "plt.legend(frameon=False, loc='upper right', fontsize=15)\n",
    "\n",
    "fig.savefig('FIGS/infall_time_comparison.pdf', bbox_extra_artists=[xlabel, ylabel], bbox_inches='tight')"
   ]
  },
  {
   "cell_type": "code",
   "execution_count": null,
   "metadata": {
    "collapsed": false
   },
   "outputs": [],
   "source": [
    "fig = plt.figure()\n",
    "ax = fig.add_subplot(111)\n",
    "\n",
    "xlabel = ax.set_xlabel(r'$M_{\\ast}$ $[M_{\\odot}]$', fontsize=20)\n",
    "ylabel = ax.set_ylabel(r'$\\langle \\log$ $ {\\rm sSFR}(t_{\\rm infall})\\rangle$  $[{\\rm Gyr}^{-1}]$', fontsize=17)\n",
    "title = ax.set_title('z=0 satellites', fontsize=20, y=1.02) # y param fixes an overhanging title\n",
    "\n",
    "# ax.plot(sm_mids, savgol_filter(cosmic_age_array[-1] - infall_time_cluster, 13, 5), color='red', \n",
    "#         linewidth=2.5, label = \"cluster satellites\")\n",
    "\n",
    "# ax.plot(sm_mids, savgol_filter(cosmic_age_array[-1] - infall_time_group, 13, 5), color='green', \n",
    "#         linewidth=2.5, label = \"group satellites\")\n",
    "\n",
    "y1 = savgol_filter(ssfr_at_infall - ssfr_at_infall_variance, 13, 5)\n",
    "y2 = savgol_filter(ssfr_at_infall + ssfr_at_infall_variance, 13, 5)\n",
    "ax.fill_between(sm_mids, y1, y2, facecolor='gray', alpha=0.5)\n",
    "\n",
    "# ax.plot(sm_mids, savgol_filter(ssfr_at_infall, 13, 5), color='k', \n",
    "#         linewidth=2.5, label = \"all satellites\")\n",
    "\n",
    "ax.plot(sm_mids, savgol_filter(ssfr_at_infall_cluster, 13, 5), color='red', \n",
    "        linewidth=2.5, label = \"cluster satellites\")\n",
    "ax.plot(sm_mids, savgol_filter(ssfr_at_infall_group, 13, 5), color='green', \n",
    "        linewidth=2.5, label = \"group satellites\")\n",
    "ax.plot(sm_mids[:-3], savgol_filter(ssfr_at_infall_milky_way, 13, 5)[:-3], color='blue', \n",
    "        linewidth=2.5, label = \"Milky Way satellites\")\n",
    "\n",
    "ax.plot(np.logspace(8, 13, 100), np.zeros(100)-11, '--', color='k')\n",
    "\n",
    "plt.tick_params(axis='x', length=8, width=1, which='major') \n",
    "plt.tick_params(axis='x', length=4, width=1, which='minor') \n",
    "plt.tick_params(axis='y', length=6, width=1, which='major') \n",
    "plt.xscale('log')\n",
    "plt.xticks(fontsize=17)\n",
    "plt.yticks(fontsize=17)\n",
    "plt.xlim(xmin = 10**9.55, xmax=3*10**11)\n",
    "plt.ylim(ymin = -12, ymax = -8)\n",
    "plt.legend(frameon=False, loc='upper right', fontsize=15)\n"
   ]
  },
  {
   "cell_type": "code",
   "execution_count": null,
   "metadata": {
    "collapsed": false
   },
   "outputs": [],
   "source": []
  },
  {
   "cell_type": "code",
   "execution_count": null,
   "metadata": {
    "collapsed": true
   },
   "outputs": [],
   "source": []
  },
  {
   "cell_type": "code",
   "execution_count": null,
   "metadata": {
    "collapsed": true
   },
   "outputs": [],
   "source": []
  }
 ],
 "metadata": {
  "kernelspec": {
   "display_name": "Python [conda root]",
   "language": "python",
   "name": "conda-root-py"
  },
  "language_info": {
   "codemirror_mode": {
    "name": "ipython",
    "version": 2
   },
   "file_extension": ".py",
   "mimetype": "text/x-python",
   "name": "python",
   "nbconvert_exporter": "python",
   "pygments_lexer": "ipython2",
   "version": "2.7.12"
  }
 },
 "nbformat": 4,
 "nbformat_minor": 1
}
