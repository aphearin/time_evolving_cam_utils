{
 "cells": [
  {
   "cell_type": "code",
   "execution_count": 1,
   "metadata": {
    "collapsed": true
   },
   "outputs": [],
   "source": [
    "%matplotlib inline\n",
    "from matplotlib import pyplot as plt\n",
    "from matplotlib import lines as mlines\n",
    "import os\n",
    "from astropy.table import Table"
   ]
  },
  {
   "cell_type": "code",
   "execution_count": 2,
   "metadata": {
    "collapsed": true
   },
   "outputs": [],
   "source": [
    "from read_sfh import get_scales\n",
    "small_file_fname = \"/Users/aphearin/Dropbox/UniverseMachine/data/histories/small_sfh_catalog_1.002310.txt\"\n",
    "scale_factor_array = get_scales(small_file_fname)\n",
    "cosmic_age_array = np.load('/Users/aphearin/Dropbox/UniverseMachine/data/histories/prelim_sfh_reduction/times.npy')"
   ]
  },
  {
   "cell_type": "code",
   "execution_count": 3,
   "metadata": {
    "collapsed": false
   },
   "outputs": [
    {
     "name": "stdout",
     "output_type": "stream",
     "text": [
      "... Assembling history data\n",
      "... Assembling halo catalog data\n",
      "... Cross-matching on halo_id\n",
      "\n",
      "Number of objects in history catalog = 676028\n",
      "Number of objects in halo catalog = 12085858\n",
      "Number of matching objects = 640466\n",
      "Fraction of objects appearing in both catalogs = 0.947\n",
      "New colnames to add from halo catalog = ['y', 'x', 'z', 'rvir']\n",
      "\u0007\n",
      "Number of galaxies = 676028\n"
     ]
    }
   ],
   "source": [
    "from collate_full_catalog import collate_catalog\n",
    "a_string = 'a_1.002310'\n",
    "idx_tobs = np.where(scale_factor_array >= float(a_string[2:]))[0][0]\n",
    "t_today = cosmic_age_array[idx_tobs]\n",
    "\n",
    "history_colnames = ('halo_id', 'halo_upid', 'halo_mpeak', 'halo_vmax_at_mpeak', \n",
    "                'stellar_mass', 'sfr', 'a_first_infall')\n",
    "halocat_propnames = ('x', 'y', 'z', 'rvir')\n",
    "histories = collate_catalog(a_string, history_colnames=history_colnames, \n",
    "                            halocat_propnames=halocat_propnames, verbose=True)\n",
    "print(\"Number of galaxies = {0}\".format(len(histories)))"
   ]
  },
  {
   "cell_type": "code",
   "execution_count": 4,
   "metadata": {
    "collapsed": true
   },
   "outputs": [],
   "source": [
    "histories['ssfr'] = np.log10(histories['sfr']/histories['stellar_mass'])"
   ]
  },
  {
   "cell_type": "code",
   "execution_count": 5,
   "metadata": {
    "collapsed": true
   },
   "outputs": [],
   "source": [
    "from halotools.mock_observables import return_xyz_formatted_array, radial_profile_3d"
   ]
  },
  {
   "cell_type": "code",
   "execution_count": 6,
   "metadata": {
    "collapsed": false
   },
   "outputs": [],
   "source": [
    "cluster_mask = (histories['halo_mpeak'] > 1e14) & (histories['gal_type'] == 'central')\n",
    "\n",
    "cluster_pos = return_xyz_formatted_array(histories['x'], histories['y'], histories['z'], \n",
    "                                         mask=cluster_mask, period=250)\n",
    "clusters = histories[cluster_mask]"
   ]
  },
  {
   "cell_type": "code",
   "execution_count": 17,
   "metadata": {
    "collapsed": true
   },
   "outputs": [],
   "source": [
    "sm_low, sm_high = 10, 10.25\n",
    "sm_mask = (np.log10(histories['stellar_mass']) > sm_low) & (np.log10(histories['stellar_mass']) < sm_high)\n",
    "sample_pos = return_xyz_formatted_array(histories['x'], histories['y'], histories['z'], \n",
    "                                         mask=sm_mask, period=250.0)\n",
    "sample = histories[sm_mask]"
   ]
  },
  {
   "cell_type": "code",
   "execution_count": 31,
   "metadata": {
    "collapsed": false
   },
   "outputs": [],
   "source": [
    "sm_low, sm_high = 10.5, 10.75\n",
    "sm_mask2 = (np.log10(histories['stellar_mass']) > sm_low) & (np.log10(histories['stellar_mass']) < sm_high)\n",
    "sample2_pos = return_xyz_formatted_array(histories['x'], histories['y'], histories['z'], \n",
    "                                         mask=sm_mask2, period=250.0)\n",
    "sample2 = histories[sm_mask2]"
   ]
  },
  {
   "cell_type": "code",
   "execution_count": 37,
   "metadata": {
    "collapsed": true
   },
   "outputs": [],
   "source": [
    "sm_low, sm_high = 9, 9.25\n",
    "sm_mask3 = (np.log10(histories['stellar_mass']) > sm_low) & (np.log10(histories['stellar_mass']) < sm_high)\n",
    "sample3_pos = return_xyz_formatted_array(histories['x'], histories['y'], histories['z'], \n",
    "                                         mask=sm_mask3, period=250.0)\n",
    "sample3 = histories[sm_mask3]"
   ]
  },
  {
   "cell_type": "code",
   "execution_count": 45,
   "metadata": {
    "collapsed": false
   },
   "outputs": [],
   "source": [
    "rbins_normalized = np.linspace(0.25, 25, 20)\n",
    "rbins_normalized_midpoints = (rbins_normalized[:-1] + rbins_normalized[1:])/2.\n",
    "\n",
    "cluster_result = radial_profile_3d(cluster_pos, sample_pos, sample['ssfr'],\n",
    "                           rbins_normalized = rbins_normalized,\n",
    "                           normalize_rbins_by = clusters['rvir']/1000.,\n",
    "                           period=250)\n",
    "\n",
    "cluster_result2 = radial_profile_3d(cluster_pos, sample2_pos, sample2['ssfr'],\n",
    "                           rbins_normalized = rbins_normalized,\n",
    "                           normalize_rbins_by = clusters['rvir']/1000.,\n",
    "                           period=250)\n",
    "\n",
    "cluster_result3 = radial_profile_3d(cluster_pos, sample3_pos, sample3['ssfr'],\n",
    "                           rbins_normalized = rbins_normalized,\n",
    "                           normalize_rbins_by = clusters['rvir']/1000.,\n",
    "                           period=250)\n"
   ]
  },
  {
   "cell_type": "code",
   "execution_count": 54,
   "metadata": {
    "collapsed": false
   },
   "outputs": [
    {
     "data": {
      "image/png": "[encoded data removed]",
      "text/plain": [
       "<matplotlib.figure.Figure at 0x10dd99650>"
      ]
     },
     "metadata": {},
     "output_type": "display_data"
    }
   ],
   "source": [
    "from scipy.signal import savgol_filter, medfilt\n",
    "\n",
    "fig = plt.figure()\n",
    "ax = fig.add_subplot(111)\n",
    "\n",
    "y3 = medfilt(cluster_result3, 3)\n",
    "y3 = savgol_filter(y3, 9, 3)\n",
    "ax.plot(rbins_normalized_midpoints, y3, \n",
    "        color='blue', linewidth=2, label=r'$M_{\\ast} = 10^{9}M_{\\odot}$')\n",
    "mean_sample3_ssfr = np.mean(sample3['ssfr'])\n",
    "ax.plot(np.arange(100), np.zeros(100) + mean_sample3_ssfr, ls='--', color='blue', linewidth=2)\n",
    "\n",
    "y = medfilt(cluster_result, 3)\n",
    "y = savgol_filter(y, 9, 3)\n",
    "ax.plot(rbins_normalized_midpoints, y, \n",
    "        color='green', linewidth=2, label=r'$M_{\\ast} = 10^{10}M_{\\odot}$')\n",
    "mean_sample_ssfr = np.mean(sample['ssfr'])\n",
    "ax.plot(np.arange(100), np.zeros(100) + mean_sample_ssfr, ls='--', color='green', linewidth=2)\n",
    "\n",
    "y2 = medfilt(cluster_result2, 3)\n",
    "y2 = savgol_filter(y2, 9, 3)\n",
    "ax.plot(rbins_normalized_midpoints, y2, \n",
    "        color='red', linewidth=2, label=r'$M_{\\ast} = 10^{10.75}M_{\\odot}$')\n",
    "mean_sample2_ssfr = np.mean(sample2['ssfr'])\n",
    "ax.plot(np.arange(100), np.zeros(100) + mean_sample2_ssfr, ls='--', color='red', linewidth=2)\n",
    "\n",
    "\n",
    "xlabel = ax.set_xlabel(r'$r / R_{\\rm vir}$', fontsize=20)\n",
    "ylabel = ax.set_ylabel(r'$\\langle{\\rm sSFR}\\rangle$', fontsize=20)\n",
    "title = ax.set_title(r'SFR profiles around z=0 clusters', \n",
    "                     fontsize=18, y=1.02) \n",
    "\n",
    "plt.xlabel(r'$r / R_{\\rm vir}$', size=20)\n",
    "plt.ylabel(r'$\\langle{\\rm sSFR}\\rangle$', size=20)\n",
    "plt.xticks(fontsize=17); plt.yticks(fontsize=17)\n",
    "plt.xlim(xmin = 0., xmax=15)\n",
    "plt.ylim(ymin = -11.5, ymax = -9.75)\n",
    "\n",
    "plt.legend(loc='upper right', fontsize=13)\n",
    "\n",
    "ax.tick_params(axis='x', length=4, width=1, which='major')\n",
    "ax.tick_params(axis='x', length=2, width=1, which='minor')\n",
    "ax.tick_params(axis='y', length=4, width=1, which='major')\n",
    "ax.tick_params(axis='y', length=2, width=1, which='minor')\n",
    "plt.xticks(fontsize=11); plt.yticks(fontsize=11)\n",
    "\n",
    "fig.savefig('FIGS/cluster_profiles_sm_dependence.pdf', \n",
    "            bbox_extra_artists=[xlabel, ylabel], bbox_inches='tight')"
   ]
  },
  {
   "cell_type": "code",
   "execution_count": 9,
   "metadata": {
    "collapsed": false
   },
   "outputs": [
    {
     "data": {
      "text/plain": [
       "702.36902"
      ]
     },
     "execution_count": 9,
     "metadata": {},
     "output_type": "execute_result"
    }
   ],
   "source": [
    "clusters['rvir'].min()"
   ]
  },
  {
   "cell_type": "code",
   "execution_count": null,
   "metadata": {
    "collapsed": true
   },
   "outputs": [],
   "source": []
  }
 ],
 "metadata": {
  "anaconda-cloud": {},
  "kernelspec": {
   "display_name": "Python [conda root]",
   "language": "python",
   "name": "conda-root-py"
  },
  "language_info": {
   "codemirror_mode": {
    "name": "ipython",
    "version": 2
   },
   "file_extension": ".py",
   "mimetype": "text/x-python",
   "name": "python",
   "nbconvert_exporter": "python",
   "pygments_lexer": "ipython2",
   "version": "2.7.12"
  }
 },
 "nbformat": 4,
 "nbformat_minor": 1
}
