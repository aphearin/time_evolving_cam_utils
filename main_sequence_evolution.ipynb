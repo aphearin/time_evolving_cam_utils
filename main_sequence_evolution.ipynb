{
 "cells": [
  {
   "cell_type": "code",
   "execution_count": 1,
   "metadata": {
    "collapsed": true
   },
   "outputs": [],
   "source": [
    "%matplotlib inline\n",
    "from matplotlib import pyplot as plt\n",
    "from matplotlib import lines as mlines\n",
    "from astropy.cosmology import Planck13"
   ]
  },
  {
   "cell_type": "code",
   "execution_count": 2,
   "metadata": {
    "collapsed": true
   },
   "outputs": [],
   "source": [
    "import os\n",
    "from astropy.table import Table\n",
    "dirname = \"/Users/aphearin/Dropbox/UniverseMachine/data/histories/prelim_sfh_reduction\"\n",
    "history_fname = \"sfh_catalog_1.002310_smcut_9.50_value_added_histories.hdf5\"\n",
    "histories = Table.read(os.path.join(dirname, history_fname), path='data')\n",
    "cosmic_age_array = np.load(os.path.join(dirname, 'times.npy'))"
   ]
  },
  {
   "cell_type": "code",
   "execution_count": 3,
   "metadata": {
    "collapsed": true
   },
   "outputs": [],
   "source": [
    "from read_sfh import get_scales\n",
    "dirname=\"/Users/aphearin/Dropbox/UniverseMachine/data/histories\"\n",
    "basename=\"small_sfh_catalog_1.002310.txt\"\n",
    "tree_fname = os.path.join(dirname, basename)\n",
    "scale_factor_array = get_scales(tree_fname)\n",
    "redshift_array = (1./scale_factor_array) - 1\n",
    "redshift_array[-1] = 0."
   ]
  },
  {
   "cell_type": "markdown",
   "metadata": {},
   "source": [
    "## Cross-match to get Vmax at Mpeak"
   ]
  },
  {
   "cell_type": "code",
   "execution_count": 9,
   "metadata": {
    "collapsed": false
   },
   "outputs": [],
   "source": [
    "from halotools.sim_manager import CachedHaloCatalog\n",
    "halocat = CachedHaloCatalog(simname='bolplanck')\n",
    "\n",
    "from halotools.utils import crossmatch\n",
    "idxA, idxB = crossmatch(histories['id'], halocat.halo_table['halo_id'])\n",
    "\n",
    "histories['vmax_at_mpeak'] = 0.\n",
    "histories['vmax_at_mpeak'][idxA] = halocat.halo_table['halo_vmax_mpeak'][idxB]"
   ]
  },
  {
   "cell_type": "markdown",
   "metadata": {},
   "source": [
    "### Build a lookup table"
   ]
  },
  {
   "cell_type": "code",
   "execution_count": 15,
   "metadata": {
    "collapsed": false
   },
   "outputs": [],
   "source": [
    "from halotools.mock_observables import mean_y_vs_x\n",
    "\n",
    "log_vmax_table, log_sm_table, __ = mean_y_vs_x(np.log10(histories['vmax_at_mpeak']), \n",
    "                                           np.log10(histories['sm']))"
   ]
  },
  {
   "cell_type": "markdown",
   "metadata": {},
   "source": [
    "## Calculate evolution of main sequence peak for different $M_*$"
   ]
  },
  {
   "cell_type": "code",
   "execution_count": 17,
   "metadata": {
    "collapsed": true
   },
   "outputs": [],
   "source": [
    "from main_sequence_sfr import mean_sfr\n",
    "from sfr_designation import quiescent_fraction"
   ]
  },
  {
   "cell_type": "code",
   "execution_count": 35,
   "metadata": {
    "collapsed": true
   },
   "outputs": [],
   "source": [
    "logsm_bins = np.arange(9.5, 11.75, 0.25)\n",
    "logsm_mids = (logsm_bins[:-1] + logsm_bins[1:])/2.\n",
    "Vmax_array = 10**np.interp(logsm_mids, log_sm_table, log_vmax_table)"
   ]
  },
  {
   "cell_type": "code",
   "execution_count": 39,
   "metadata": {
    "collapsed": false
   },
   "outputs": [],
   "source": [
    "quiescent_fraction_array = np.zeros((len(Vmax_array), len(redshift_array)))\n",
    "\n",
    "for ibin, Vmax in enumerate(Vmax_array):\n",
    "    quiescent_fraction_array[ibin, :] = quiescent_fraction(Vmax, redshift=redshift_array)"
   ]
  },
  {
   "cell_type": "code",
   "execution_count": 61,
   "metadata": {
    "collapsed": false
   },
   "outputs": [
    {
     "data": {
      "image/png": "[encoded data removed]",
      "text/plain": [
       "<matplotlib.figure.Figure at 0x17a959310>"
      ]
     },
     "metadata": {},
     "output_type": "display_data"
    }
   ],
   "source": [
    "from scipy.signal import savgol_filter\n",
    "\n",
    "fig1 = plt.figure()\n",
    "ax = fig1.add_subplot(111)\n",
    "# ax2 = ax.twiny()\n",
    "\n",
    "xlabel = ax.set_xlabel('redshift', fontsize=20)\n",
    "ylabel = ax.set_ylabel(r'quenched fraction', fontsize=20)\n",
    "title = ax.set_title(r'${\\rm F_Q}(z)$: $M_{\\ast}$-dependence', fontsize=20, y=1.02) # y param fixes an overhanging title\n",
    "\n",
    "ifirst=0\n",
    "\n",
    "lw = 1.5\n",
    "ax.plot(redshift_array, quiescent_fraction_array[0, :], \n",
    "         color='purple', linewidth=lw)\n",
    "ax.plot(redshift_array, quiescent_fraction_array[1, :], \n",
    "         color='magenta', linewidth=lw)\n",
    "ax.plot(redshift_array, quiescent_fraction_array[2, :], \n",
    "         color='blue', linewidth=lw)\n",
    "ax.plot(redshift_array, quiescent_fraction_array[3, :], \n",
    "         color='darkturquoise', linewidth=lw)\n",
    "ax.plot(redshift_array, quiescent_fraction_array[4, :], \n",
    "         color='green', linewidth=lw)\n",
    "ax.plot(redshift_array, quiescent_fraction_array[5, :], \n",
    "         color='darkseagreen', linewidth=lw)\n",
    "ax.plot(redshift_array, quiescent_fraction_array[6, :], \n",
    "         color='orange', linewidth=lw)\n",
    "ax.plot(redshift_array, quiescent_fraction_array[7, :], \n",
    "         color='red', linewidth=lw)\n",
    "\n",
    "\n",
    "plt.xlim(xmin = 3, xmax=0)\n",
    "plt.ylim(ymin = -0.5, ymax = 1.5)\n",
    "\n",
    "plt.xticks(fontsize=14)\n",
    "plt.yticks(fontsize=14)\n",
    "ax.tick_params(axis='x', length=4, width=1, which='major')\n",
    "ax.tick_params(axis='x', length=2, width=1, which='minor')\n",
    "ax.tick_params(axis='y', length=4, width=1, which='major')\n",
    "ax.tick_params(axis='y', length=2, width=1, which='minor')\n",
    "\n",
    "purple_line = mlines.Line2D([], [], ls = '-', c = 'purple', linewidth=lw, label='[9.5, 9.75]')\n",
    "magenta_line = mlines.Line2D([], [], ls = '-', c = 'magenta', linewidth=lw, label='[9.75, 10]')\n",
    "blue_line = mlines.Line2D([], [], ls = '-', c = 'blue', linewidth=lw, label='[10, 10.25]')\n",
    "darkturquoise_line = mlines.Line2D([], [], ls = '-', c = 'darkturquoise', linewidth=lw, label='[10.25, 10.5]')\n",
    "green_line = mlines.Line2D([], [], ls = '-', c = 'green', linewidth=lw, label='[10.5, 10.75]')\n",
    "darkseagreen_line = mlines.Line2D([], [], ls = '-', c = 'darkseagreen', linewidth=lw, label='[10.75, 11]')\n",
    "orange_line = mlines.Line2D([], [], ls = '-', c = 'orange', linewidth=lw, label='[11, 11.25]')\n",
    "red_line = mlines.Line2D([], [], ls = '-', c = 'red', linewidth=lw, label='[11.25, 11.5]')\n",
    "\n",
    "first_legend = plt.legend(handles=[red_line, orange_line, darkseagreen_line, green_line], \n",
    "                                frameon=False, loc='upper left', fontsize=14)\n",
    "ax.add_artist(first_legend)\n",
    "\n",
    "second_legend = plt.legend(handles=[darkturquoise_line, blue_line, magenta_line, purple_line], \n",
    "                                frameon=False, loc='lower left', fontsize=14)\n",
    "ax.add_artist(second_legend)\n",
    "\n",
    "fig1.savefig('FIGS/quenched_fraction_history_sm_dependence.pdf', \n",
    "             bbox_extra_artists=[xlabel, ylabel], bbox_inches='tight')"
   ]
  },
  {
   "cell_type": "code",
   "execution_count": null,
   "metadata": {
    "collapsed": true
   },
   "outputs": [],
   "source": []
  },
  {
   "cell_type": "code",
   "execution_count": null,
   "metadata": {
    "collapsed": true
   },
   "outputs": [],
   "source": []
  },
  {
   "cell_type": "code",
   "execution_count": null,
   "metadata": {
    "collapsed": true
   },
   "outputs": [],
   "source": []
  },
  {
   "cell_type": "code",
   "execution_count": null,
   "metadata": {
    "collapsed": true
   },
   "outputs": [],
   "source": []
  }
 ],
 "metadata": {
  "kernelspec": {
   "display_name": "Python [conda root]",
   "language": "python",
   "name": "conda-root-py"
  },
  "language_info": {
   "codemirror_mode": {
    "name": "ipython",
    "version": 2
   },
   "file_extension": ".py",
   "mimetype": "text/x-python",
   "name": "python",
   "nbconvert_exporter": "python",
   "pygments_lexer": "ipython2",
   "version": "2.7.12"
  }
 },
 "nbformat": 4,
 "nbformat_minor": 1
}
