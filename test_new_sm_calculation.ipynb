{
 "metadata": {
  "name": "",
  "signature": "sha256:c064b5294b37c65ed62680be2917044054abffb3514aabde6b3107fc066a0ecb"
 },
 "nbformat": 3,
 "nbformat_minor": 0,
 "worksheets": [
  {
   "cells": [
    {
     "cell_type": "code",
     "collapsed": false,
     "input": [
      "%matplotlib inline\n",
      "from matplotlib import pyplot as plt"
     ],
     "language": "python",
     "metadata": {},
     "outputs": [],
     "prompt_number": 1
    },
    {
     "cell_type": "code",
     "collapsed": false,
     "input": [
      "import os\n",
      "from astropy.table import Table\n",
      "dirname = \"/Users/aphearin/Dropbox/UniverseMachine/data/histories/prelim_sfh_reduction\"\n",
      "history_fname = \"sfh_catalog_1.002310_smcut_9.50_formatted_histories.hdf5\"\n",
      "histories = Table.read(os.path.join(dirname, history_fname), path='data')"
     ],
     "language": "python",
     "metadata": {},
     "outputs": [],
     "prompt_number": 2
    },
    {
     "cell_type": "code",
     "collapsed": false,
     "input": [
      "from history_functions import stellar_mass_t_now\n",
      "\n",
      "t_now = 13.828\n",
      "sm = stellar_mass_t_now(histories['sfh'], t_now)\n",
      "\n",
      "fracdiff = (sm - histories['sm'])/histories['sm']\n",
      "\n",
      "__ = plt.hist(fracdiff, np.linspace(-0.02, 0.02, 1000))"
     ],
     "language": "python",
     "metadata": {},
     "outputs": [
      {
       "metadata": {},
       "output_type": "display_data",
       "png": "[encoded data removed]",
       "text": [
        "<matplotlib.figure.Figure at 0x106310fd0>"
       ]
      }
     ],
     "prompt_number": 4
    },
    {
     "cell_type": "code",
     "collapsed": false,
     "input": [
      "from history_functions import stellar_mass_histories\n",
      "\n",
      "sm_histories = stellar_mass_histories(histories['sfh'])\n"
     ],
     "language": "python",
     "metadata": {},
     "outputs": [],
     "prompt_number": 5
    },
    {
     "cell_type": "code",
     "collapsed": false,
     "input": [
      "sm_histories.shape"
     ],
     "language": "python",
     "metadata": {},
     "outputs": [
      {
       "metadata": {},
       "output_type": "pyout",
       "prompt_number": 6,
       "text": [
        "(390417, 178)"
       ]
      }
     ],
     "prompt_number": 6
    },
    {
     "cell_type": "code",
     "collapsed": false,
     "input": [
      "nonzero_mask = (sm_histories != 0.) & (histories['sfh'] != 0)\n",
      "ssfr_histories = np.zeros_like(sm_histories)\n",
      "ssfr_histories += np.random.normal(loc=-13, scale=0.01, size=np.product(sm_histories.shape)).reshape((sm_histories.shape))\n",
      "ssfr_histories[nonzero_mask] = np.log10(histories['sfh'][nonzero_mask]/sm_histories[nonzero_mask])"
     ],
     "language": "python",
     "metadata": {},
     "outputs": [],
     "prompt_number": 25
    },
    {
     "cell_type": "code",
     "collapsed": false,
     "input": [
      "from history_functions import bolplanck_ages\n",
      "\n",
      "iran = np.random.randint(0, len(histories)-1)\n",
      "\n",
      "if np.log10(histories['sfr'][iran]/histories['sm'][iran]) < -11:\n",
      "    c = 'red'\n",
      "else:\n",
      "    c = 'blue'\n",
      "\n",
      "plt.plot(bolplanck_ages, ssfr_histories[iran, :], color=c)\n",
      "plt.plot(np.linspace(-1, 100, 100), np.zeros(100)-11, '--', color='gray')\n",
      "plt.xlim(xmin=0, xmax=14)"
     ],
     "language": "python",
     "metadata": {},
     "outputs": [
      {
       "metadata": {},
       "output_type": "pyout",
       "prompt_number": 43,
       "text": [
        "(0, 14)"
       ]
      },
      {
       "metadata": {},
       "output_type": "display_data",
       "png": "[encoded data removed]",
       "text": [
        "<matplotlib.figure.Figure at 0x12a51dc50>"
       ]
      }
     ],
     "prompt_number": 43
    },
    {
     "cell_type": "code",
     "collapsed": false,
     "input": [],
     "language": "python",
     "metadata": {},
     "outputs": [],
     "prompt_number": 16
    },
    {
     "cell_type": "code",
     "collapsed": false,
     "input": [],
     "language": "python",
     "metadata": {},
     "outputs": []
    }
   ],
   "metadata": {}
  }
 ]
}