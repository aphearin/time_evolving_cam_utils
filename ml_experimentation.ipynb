{
 "cells": [
  {
   "cell_type": "code",
   "execution_count": 1,
   "metadata": {
    "collapsed": true
   },
   "outputs": [],
   "source": [
    "%matplotlib inline\n",
    "from matplotlib import pyplot as plt\n",
    "from matplotlib import lines as mlines\n",
    "import os\n",
    "from astropy.table import Table"
   ]
  },
  {
   "cell_type": "code",
   "execution_count": 2,
   "metadata": {
    "collapsed": true
   },
   "outputs": [],
   "source": [
    "from read_sfh import get_scales\n",
    "small_file_fname = \"/Users/aphearin/Dropbox/UniverseMachine/data/histories/small_sfh_catalog_1.002310.txt\"\n",
    "scale_factor_array = get_scales(small_file_fname)"
   ]
  },
  {
   "cell_type": "code",
   "execution_count": 3,
   "metadata": {
    "collapsed": false
   },
   "outputs": [],
   "source": [
    "from assemble_catalog import assemble_catalog as assemble_history_data\n",
    "\n",
    "snapshot_root_dirname = \"/Users/aphearin/Dropbox/UniverseMachine/data/binary_reductions/z0/binaries/\"\n",
    "num_subvols = 144\n",
    "history_cols = ('halo_id', 'halo_upid', 'halo_mpeak', 'halo_vmax_at_mpeak', 'halo_tidal_force', \n",
    "                'stellar_mass', 'sfr', 'sfr_mp', 'sm_mp')\n",
    "history_data = Table(assemble_history_data(snapshot_root_dirname, num_subvols, *history_cols))\n",
    "\n",
    "history_data['ssfr'] = history_data['sfr']/history_data['stellar_mass']\n",
    "history_data['is_quenched'] = history_data['ssfr'] < 10**-11"
   ]
  },
  {
   "cell_type": "code",
   "execution_count": 4,
   "metadata": {
    "collapsed": false
   },
   "outputs": [
    {
     "name": "stdout",
     "output_type": "stream",
     "text": [
      "Available columns = \n",
      "['halo_id', 'x', 'y', 'z', 'vx', 'vy', 'vz', 'acc_rate_1tdyn', 'mpeak_scale', 'first_acc_scale', 'delta_vmax_tdyn_behroozi16']\n",
      "\n",
      "number of halos in snapshot = 12085858\n"
     ]
    }
   ],
   "source": [
    "from halocat_binary_reduction import assemble_halocat, read_column_info_array\n",
    "\n",
    "halocat_binary_dirname = \"/Users/aphearin/Dropbox/UniverseMachine/data/halocat_snapshot/a_1.00231\"\n",
    "column_info_fname = os.path.join(os.path.dirname(halocat_binary_dirname), 'column_info.dat')\n",
    "column_info_array = read_column_info_array(column_info_fname)\n",
    "propnames = ('halo_id', 'first_acc_scale', 'acc_rate_1tdyn', 'mpeak_scale', 'delta_vmax_tdyn_behroozi16', \n",
    "            'x', 'y', 'z', 'vx', 'vy', 'vz')\n",
    "halo_table = Table(assemble_halocat(halocat_binary_dirname, column_info_array, *propnames))\n",
    "print(\"Available columns = \\n{0}\\n\".format(halo_table.keys()))\n",
    "print(\"number of halos in snapshot = {0}\".format(len(halo_table)))"
   ]
  },
  {
   "cell_type": "code",
   "execution_count": 6,
   "metadata": {
    "collapsed": false
   },
   "outputs": [],
   "source": [
    "from halotools.utils import crossmatch\n",
    "idxA, idxB = crossmatch(history_data['halo_id'].data, halo_table['halo_id'].data)\n",
    "cat = history_data[idxA]\n",
    "\n",
    "keys_to_add = ('x', 'y', 'z', 'vx', 'vy', 'vz', \n",
    "               'first_acc_scale', 'acc_rate_1tdyn', 'mpeak_scale', 'delta_vmax_tdyn_behroozi16')\n",
    "for key in keys_to_add:\n",
    "    cat[key] = halo_table[key][idxB]"
   ]
  },
  {
   "cell_type": "code",
   "execution_count": null,
   "metadata": {
    "collapsed": false
   },
   "outputs": [],
   "source": [
    "print(\"Percentage of histories with unmatched halos = {0:.3f}\".format(\n",
    "        len(history_data[idxA])/float(len(history_data))))"
   ]
  },
  {
   "cell_type": "code",
   "execution_count": null,
   "metadata": {
    "collapsed": false
   },
   "outputs": [],
   "source": [
    "from sklearn.linear_model import LogisticRegression\n",
    "logit = LogisticRegression()"
   ]
  },
  {
   "cell_type": "code",
   "execution_count": null,
   "metadata": {
    "collapsed": true
   },
   "outputs": [],
   "source": [
    "low_logsm, high_logsm = 10, 10.1\n",
    "sample_mask = (cat['stellar_mass'] > 10**low_logsm) & (cat['stellar_mass'] < 10**high_logsm)\n",
    "sample = cat[sample_mask]"
   ]
  },
  {
   "cell_type": "code",
   "execution_count": null,
   "metadata": {
    "collapsed": false
   },
   "outputs": [],
   "source": [
    "features = ('halo_delta_vmax_behroozi17', )\n",
    "n_samples, n_features = len(sample), len(features)\n",
    "\n",
    "X = np.zeros((n_samples, n_features))\n",
    "for i, feature in enumerate(features):\n",
    "    X[:, 0] = sample[feature]\n",
    "y = sample['is_quenched'].data"
   ]
  },
  {
   "cell_type": "code",
   "execution_count": null,
   "metadata": {
    "collapsed": false
   },
   "outputs": [],
   "source": [
    "logit = logit.fit(X, y)"
   ]
  },
  {
   "cell_type": "code",
   "execution_count": null,
   "metadata": {
    "collapsed": false
   },
   "outputs": [],
   "source": [
    "plt.scatter(sample['halo_delta_vmax_behroozi17'], sample['is_quenched'])"
   ]
  },
  {
   "cell_type": "code",
   "execution_count": null,
   "metadata": {
    "collapsed": true
   },
   "outputs": [],
   "source": [
    "guess, confidence = logit.predict(X), logit.decision_function(X)"
   ]
  },
  {
   "cell_type": "code",
   "execution_count": null,
   "metadata": {
    "collapsed": false
   },
   "outputs": [],
   "source": [
    "np.mean(guess == y)"
   ]
  },
  {
   "cell_type": "code",
   "execution_count": null,
   "metadata": {
    "collapsed": false
   },
   "outputs": [],
   "source": [
    "confidence[0:10]"
   ]
  },
  {
   "cell_type": "code",
   "execution_count": null,
   "metadata": {
    "collapsed": false
   },
   "outputs": [],
   "source": [
    "__ = plt.hist(confidence, bins = np.linspace(-5, 5, 100))"
   ]
  },
  {
   "cell_type": "code",
   "execution_count": null,
   "metadata": {
    "collapsed": true
   },
   "outputs": [],
   "source": []
  }
 ],
 "metadata": {
  "anaconda-cloud": {},
  "kernelspec": {
   "display_name": "Python [conda root]",
   "language": "python",
   "name": "conda-root-py"
  },
  "language_info": {
   "codemirror_mode": {
    "name": "ipython",
    "version": 2
   },
   "file_extension": ".py",
   "mimetype": "text/x-python",
   "name": "python",
   "nbconvert_exporter": "python",
   "pygments_lexer": "ipython2",
   "version": "2.7.12"
  }
 },
 "nbformat": 4,
 "nbformat_minor": 1
}
