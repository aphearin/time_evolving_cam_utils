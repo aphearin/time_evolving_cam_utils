{
 "cells": [
  {
   "cell_type": "code",
   "execution_count": 1,
   "metadata": {
    "collapsed": true
   },
   "outputs": [],
   "source": [
    "%matplotlib inline\n",
    "from matplotlib import pyplot as plt\n",
    "from matplotlib import lines as mlines\n",
    "import os\n",
    "from astropy.table import Table"
   ]
  },
  {
   "cell_type": "markdown",
   "metadata": {},
   "source": [
    "## First load all the data we need into a table\n",
    "\n",
    "We'll collate data both from a halo catalog snapshot an additionally different files storing halo history information. "
   ]
  },
  {
   "cell_type": "code",
   "execution_count": 2,
   "metadata": {
    "collapsed": true
   },
   "outputs": [],
   "source": [
    "from read_sfh import get_scales\n",
    "small_file_fname = \"/Users/aphearin/Dropbox/UniverseMachine/data/histories/small_sfh_catalog_1.002310.txt\"\n",
    "scale_factor_array = get_scales(small_file_fname)"
   ]
  },
  {
   "cell_type": "code",
   "execution_count": 5,
   "metadata": {
    "collapsed": false
   },
   "outputs": [
    {
     "name": "stdout",
     "output_type": "stream",
     "text": [
      "... Assembling history data\n",
      "... Assembling halo catalog data\n",
      "... Cross-matching on halo_id\n",
      "\n",
      "Number of objects in history catalog = 701037\n",
      "Number of objects in halo catalog = 12085858\n",
      "Number of matching objects = 646460\n",
      "Fraction of objects appearing in both catalogs = 0.922\n",
      "Minimum logM* = 9.00\n"
     ]
    }
   ],
   "source": [
    "from collate_full_catalog import collate_catalog\n",
    "z_string = 'z0'\n",
    "\n",
    "\n",
    "history_colnames = ('halo_id', 'halo_upid', 'halo_mpeak', 'halo_vmax_at_mpeak', 'halo_tidal_force', \n",
    "                'stellar_mass', 'sfr', 'sfr_mp', 'sm_mp')\n",
    "history_colnames = ('halo_id', 'halo_upid', 'halo_mpeak', 'halo_vmax_at_mpeak', 'halo_tidal_force', \n",
    "                'stellar_mass', 'sfr')\n",
    "halocat_propnames = ('halo_id', 'first_acc_scale', 'acc_rate_1tdyn', \n",
    "                     'mpeak_scale', 'delta_vmax_tdyn_behroozi16')\n",
    "\n",
    "cat = collate_catalog(z_string, history_colnames=history_colnames, \n",
    "                      halocat_propnames=halocat_propnames, verbose=True)"
   ]
  },
  {
   "cell_type": "code",
   "execution_count": 8,
   "metadata": {
    "collapsed": true
   },
   "outputs": [],
   "source": [
    "from history_functions import calculate_in_situ_ssfr_history\n",
    "cat['ssfr_history'] = calculate_in_situ_ssfr_history(cat['sfr_mp'], cat['sm_mp'])\n",
    "cat['is_quenched'] = cat['sfr']/cat['stellar_mass'] < 10**-11\n",
    "\n",
    "print(cat.keys())"
   ]
  },
  {
   "cell_type": "markdown",
   "metadata": {},
   "source": [
    "## SVM experimentation"
   ]
  },
  {
   "cell_type": "code",
   "execution_count": null,
   "metadata": {
    "collapsed": false
   },
   "outputs": [],
   "source": [
    "from sklearn import svm\n",
    "clf = svm.SVC(gamma=0.001, C=100.)\n",
    "\n",
    "keys_to_use = ('first_acc_scale', 'sfr_mp', 'sm_mp', 'delta_vmax_tdyn_behroozi16', 'mpeak_scale')\n",
    "def val_to_sum(tpl):\n",
    "        if len(tpl) <= 1:\n",
    "            return 1\n",
    "        else:\n",
    "            return np.array(tpl[1:]).prod()\n",
    "\n",
    "np.sum(list(val_to_sum(cat[key].shape) for key in keys_to_use))\n",
    "    \n",
    "# np.array(cat['sfr_mp'].shape[1:]).prod()\n",
    "\n",
    "# np.sum(list(cat[key].shape[1:] for key in keys_to_use))\n",
    "\n",
    "# clf.fit(digits.data[:-1], digits.target[:-1])  "
   ]
  },
  {
   "cell_type": "code",
   "execution_count": null,
   "metadata": {
    "collapsed": true
   },
   "outputs": [],
   "source": []
  },
  {
   "cell_type": "code",
   "execution_count": null,
   "metadata": {
    "collapsed": false
   },
   "outputs": [],
   "source": [
    "from sklearn.linear_model import LogisticRegression\n",
    "logit = LogisticRegression()"
   ]
  },
  {
   "cell_type": "code",
   "execution_count": null,
   "metadata": {
    "collapsed": true
   },
   "outputs": [],
   "source": []
  },
  {
   "cell_type": "code",
   "execution_count": null,
   "metadata": {
    "collapsed": true
   },
   "outputs": [],
   "source": [
    "low_logsm, high_logsm = 10, 10.1\n",
    "sample_mask = (cat['stellar_mass'] > 10**low_logsm) & (cat['stellar_mass'] < 10**high_logsm)\n",
    "sample = cat[sample_mask]"
   ]
  },
  {
   "cell_type": "code",
   "execution_count": null,
   "metadata": {
    "collapsed": false
   },
   "outputs": [],
   "source": [
    "features = ('halo_delta_vmax_behroozi17', )\n",
    "n_samples, n_features = len(sample), len(features)\n",
    "\n",
    "X = np.zeros((n_samples, n_features))\n",
    "for i, feature in enumerate(features):\n",
    "    X[:, 0] = sample[feature]\n",
    "y = sample['is_quenched'].data"
   ]
  },
  {
   "cell_type": "code",
   "execution_count": null,
   "metadata": {
    "collapsed": false
   },
   "outputs": [],
   "source": [
    "logit = logit.fit(X, y)"
   ]
  },
  {
   "cell_type": "code",
   "execution_count": null,
   "metadata": {
    "collapsed": false
   },
   "outputs": [],
   "source": [
    "plt.scatter(sample['halo_delta_vmax_behroozi17'], sample['is_quenched'])"
   ]
  },
  {
   "cell_type": "code",
   "execution_count": null,
   "metadata": {
    "collapsed": true
   },
   "outputs": [],
   "source": [
    "guess, confidence = logit.predict(X), logit.decision_function(X)"
   ]
  },
  {
   "cell_type": "code",
   "execution_count": null,
   "metadata": {
    "collapsed": false
   },
   "outputs": [],
   "source": [
    "np.mean(guess == y)"
   ]
  },
  {
   "cell_type": "code",
   "execution_count": null,
   "metadata": {
    "collapsed": false
   },
   "outputs": [],
   "source": [
    "confidence[0:10]"
   ]
  },
  {
   "cell_type": "code",
   "execution_count": null,
   "metadata": {
    "collapsed": false
   },
   "outputs": [],
   "source": [
    "__ = plt.hist(confidence, bins = np.linspace(-5, 5, 100))"
   ]
  },
  {
   "cell_type": "code",
   "execution_count": null,
   "metadata": {
    "collapsed": false
   },
   "outputs": [],
   "source": [
    "cat.keys()"
   ]
  },
  {
   "cell_type": "code",
   "execution_count": null,
   "metadata": {
    "collapsed": true
   },
   "outputs": [],
   "source": [
    "diff = cat['mpeak'] - cat['halo_mpeak']\n",
    "fracdiff = diff/cat['halo_mpeak']"
   ]
  },
  {
   "cell_type": "code",
   "execution_count": null,
   "metadata": {
    "collapsed": false
   },
   "outputs": [],
   "source": [
    "__ = plt.hist(fracdiff, bins=np.linspace(-0.4, -0.3, 100), normed=True)"
   ]
  },
  {
   "cell_type": "code",
   "execution_count": null,
   "metadata": {
    "collapsed": false
   },
   "outputs": [],
   "source": [
    "from sklearn import svm\n",
    "clf = svm.SVC(gamma=0.001, C=100.)"
   ]
  },
  {
   "cell_type": "code",
   "execution_count": null,
   "metadata": {
    "collapsed": true
   },
   "outputs": [],
   "source": [
    "X, y = \n",
    "clf.fit(digits.data[:-1], digits.target[:-1]) "
   ]
  },
  {
   "cell_type": "code",
   "execution_count": null,
   "metadata": {
    "collapsed": true
   },
   "outputs": [],
   "source": [
    "np.random.normal?"
   ]
  },
  {
   "cell_type": "code",
   "execution_count": 6,
   "metadata": {
    "collapsed": false
   },
   "outputs": [],
   "source": [
    "t = Table()\n",
    "t['x'] =[0.]"
   ]
  },
  {
   "cell_type": "code",
   "execution_count": 12,
   "metadata": {
    "collapsed": false
   },
   "outputs": [
    {
     "data": {
      "text/plain": [
       "('x',)"
      ]
     },
     "execution_count": 12,
     "metadata": {},
     "output_type": "execute_result"
    }
   ],
   "source": [
    "t.dtype.names"
   ]
  },
  {
   "cell_type": "code",
   "execution_count": 11,
   "metadata": {
    "collapsed": false
   },
   "outputs": [
    {
     "data": {
      "text/plain": [
       "('x',)"
      ]
     },
     "execution_count": 11,
     "metadata": {},
     "output_type": "execute_result"
    }
   ],
   "source": [
    "t.as_array().dtype.names"
   ]
  },
  {
   "cell_type": "code",
   "execution_count": null,
   "metadata": {
    "collapsed": true
   },
   "outputs": [],
   "source": []
  }
 ],
 "metadata": {
  "anaconda-cloud": {},
  "kernelspec": {
   "display_name": "Python [conda root]",
   "language": "python",
   "name": "conda-root-py"
  },
  "language_info": {
   "codemirror_mode": {
    "name": "ipython",
    "version": 2
   },
   "file_extension": ".py",
   "mimetype": "text/x-python",
   "name": "python",
   "nbconvert_exporter": "python",
   "pygments_lexer": "ipython2",
   "version": "2.7.12"
  }
 },
 "nbformat": 4,
 "nbformat_minor": 1
}
