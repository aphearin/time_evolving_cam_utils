{
 "cells": [
  {
   "cell_type": "code",
   "execution_count": 1,
   "metadata": {
    "collapsed": true
   },
   "outputs": [],
   "source": [
    "%matplotlib inline\n",
    "from matplotlib import pyplot as plt\n",
    "from matplotlib import lines as mlines\n",
    "import os\n",
    "from astropy.table import Table"
   ]
  },
  {
   "cell_type": "markdown",
   "metadata": {},
   "source": [
    "## First load all the data we need into a table\n",
    "\n",
    "We'll collate data both from a halo catalog snapshot an additionally different files storing halo history information. "
   ]
  },
  {
   "cell_type": "code",
   "execution_count": 2,
   "metadata": {
    "collapsed": true
   },
   "outputs": [],
   "source": [
    "from read_sfh import get_scales\n",
    "small_file_fname = \"/Users/aphearin/Dropbox/UniverseMachine/data/histories/small_sfh_catalog_1.002310.txt\"\n",
    "scale_factor_array = get_scales(small_file_fname)"
   ]
  },
  {
   "cell_type": "code",
   "execution_count": 3,
   "metadata": {
    "collapsed": false
   },
   "outputs": [],
   "source": [
    "from assemble_catalog import assemble_catalog as assemble_history_data\n",
    "\n",
    "snapshot_root_dirname = \"/Users/aphearin/Dropbox/UniverseMachine/data/binary_reductions/z0/binaries/\"\n",
    "num_subvols = 144\n",
    "history_cols = ('halo_id', 'halo_upid', 'halo_mpeak', 'halo_vmax_at_mpeak', 'halo_tidal_force', \n",
    "                'stellar_mass', 'sfr', 'sfr_mp', 'sm_mp')\n",
    "history_data = Table(assemble_history_data(snapshot_root_dirname, num_subvols, *history_cols))\n"
   ]
  },
  {
   "cell_type": "code",
   "execution_count": null,
   "metadata": {
    "collapsed": false
   },
   "outputs": [],
   "source": [
    "def calculate_in_situ_ssfr_history(history_data, loc=-11.8, scale=0.3):\n",
    "    nonzero_mask = history_data['sm_mp'] > 0.\n",
    "    result = np.zeros_like(nonzero_mask).astype('f4')\n",
    "    result[nonzero_mask] = history_data['sfr_mp'][nonzero_mask] / history_data['sm_mp'][nonzero_mask]\n",
    "    result[~nonzero_mask] = np.nan\n",
    "    result[np.isnan(result)] = 10**np.random.normal(loc=loc, scale=scale, size=len(result[np.isnan(result)]))\n",
    "    return result\n",
    "\n",
    "history_data['ssfr_history'] = calculate_in_situ_ssfr_history(history_data)\n",
    "history_data['in_situ_quenched_history'] = history_data['ssfr_history'] < 10**-11"
   ]
  },
  {
   "cell_type": "code",
   "execution_count": null,
   "metadata": {
    "collapsed": false
   },
   "outputs": [],
   "source": [
    "from halocat_binary_reduction import assemble_halocat, read_column_info_array\n",
    "\n",
    "halocat_binary_dirname = \"/Users/aphearin/Dropbox/UniverseMachine/data/halocat_snapshot/a_1.00231\"\n",
    "column_info_fname = os.path.join(os.path.dirname(halocat_binary_dirname), 'column_info.dat')\n",
    "column_info_array = read_column_info_array(column_info_fname)\n",
    "propnames = ('halo_id', 'first_acc_scale', 'acc_rate_1tdyn', 'mpeak_scale', 'delta_vmax_tdyn_behroozi16', \n",
    "            'x', 'y', 'z', 'vx', 'vy', 'vz', 'mpeak')\n",
    "halo_table = Table(assemble_halocat(halocat_binary_dirname, column_info_array, *propnames))\n",
    "print(\"Available columns = \\n{0}\\n\".format(halo_table.keys()))\n",
    "print(\"number of halos in snapshot = {0}\".format(len(halo_table)))"
   ]
  },
  {
   "cell_type": "code",
   "execution_count": null,
   "metadata": {
    "collapsed": false
   },
   "outputs": [],
   "source": [
    "from halotools.utils import crossmatch\n",
    "idxA, idxB = crossmatch(history_data['halo_id'].data, halo_table['halo_id'].data)\n",
    "cat = history_data[idxA]\n",
    "\n",
    "keys_to_add = ('x', 'y', 'z', 'vx', 'vy', 'vz', \n",
    "               'first_acc_scale', 'acc_rate_1tdyn', 'mpeak_scale', \n",
    "               'delta_vmax_tdyn_behroozi16', 'mpeak')\n",
    "for key in keys_to_add:\n",
    "    cat[key] = halo_table[key][idxB]"
   ]
  },
  {
   "cell_type": "code",
   "execution_count": null,
   "metadata": {
    "collapsed": false
   },
   "outputs": [],
   "source": [
    "print(\"Percentage of histories with unmatched halos = {0:.3f}\".format(\n",
    "        len(history_data[idxA])/float(len(history_data))))"
   ]
  },
  {
   "cell_type": "code",
   "execution_count": null,
   "metadata": {
    "collapsed": false
   },
   "outputs": [],
   "source": [
    "print(cat.keys())"
   ]
  },
  {
   "cell_type": "markdown",
   "metadata": {},
   "source": [
    "## SVM experimentation"
   ]
  },
  {
   "cell_type": "code",
   "execution_count": null,
   "metadata": {
    "collapsed": false
   },
   "outputs": [],
   "source": [
    "from sklearn import svm\n",
    "clf = svm.SVC(gamma=0.001, C=100.)\n",
    "\n",
    "keys_to_use = ('first_acc_scale', 'sfr_mp', 'sm_mp', 'delta_vmax_tdyn_behroozi16', 'mpeak_scale')\n",
    "def val_to_sum(tpl):\n",
    "        if len(tpl) <= 1:\n",
    "            return 1\n",
    "        else:\n",
    "            return np.array(tpl[1:]).prod()\n",
    "\n",
    "np.sum(list(val_to_sum(cat[key].shape) for key in keys_to_use))\n",
    "    \n",
    "# np.array(cat['sfr_mp'].shape[1:]).prod()\n",
    "\n",
    "# np.sum(list(cat[key].shape[1:] for key in keys_to_use))\n",
    "\n",
    "# clf.fit(digits.data[:-1], digits.target[:-1])  "
   ]
  },
  {
   "cell_type": "code",
   "execution_count": null,
   "metadata": {
    "collapsed": true
   },
   "outputs": [],
   "source": []
  },
  {
   "cell_type": "code",
   "execution_count": null,
   "metadata": {
    "collapsed": false
   },
   "outputs": [],
   "source": [
    "from sklearn.linear_model import LogisticRegression\n",
    "logit = LogisticRegression()"
   ]
  },
  {
   "cell_type": "code",
   "execution_count": null,
   "metadata": {
    "collapsed": true
   },
   "outputs": [],
   "source": []
  },
  {
   "cell_type": "code",
   "execution_count": null,
   "metadata": {
    "collapsed": true
   },
   "outputs": [],
   "source": [
    "low_logsm, high_logsm = 10, 10.1\n",
    "sample_mask = (cat['stellar_mass'] > 10**low_logsm) & (cat['stellar_mass'] < 10**high_logsm)\n",
    "sample = cat[sample_mask]"
   ]
  },
  {
   "cell_type": "code",
   "execution_count": null,
   "metadata": {
    "collapsed": false
   },
   "outputs": [],
   "source": [
    "features = ('halo_delta_vmax_behroozi17', )\n",
    "n_samples, n_features = len(sample), len(features)\n",
    "\n",
    "X = np.zeros((n_samples, n_features))\n",
    "for i, feature in enumerate(features):\n",
    "    X[:, 0] = sample[feature]\n",
    "y = sample['is_quenched'].data"
   ]
  },
  {
   "cell_type": "code",
   "execution_count": null,
   "metadata": {
    "collapsed": false
   },
   "outputs": [],
   "source": [
    "logit = logit.fit(X, y)"
   ]
  },
  {
   "cell_type": "code",
   "execution_count": null,
   "metadata": {
    "collapsed": false
   },
   "outputs": [],
   "source": [
    "plt.scatter(sample['halo_delta_vmax_behroozi17'], sample['is_quenched'])"
   ]
  },
  {
   "cell_type": "code",
   "execution_count": null,
   "metadata": {
    "collapsed": true
   },
   "outputs": [],
   "source": [
    "guess, confidence = logit.predict(X), logit.decision_function(X)"
   ]
  },
  {
   "cell_type": "code",
   "execution_count": null,
   "metadata": {
    "collapsed": false
   },
   "outputs": [],
   "source": [
    "np.mean(guess == y)"
   ]
  },
  {
   "cell_type": "code",
   "execution_count": null,
   "metadata": {
    "collapsed": false
   },
   "outputs": [],
   "source": [
    "confidence[0:10]"
   ]
  },
  {
   "cell_type": "code",
   "execution_count": null,
   "metadata": {
    "collapsed": false
   },
   "outputs": [],
   "source": [
    "__ = plt.hist(confidence, bins = np.linspace(-5, 5, 100))"
   ]
  },
  {
   "cell_type": "code",
   "execution_count": null,
   "metadata": {
    "collapsed": false
   },
   "outputs": [],
   "source": [
    "cat.keys()"
   ]
  },
  {
   "cell_type": "code",
   "execution_count": null,
   "metadata": {
    "collapsed": true
   },
   "outputs": [],
   "source": [
    "diff = cat['mpeak'] - cat['halo_mpeak']\n",
    "fracdiff = diff/cat['halo_mpeak']"
   ]
  },
  {
   "cell_type": "code",
   "execution_count": null,
   "metadata": {
    "collapsed": false
   },
   "outputs": [],
   "source": [
    "__ = plt.hist(fracdiff, bins=np.linspace(-0.4, -0.3, 100), normed=True)"
   ]
  },
  {
   "cell_type": "code",
   "execution_count": null,
   "metadata": {
    "collapsed": false
   },
   "outputs": [],
   "source": [
    "from sklearn import svm\n",
    "clf = svm.SVC(gamma=0.001, C=100.)"
   ]
  },
  {
   "cell_type": "code",
   "execution_count": null,
   "metadata": {
    "collapsed": true
   },
   "outputs": [],
   "source": [
    "X, y = \n",
    "clf.fit(digits.data[:-1], digits.target[:-1]) "
   ]
  },
  {
   "cell_type": "code",
   "execution_count": null,
   "metadata": {
    "collapsed": true
   },
   "outputs": [],
   "source": [
    "np.random.normal?"
   ]
  },
  {
   "cell_type": "code",
   "execution_count": null,
   "metadata": {
    "collapsed": true
   },
   "outputs": [],
   "source": []
  }
 ],
 "metadata": {
  "anaconda-cloud": {},
  "kernelspec": {
   "display_name": "Python [conda root]",
   "language": "python",
   "name": "conda-root-py"
  },
  "language_info": {
   "codemirror_mode": {
    "name": "ipython",
    "version": 2
   },
   "file_extension": ".py",
   "mimetype": "text/x-python",
   "name": "python",
   "nbconvert_exporter": "python",
   "pygments_lexer": "ipython2",
   "version": "2.7.12"
  }
 },
 "nbformat": 4,
 "nbformat_minor": 1
}
