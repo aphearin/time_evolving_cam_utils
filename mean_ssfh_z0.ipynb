{
 "cells": [
  {
   "cell_type": "code",
   "execution_count": 1,
   "metadata": {
    "collapsed": true
   },
   "outputs": [],
   "source": [
    "%matplotlib inline\n",
    "from matplotlib import pyplot as plt"
   ]
  },
  {
   "cell_type": "code",
   "execution_count": 2,
   "metadata": {
    "collapsed": true
   },
   "outputs": [],
   "source": [
    "import os\n",
    "from astropy.table import Table\n",
    "dirname = \"/Users/aphearin/Dropbox/UniverseMachine/data/histories/prelim_sfh_reduction\"\n",
    "history_fname = \"sfh_catalog_1.002310_smcut_9.50_value_added_histories.hdf5\"\n",
    "histories = Table.read(os.path.join(dirname, history_fname), path='data')\n",
    "cosmic_age_array = np.load(os.path.join(dirname, 'times.npy'))"
   ]
  },
  {
   "cell_type": "markdown",
   "metadata": {},
   "source": [
    "## Create z=0 sample masks"
   ]
  },
  {
   "cell_type": "code",
   "execution_count": 21,
   "metadata": {
    "collapsed": true
   },
   "outputs": [],
   "source": [
    "histories['logssfr'] = np.log10(histories['sfr']/histories['sm'])"
   ]
  },
  {
   "cell_type": "code",
   "execution_count": 46,
   "metadata": {
    "collapsed": false
   },
   "outputs": [],
   "source": [
    "logsm_bins = np.arange(9.5, 11.75, 0.25)\n",
    "sm_mask_array = np.zeros((len(logsm_bins)-1, len(histories)), dtype=bool)\n",
    "quenched_sm_mask_array = np.zeros_like(sm_mask_array, dtype=bool)\n",
    "active_sm_mask_array = np.zeros_like(sm_mask_array, dtype=bool)\n",
    "centrals_sm_mask_array = np.zeros_like(sm_mask_array, dtype=bool)\n",
    "quenched_centrals_sm_mask_array = np.zeros_like(sm_mask_array)\n",
    "active_centrals_sm_mask_array = np.zeros_like(sm_mask_array)\n",
    "satellites_sm_mask_array = np.zeros_like(sm_mask_array)\n",
    "quenched_satellites_sm_mask_array = np.zeros_like(sm_mask_array)\n",
    "active_satellites_sm_mask_array = np.zeros_like(sm_mask_array)\n",
    "\n",
    "for ibin, logsm_low, logsm_high in zip(range(sm_mask_array.shape[0]), logsm_bins[:-1], logsm_bins[1:]):\n",
    "    sm_mask_array[ibin, :] = (histories['sm'] >= 10**logsm_low) & (histories['sm'] < 10**logsm_high)\n",
    "    quenched_sm_mask_array[ibin, :] = sm_mask_array[ibin, :]*(histories['logssfr'] <= -11)\n",
    "    active_sm_mask_array[ibin, :] = sm_mask_array[ibin, :]*(histories['logssfr'] > -11)\n",
    "    \n",
    "    centrals_sm_mask_array[ibin, :] = sm_mask_array[ibin, :]*(histories['upid'] == -1)\n",
    "    quenched_centrals_sm_mask_array[ibin, :] = centrals_sm_mask_array[ibin, :]*(histories['logssfr'] <= -11)\n",
    "    active_centrals_sm_mask_array[ibin, :] = centrals_sm_mask_array[ibin, :]*(histories['logssfr'] > -11)\n",
    "    \n",
    "    satellites_sm_mask_array[ibin, :] = sm_mask_array[ibin, :]*(histories['upid'] != -1)\n",
    "    quenched_satellites_sm_mask_array[ibin, :] = satellites_sm_mask_array[ibin, :]*(histories['logssfr'] <= -11)\n",
    "    active_satellites_sm_mask_array[ibin, :] = satellites_sm_mask_array[ibin, :]*(histories['logssfr'] > -11)"
   ]
  },
  {
   "cell_type": "markdown",
   "metadata": {},
   "source": [
    "## Calculate average ssfr histories"
   ]
  },
  {
   "cell_type": "code",
   "execution_count": 31,
   "metadata": {
    "collapsed": true
   },
   "outputs": [],
   "source": [
    "from history_functions import ssfr_histories"
   ]
  },
  {
   "cell_type": "code",
   "execution_count": 48,
   "metadata": {
    "collapsed": false
   },
   "outputs": [],
   "source": [
    "imask1 = 1\n",
    "imask2 = -4\n",
    "\n",
    "mean_ssfh_low_mass = np.mean(ssfr_histories(histories['sfh'][sm_mask_array[imask1,:]], \n",
    "                                            histories['smh'][sm_mask_array[imask1,:]]), axis=0)\n",
    "mean_ssfh_high_mass = np.mean(ssfr_histories(histories['sfh'][sm_mask_array[imask2,:]], \n",
    "                                            histories['smh'][sm_mask_array[imask2,:]]), axis=0)\n",
    "\n",
    "mean_ssfh_low_mass_q = np.mean(ssfr_histories(histories['sfh'][quenched_sm_mask_array[imask1,:]], \n",
    "                                            histories['smh'][quenched_sm_mask_array[imask1,:]]), axis=0)\n",
    "mean_ssfh_low_mass_a = np.mean(ssfr_histories(histories['sfh'][active_sm_mask_array[imask1,:]], \n",
    "                                            histories['smh'][active_sm_mask_array[imask1,:]]), axis=0)\n"
   ]
  },
  {
   "cell_type": "code",
   "execution_count": 49,
   "metadata": {
    "collapsed": false
   },
   "outputs": [
    {
     "data": {
      "text/plain": [
       "[<matplotlib.lines.Line2D at 0x176fc9f10>]"
      ]
     },
     "execution_count": 49,
     "metadata": {},
     "output_type": "execute_result"
    },
    {
     "data": {
      "image/png": "[encoded data removed]",
      "text/plain": [
       "<matplotlib.figure.Figure at 0x17687a110>"
      ]
     },
     "metadata": {},
     "output_type": "display_data"
    }
   ],
   "source": [
    "ifirst=50\n",
    "\n",
    "plt.plot(cosmic_age_array[ifirst:], mean_ssfh_low_mass[ifirst:], color='k')\n",
    "plt.plot(cosmic_age_array[ifirst:], mean_ssfh_low_mass_q[ifirst:], color='red')\n",
    "plt.plot(cosmic_age_array[ifirst:], mean_ssfh_low_mass_a[ifirst:], color='blue')\n",
    "# plt.plot(cosmic_age_array[ifirst:], mean_ssfh_high_mass[ifirst:], color='k')"
   ]
  },
  {
   "cell_type": "code",
   "execution_count": 42,
   "metadata": {
    "collapsed": false
   },
   "outputs": [
    {
     "data": {
      "text/plain": [
       "2.1880741876528824"
      ]
     },
     "execution_count": 42,
     "metadata": {},
     "output_type": "execute_result"
    }
   ],
   "source": [
    "cosmic_age_array[50]"
   ]
  },
  {
   "cell_type": "code",
   "execution_count": null,
   "metadata": {
    "collapsed": true
   },
   "outputs": [],
   "source": []
  }
 ],
 "metadata": {
  "kernelspec": {
   "display_name": "Python [conda root]",
   "language": "python",
   "name": "conda-root-py"
  },
  "language_info": {
   "codemirror_mode": {
    "name": "ipython",
    "version": 2
   },
   "file_extension": ".py",
   "mimetype": "text/x-python",
   "name": "python",
   "nbconvert_exporter": "python",
   "pygments_lexer": "ipython2",
   "version": "2.7.12"
  }
 },
 "nbformat": 4,
 "nbformat_minor": 1
}
