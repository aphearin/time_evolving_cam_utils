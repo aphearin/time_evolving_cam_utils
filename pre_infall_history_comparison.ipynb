{
 "cells": [
  {
   "cell_type": "code",
   "execution_count": 1,
   "metadata": {
    "collapsed": true
   },
   "outputs": [],
   "source": [
    "%matplotlib inline\n",
    "from matplotlib import pyplot as plt\n",
    "from matplotlib import lines as mlines\n",
    "import os\n",
    "from astropy.table import Table"
   ]
  },
  {
   "cell_type": "code",
   "execution_count": 2,
   "metadata": {
    "collapsed": true
   },
   "outputs": [],
   "source": [
    "from read_sfh import get_scales\n",
    "small_file_fname = \"/Users/aphearin/Dropbox/UniverseMachine/data/histories/small_sfh_catalog_1.002310.txt\"\n",
    "scale_factor_array = get_scales(small_file_fname)\n",
    "redshift_array = (1./scale_factor_array) - 1\n",
    "cosmic_age_array = np.load(os.path.join(os.path.dirname(small_file_fname), 'prelim_sfh_reduction', 'times.npy'))"
   ]
  },
  {
   "cell_type": "code",
   "execution_count": 3,
   "metadata": {
    "collapsed": false
   },
   "outputs": [
    {
     "name": "stdout",
     "output_type": "stream",
     "text": [
      "... Assembling history data\n",
      "... Assembling halo catalog data\n",
      "New colnames to add from halo catalog = ['first_acc_scale', 'mpeak_scale', 'acc_rate_1tdyn']\n"
     ]
    }
   ],
   "source": [
    "from collate_full_catalog import collate_catalog\n",
    "z_string = 'z0'\n",
    "\n",
    "\n",
    "history_colnames = ('halo_id', 'halo_upid', 'halo_mpeak', 'stellar_mass', 'sfr', 'sfr_mp', 'sm_mp')\n",
    "halocat_propnames = ('halo_id', 'first_acc_scale', 'mpeak_scale', 'acc_rate_1tdyn')\n",
    "\n",
    "cat = collate_catalog(z_string, history_colnames=history_colnames, \n",
    "                      halocat_propnames=halocat_propnames, verbose=False)"
   ]
  },
  {
   "cell_type": "code",
   "execution_count": 4,
   "metadata": {
    "collapsed": true
   },
   "outputs": [],
   "source": [
    "first_acc_index = np.interp(cat['first_acc_scale'], scale_factor_array, np.arange(len(scale_factor_array)))\n",
    "cat['first_acc_index'] = np.round(first_acc_index).astype(int)\n",
    "\n",
    "mpeak_scale_index = np.interp(cat['mpeak_scale'], scale_factor_array, np.arange(len(scale_factor_array)))\n",
    "cat['halo_mpeak_index'] = np.round(mpeak_scale_index).astype(int)\n",
    "\n",
    "cat['gal_mstar_peak_index'] = np.argmax(cat['sm_mp'], axis=1)"
   ]
  },
  {
   "cell_type": "code",
   "execution_count": 5,
   "metadata": {
    "collapsed": true
   },
   "outputs": [],
   "source": [
    "from pre_infall_average import pre_infall_average, post_infall_average"
   ]
  },
  {
   "cell_type": "code",
   "execution_count": 6,
   "metadata": {
    "collapsed": true
   },
   "outputs": [],
   "source": [
    "sats = cat[cat['gal_type'] == 'satellite']\n",
    "cens = cat[cat['gal_type'] == 'central']\n",
    "backsplash = cat[cat['gal_type'] == 'backsplash']\n",
    "orphans = cat[cat['gal_type'] == 'orphan']"
   ]
  },
  {
   "cell_type": "code",
   "execution_count": 134,
   "metadata": {
    "collapsed": true
   },
   "outputs": [],
   "source": [
    "quenched_sats = sats[sats['sfr']/sats['stellar_mass'] < 10**-11]\n",
    "active_sats = sats[sats['sfr']/sats['stellar_mass'] >= 10**-11]"
   ]
  },
  {
   "cell_type": "markdown",
   "metadata": {},
   "source": [
    "## Calculate average SM histories before and after infall"
   ]
  },
  {
   "cell_type": "code",
   "execution_count": 18,
   "metadata": {
    "collapsed": false
   },
   "outputs": [],
   "source": [
    "# Mpeak-based mask\n",
    "# logmpeak_low, logmpeak_high = 11.5, 11.75\n",
    "# mask_sats = (sats['halo_mpeak'] > 10**logmpeak_low) & (sats['halo_mpeak'] < 10**logmpeak_high)\n",
    "# mask_cens = (cens['halo_mpeak'] > 10**logmpeak_low) & (cens['halo_mpeak'] < 10**logmpeak_high)\n",
    "\n",
    "# Stellar mass-based mask\n",
    "logsm_low, logsm_high = 10.0, 10.1\n",
    "mask_sats = (sats['stellar_mass'] > 10**logsm_low) & (sats['stellar_mass'] < 10**logsm_high)\n",
    "mask_cens = (cens['stellar_mass'] > 10**logsm_low) & (cens['stellar_mass'] < 10**logsm_high)"
   ]
  },
  {
   "cell_type": "code",
   "execution_count": 19,
   "metadata": {
    "collapsed": false
   },
   "outputs": [],
   "source": [
    "avg_pre_infall_smh_sats = pre_infall_average(sats[mask_sats]['sm_mp'], sats[mask_sats]['first_acc_index'])\n",
    "avg_post_infall_smh_sats = post_infall_average(sats[mask_sats]['sm_mp'], sats[mask_sats]['first_acc_index'])\n",
    "\n",
    "avg_smh_cens = np.mean(cens[mask_cens]['sm_mp'], axis=0)"
   ]
  },
  {
   "cell_type": "code",
   "execution_count": null,
   "metadata": {
    "collapsed": false
   },
   "outputs": [],
   "source": [
    "avg_sfr_mp_sats = pre_infall_average(sats[mask_sats]['sfr_mp'], sats[mask_sats]['first_acc_index'])\n",
    "avg_sfr_mp_sats_no_exclusion = np.mean(sats[mask_sats]['sfr_mp'], axis=0)\n",
    "avg_sfr_mp_cens = np.mean(cens[mask_cens]['sfr_mp'], axis=0)"
   ]
  },
  {
   "cell_type": "code",
   "execution_count": null,
   "metadata": {
    "collapsed": false
   },
   "outputs": [],
   "source": [
    "fig = plt.figure()\n",
    "ax = fig.add_subplot(111)\n",
    "\n",
    "xlabel = ax.set_xlabel('time  [Gyr]', fontsize=15)\n",
    "ylabel = ax.set_ylabel(r'$\\langle{\\rm SFR}\\rangle$', fontsize=16)\n",
    "title = ax.set_title(r'$M_{\\ast}(z=0) \\approx 10^{10}M_{\\odot}$', fontsize=16, y=1.02) # y param fixes an overhanging title\n",
    "\n",
    "last_idx = -1\n",
    "ax.plot(redshift_array[:last_idx], avg_sfr_mp_cens[:last_idx], \n",
    "         color='blue', label='centrals', linewidth=1.5)\n",
    "ax.plot(redshift_array[:last_idx], avg_sfr_mp_sats[:last_idx], \n",
    "         color='red', label='pre-infall satellites', linewidth=1.5)\n",
    "ax.plot(redshift_array[:last_idx], avg_sfr_mp_sats_no_exclusion[:last_idx], \n",
    "         '--', color='red', label='satellites', linewidth=1.5)\n",
    "\n",
    "ax.plot(np.logspace(-2, 2, 100), np.zeros(100), '--', color='gray')\n",
    "plt.xlim(xmin=8, xmax=0.15)\n",
    "plt.xscale('log')\n",
    "\n",
    "plt.xticks(fontsize=14)\n",
    "plt.yticks(fontsize=14)\n",
    "ax.tick_params(axis='x', length=4, width=1, which='major')\n",
    "ax.tick_params(axis='x', length=2, width=1, which='minor')\n",
    "ax.tick_params(axis='y', length=4, width=1, which='major')\n",
    "ax.tick_params(axis='y', length=2, width=1, which='minor')\n",
    "\n",
    "plt.legend(frameon=False, loc='upper left', fontsize=13)\n",
    "\n",
    "# fig.savefig('FIGS/pre_infall_evolution_cens_vs_sats.pdf',\n",
    "#             bbox_extra_artists=[xlabel, ylabel], bbox_inches='tight')"
   ]
  },
  {
   "cell_type": "code",
   "execution_count": null,
   "metadata": {
    "collapsed": false
   },
   "outputs": [],
   "source": []
  },
  {
   "cell_type": "code",
   "execution_count": null,
   "metadata": {
    "collapsed": true
   },
   "outputs": [],
   "source": []
  },
  {
   "cell_type": "code",
   "execution_count": null,
   "metadata": {
    "collapsed": true
   },
   "outputs": [],
   "source": []
  },
  {
   "cell_type": "code",
   "execution_count": 10,
   "metadata": {
    "collapsed": false
   },
   "outputs": [
    {
     "name": "stdout",
     "output_type": "stream",
     "text": [
      "['halo_id', 'halo_upid', 'sfr_mp', 'sfr', 'halo_mpeak', 'sm_mp', 'stellar_mass', 'first_acc_scale', 'mpeak_scale', 'acc_rate_1tdyn', 'gal_type', 'first_acc_index', 'halo_mpeak_index', 'gal_mstar_peak_index', 'sm_at_infall']\n"
     ]
    }
   ],
   "source": [
    "print(sats.keys())"
   ]
  },
  {
   "cell_type": "markdown",
   "metadata": {},
   "source": [
    "# Calculate $\\langle M_{\\ast}^{\\rm infall}\\rangle$ vs. $M_{\\ast}(z=0)$"
   ]
  },
  {
   "cell_type": "code",
   "execution_count": 9,
   "metadata": {
    "collapsed": true
   },
   "outputs": [],
   "source": [
    "sats['sm_at_infall'] = sats['sm_mp'][np.arange(len(sats)), sats['first_acc_index']]"
   ]
  },
  {
   "cell_type": "code",
   "execution_count": 8,
   "metadata": {
    "collapsed": true
   },
   "outputs": [],
   "source": [
    "from halotools.mock_observables import mean_y_vs_x"
   ]
  },
  {
   "cell_type": "code",
   "execution_count": 34,
   "metadata": {
    "collapsed": true
   },
   "outputs": [],
   "source": [
    "mpeak_bins = np.logspace(11, 14.5, 20)\n",
    "mpeak_z0, mean_infall_sm, mean_infall_sm_err = mean_y_vs_x(sats['halo_mpeak'], \n",
    "                                                       sats['sm_at_infall'], \n",
    "                                                       bins=mpeak_bins)\n",
    "__, mean_sm, __ = mean_y_vs_x(sats['halo_mpeak'], sats['stellar_mass'], \n",
    "                                                       bins=mpeak_bins)\n",
    "\n",
    "t_since_infall = cosmic_age_array[-1] - cosmic_age_array[sats['first_acc_index']]\n",
    "__, mean_t_since_infall, __ = mean_y_vs_x(sats['halo_mpeak'], t_since_infall, \n",
    "                                                       bins=mpeak_bins)\n",
    "\n"
   ]
  },
  {
   "cell_type": "code",
   "execution_count": 35,
   "metadata": {
    "collapsed": false
   },
   "outputs": [
    {
     "data": {
      "text/plain": [
       "[<matplotlib.lines.Line2D at 0x140e74ad0>]"
      ]
     },
     "execution_count": 35,
     "metadata": {},
     "output_type": "execute_result"
    },
    {
     "data": {
      "image/png": "[encoded data removed]",
      "text/plain": [
       "<matplotlib.figure.Figure at 0x140602f10>"
      ]
     },
     "metadata": {},
     "output_type": "display_data"
    }
   ],
   "source": [
    "plt.plot(np.log10(mpeak_z0), mean_sm/mean_infall_sm)"
   ]
  },
  {
   "cell_type": "code",
   "execution_count": 40,
   "metadata": {
    "collapsed": false
   },
   "outputs": [
    {
     "data": {
      "text/plain": [
       "[<matplotlib.lines.Line2D at 0x141030810>]"
      ]
     },
     "execution_count": 40,
     "metadata": {},
     "output_type": "execute_result"
    },
    {
     "data": {
      "image/png": "[encoded data removed]",
      "text/plain": [
       "<matplotlib.figure.Figure at 0x140e99310>"
      ]
     },
     "metadata": {},
     "output_type": "display_data"
    }
   ],
   "source": [
    "plt.plot(np.log10(mpeak_z0), mean_t_since_infall)"
   ]
  },
  {
   "cell_type": "code",
   "execution_count": 175,
   "metadata": {
    "collapsed": false
   },
   "outputs": [],
   "source": [
    "nbins = 20\n",
    "mpeak_bins = np.logspace(11, 13.5, nbins)\n",
    "stellar_mass_bins = np.logspace(9, 11.25, nbins)\n",
    "stellar_mass_mids = 10**(0.5*(np.log10(stellar_mass_bins[:-1]) + np.log10(stellar_mass_bins[1:])))\n",
    "\n",
    "mean_sm_at_z0_sats = np.zeros(len(mpeak_bins)-1)\n",
    "mean_sm_at_infall_sats = np.zeros(len(mpeak_bins)-1)\n",
    "mean_sm_at_infall_quenched_sats = np.zeros(len(mpeak_bins)-1)\n",
    "mean_sm_at_infall_active_sats = np.zeros(len(mpeak_bins)-1)\n",
    "mean_sm_at_infall_cens = np.zeros(len(mpeak_bins)-1)\n",
    "mean_sm_at_infall_sats_variance = np.zeros(len(mpeak_bins)-1)\n",
    "\n",
    "for i, low, high in zip(range(nbins-1), stellar_mass_bins[:-1], stellar_mass_bins[1:]):\n",
    "    \n",
    "    satmask = (sats['stellar_mass'] >= low) & (sats['stellar_mass'] < high)\n",
    "    sat_sample = sats[satmask]\n",
    "    num_sats_ibin = len(sats['stellar_mass'][satmask])\n",
    "    mean_sm_at_infall_sats[i] = np.mean(sat_sample['sm_mp'][np.arange(num_sats_ibin), sat_sample['first_acc_index']])\n",
    "    mean_sm_at_infall_sats_variance[i] = np.std(sat_sample['sm_mp'][np.arange(num_sats_ibin), sat_sample['first_acc_index']])\n",
    "#     mean_sm_at_z0_sats[i] = np.mean(sat_sample['stellar_mass'])\n",
    "\n",
    "    quenched_satmask = (quenched_sats['stellar_mass'] >= low) & (quenched_sats['stellar_mass'] < high)\n",
    "    quenched_sat_sample = quenched_sats[quenched_satmask]\n",
    "    num_quenched_sats_ibin = len(quenched_sat_sample)\n",
    "    assert num_quenched_sats_ibin > 0, \"\\a nonzero quenched_sat_sample required!\"\n",
    "    mean_sm_at_infall_quenched_sats[i] = np.mean(quenched_sat_sample['sm_mp'][np.arange(num_quenched_sats_ibin), quenched_sat_sample['first_acc_index']])\n",
    "\n",
    "    active_satmask = (active_sats['stellar_mass'] >= low) & (active_sats['stellar_mass'] < high)\n",
    "    active_sat_sample = active_sats[active_satmask]\n",
    "    num_active_sats_ibin = len(active_sat_sample)\n",
    "    assert num_active_sats_ibin > 0, \"\\a nonzero active_sat_sample required!\"\n",
    "    mean_sm_at_infall_active_sats[i] = np.mean(active_sat_sample['sm_mp'][np.arange(num_active_sats_ibin), active_sat_sample['first_acc_index']])\n",
    "\n",
    "    cenmask = (cens['stellar_mass'] >= low) & (cens['stellar_mass'] < high)\n",
    "    num_cens_ibin = len(cens['stellar_mass'][cenmask])\n",
    "    idx_random_cen_select = np.random.randint(0, num_cens_ibin-1, num_sats_ibin)\n",
    "    cen_sample = cens[cenmask][idx_random_cen_select]\n",
    "    mean_sm_at_infall_cens[i] = np.mean(cen_sample['sm_mp'][np.arange(num_sats_ibin), sat_sample['first_acc_index']])"
   ]
  },
  {
   "cell_type": "code",
   "execution_count": 183,
   "metadata": {
    "collapsed": false
   },
   "outputs": [
    {
     "name": "stdout",
     "output_type": "stream",
     "text": [
      "Number of points = 18\n"
     ]
    },
    {
     "data": {
      "image/png": "[encoded data removed]",
      "text/plain": [
       "<matplotlib.figure.Figure at 0x10fa1b7d0>"
      ]
     },
     "metadata": {},
     "output_type": "display_data"
    }
   ],
   "source": [
    "from scipy.signal import savgol_filter, medfilt\n",
    "\n",
    "fig = plt.figure()\n",
    "ax = fig.add_subplot(111)\n",
    "\n",
    "xlabel = ax.set_xlabel(r'$M_{\\ast}(z=0) [M_{\\odot}]$', fontsize=16)\n",
    "ylabel = ax.set_ylabel(r'$\\langle M_{\\ast}(z_{\\rm infall})\\rangle_{\\rm sats} / \\langle M_{\\ast}(z_{\\rm infall})\\rangle_{\\rm cens}$', fontsize=16)\n",
    "title = ax.set_title('z=0 satellite growth since infall', fontsize=15, y=1.02) # y param fixes an overhanging title\n",
    "\n",
    "sm_max = 2e11\n",
    "idx_last = np.max(np.where(mean_sm_at_z0_sats <= sm_max)[0])\n",
    "idx_last = -1\n",
    "print(\"Number of points = {0}\".format(len(mean_sm_at_z0_sats[:idx_last])))\n",
    "\n",
    "_x = stellar_mass_mids[:idx_last]\n",
    "\n",
    "# All satellites\n",
    "_y = mean_sm_at_infall_sats[:idx_last]/mean_sm_at_infall_cens[:idx_last]\n",
    "_y = savgol_filter(_y, 13, 5)\n",
    "_y = medfilt(_y, 3)\n",
    "_dy = savgol_filter(mean_sm_at_infall_sats_variance[:idx_last]/mean_sm_at_infall_cens[:idx_last], 13, 4)\n",
    "# ax.plot(_x, _y, color='k', linewidth=1.5)\n",
    "ax.fill_between(_x, _y-_dy, _y+_dy, color='lightgray', alpha=0.5)\n",
    "\n",
    "# active satellites\n",
    "_y3 = mean_sm_at_infall_active_sats[:idx_last]/mean_sm_at_infall_cens[:idx_last]\n",
    "_y3 = medfilt(_y3, 3)\n",
    "_y3 = savgol_filter(_y3, 13, 5)\n",
    "ax.plot(_x, _y3, color='blue', linewidth=1.5, label='active satellites')\n",
    "\n",
    "# quenched satellites\n",
    "_y2 = mean_sm_at_infall_quenched_sats[:idx_last]/mean_sm_at_infall_cens[:idx_last]\n",
    "_y2 = savgol_filter(_y2, 13, 5)\n",
    "_y2 = medfilt(_y2, 3)\n",
    "ax.plot(_x, _y2, color='red', linewidth=1.5, label='quenched satellites')\n",
    "\n",
    "ax.plot(np.logspace(8, 12, 100), np.ones(100), '--', color='gray')\n",
    "plt.xscale('log')\n",
    "plt.xlim(xmin = 1e9, xmax=1e11)\n",
    "plt.ylim(ymin = 0.5, ymax = 2)\n",
    "\n",
    "plt.xticks(fontsize=11)\n",
    "plt.yticks(fontsize=11)\n",
    "ax.tick_params(axis='x', length=4, width=1, which='major')\n",
    "ax.tick_params(axis='x', length=2, width=1, which='minor')\n",
    "ax.tick_params(axis='y', length=4, width=1, which='major')\n",
    "ax.tick_params(axis='y', length=2, width=1, which='minor')\n",
    "\n",
    "plt.legend(frameon=False, loc='upper right', fontsize=12)\n",
    "\n",
    "fig.savefig('FIGS/mstar_growth_since_infall.pdf', \n",
    "            bbox_extra_artists=[xlabel, ylabel], bbox_inches='tight')"
   ]
  },
  {
   "cell_type": "code",
   "execution_count": 174,
   "metadata": {
    "collapsed": false
   },
   "outputs": [
    {
     "data": {
      "text/plain": [
       "array([ 57.29547813,  58.04443863,  58.79339913,  59.54235963,\n",
       "        60.29132013,  61.04028062,  61.78924112,  62.53820162,\n",
       "        63.28716212,  64.03612262,  64.78508312,  65.53404362,\n",
       "        66.28300411,  67.03196461,  67.78092511,  68.52988561,\n",
       "        69.27884611,  70.02780661])"
      ]
     },
     "execution_count": 174,
     "metadata": {},
     "output_type": "execute_result"
    }
   ],
   "source": [
    "_x"
   ]
  },
  {
   "cell_type": "code",
   "execution_count": null,
   "metadata": {
    "collapsed": true
   },
   "outputs": [],
   "source": []
  },
  {
   "cell_type": "code",
   "execution_count": null,
   "metadata": {
    "collapsed": true
   },
   "outputs": [],
   "source": []
  }
 ],
 "metadata": {
  "anaconda-cloud": {},
  "kernelspec": {
   "display_name": "Python [conda root]",
   "language": "python",
   "name": "conda-root-py"
  },
  "language_info": {
   "codemirror_mode": {
    "name": "ipython",
    "version": 2
   },
   "file_extension": ".py",
   "mimetype": "text/x-python",
   "name": "python",
   "nbconvert_exporter": "python",
   "pygments_lexer": "ipython2",
   "version": "2.7.12"
  }
 },
 "nbformat": 4,
 "nbformat_minor": 1
}
