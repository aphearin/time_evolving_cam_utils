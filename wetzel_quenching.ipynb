{
 "metadata": {
  "name": "",
  "signature": "sha256:a46ad21d54ea04b64aa4107dbffafd6b2990753071cc6e6e2c3113429d892b62"
 },
 "nbformat": 3,
 "nbformat_minor": 0,
 "worksheets": [
  {
   "cells": [
    {
     "cell_type": "code",
     "collapsed": false,
     "input": [
      "%matplotlib inline\n",
      "from matplotlib import pyplot as plt"
     ],
     "language": "python",
     "metadata": {},
     "outputs": [],
     "prompt_number": 6
    },
    {
     "cell_type": "code",
     "collapsed": false,
     "input": [
      "import os\n",
      "from astropy.table import Table\n",
      "dirname = \"/Users/aphearin/Dropbox/UniverseMachine/data/histories/prelim_sfh_reduction\"\n",
      "history_fname = \"sfh_catalog_1.002310_smcut_9.50_value_added_histories.hdf5\"\n",
      "histories = Table.read(os.path.join(dirname, history_fname), path='data')\n",
      "cosmic_age_array = np.load(os.path.join(dirname, 'times.npy'))"
     ],
     "language": "python",
     "metadata": {},
     "outputs": [],
     "prompt_number": 7
    },
    {
     "cell_type": "code",
     "collapsed": false,
     "input": [
      "from history_functions import ssfr_at_infall\n",
      "\n",
      "histories['ssfr_at_infall'] = ssfr_at_infall(histories['sfh'].data, \n",
      "                                histories['smh'].data, histories['time_first_acc'].data)\n",
      "\n",
      "satmask = histories['upid'] != -1\n",
      "sats = histories[satmask]"
     ],
     "language": "python",
     "metadata": {},
     "outputs": [],
     "prompt_number": 8
    },
    {
     "cell_type": "code",
     "collapsed": false,
     "input": [
      "logsm_low, logsm_high, num_sm_bins = 9.5, 11.5, 15\n",
      "sm_bins = np.logspace(logsm_low, logsm_high, num_sm_bins)\n",
      "frac_quenched_as_sat = np.zeros(len(sm_bins)-1)\n",
      "for i, sm_low, sm_high in zip(range(len(sm_bins)-1), sm_bins[0:-1], sm_bins[1:]):\n",
      "    sm_bin_mask = (sats['sm'] > sm_low) & (sats['sm'] < sm_high)\n",
      "    sm_bin_active_at_infall_mask = sm_bin_mask * (sats['ssfr_at_infall'] > -11)\n",
      "    frac_quenched_as_sat[i] = len(sats[sm_bin_active_at_infall_mask])/float(len(sats[sm_bin_mask]))"
     ],
     "language": "python",
     "metadata": {},
     "outputs": [],
     "prompt_number": 53
    },
    {
     "cell_type": "code",
     "collapsed": false,
     "input": [
      "sm_mids = 10**((np.log10(sm_bins)[1:] + np.log10(sm_bins)[:-1])/2.)\n",
      "\n",
      "fig = plt.figure()\n",
      "ax = fig.add_subplot(111)\n",
      "\n",
      "xlabel = ax.set_xlabel(r'$M_{\\ast}$ $[M_{\\odot}]$', fontsize=20)\n",
      "ylabel = ax.set_ylabel('Frac quenched after infall', fontsize=17)\n",
      "title = ax.set_title('Satellite quenching post-infall', fontsize=20, y=1.02) # y param fixes an overhanging title\n",
      "\n",
      "ax.plot(sm_mids, frac_quenched_as_sat, color='red', linewidth=2.5)\n",
      "\n",
      "plt.xscale('log')\n",
      "plt.xticks(fontsize=17)\n",
      "plt.yticks(fontsize=17)\n",
      "plt.xlim(xmin = 10**9.5, xmax=10**12)\n",
      "plt.ylim(ymin = 0, ymax = 1)\n",
      "\n",
      "fig.savefig('FIGS/post_infall_quenching_fractions.pdf', bbox_extra_artists=[xlabel, ylabel], bbox_inches='tight')"
     ],
     "language": "python",
     "metadata": {},
     "outputs": [
      {
       "metadata": {},
       "output_type": "display_data",
       "png": "[encoded data removed]",
       "text": [
        "<matplotlib.figure.Figure at 0x189929750>"
       ]
      }
     ],
     "prompt_number": 57
    },
    {
     "cell_type": "code",
     "collapsed": false,
     "input": [],
     "language": "python",
     "metadata": {},
     "outputs": [],
     "prompt_number": 28
    },
    {
     "cell_type": "code",
     "collapsed": false,
     "input": [],
     "language": "python",
     "metadata": {},
     "outputs": []
    }
   ],
   "metadata": {}
  }
 ]
}