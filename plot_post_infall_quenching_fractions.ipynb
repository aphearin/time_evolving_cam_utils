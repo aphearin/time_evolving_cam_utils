{
 "cells": [
  {
   "cell_type": "code",
   "execution_count": 1,
   "metadata": {
    "collapsed": true
   },
   "outputs": [],
   "source": [
    "%matplotlib inline\n",
    "from matplotlib import pyplot as plt\n",
    "from matplotlib import lines as mlines\n",
    "import os\n",
    "from astropy.table import Table"
   ]
  },
  {
   "cell_type": "code",
   "execution_count": 2,
   "metadata": {
    "collapsed": true
   },
   "outputs": [],
   "source": [
    "from read_sfh import get_scales\n",
    "small_file_fname = \"/Users/aphearin/Dropbox/UniverseMachine/data/histories/small_sfh_catalog_1.002310.txt\"\n",
    "scale_factor_array = get_scales(small_file_fname)\n",
    "cosmic_age_array = np.load('/Users/aphearin/Dropbox/UniverseMachine/data/histories/prelim_sfh_reduction/times.npy')"
   ]
  },
  {
   "cell_type": "markdown",
   "metadata": {},
   "source": [
    "## Redshift-zero results"
   ]
  },
  {
   "cell_type": "markdown",
   "metadata": {},
   "source": [
    "### Assemble the catalog"
   ]
  },
  {
   "cell_type": "code",
   "execution_count": 3,
   "metadata": {
    "collapsed": false
   },
   "outputs": [
    {
     "name": "stdout",
     "output_type": "stream",
     "text": [
      "... Assembling history data\n",
      "... Assembling halo catalog data\n",
      "New colnames to add from halo catalog = ['first_acc_scale']\n"
     ]
    }
   ],
   "source": [
    "from collate_full_catalog import collate_catalog\n",
    "z_string = 'z0'\n",
    "\n",
    "\n",
    "history_colnames = ('halo_id', 'halo_upid', 'halo_mpeak', 'sfr_mp', 'sm_mp', 'stellar_mass', 'sfr')\n",
    "\n",
    "halocat_propnames = ('halo_id', 'first_acc_scale')\n",
    "\n",
    "cat = collate_catalog(z_string, history_colnames=history_colnames, halocat_propnames=halocat_propnames)\n",
    "print(\"Number of galaxies before throwing out orphans = {0}\".format(len(cat)))"
   ]
  },
  {
   "cell_type": "markdown",
   "metadata": {},
   "source": [
    "## Throw away orphans"
   ]
  },
  {
   "cell_type": "code",
   "execution_count": 4,
   "metadata": {
    "collapsed": false
   },
   "outputs": [
    {
     "name": "stdout",
     "output_type": "stream",
     "text": [
      "Number of galaxies after throwing out orphans = 646460\n"
     ]
    }
   ],
   "source": [
    "cat = cat[cat['gal_type'] != 'orphan']\n",
    "print(\"Number of galaxies after throwing out orphans = {0}\".format(len(cat)))"
   ]
  },
  {
   "cell_type": "markdown",
   "metadata": {},
   "source": [
    "### Calculate a few derived quantities"
   ]
  },
  {
   "cell_type": "code",
   "execution_count": 5,
   "metadata": {
    "collapsed": false
   },
   "outputs": [],
   "source": [
    "from quenching_time import quenching_time\n",
    "\n",
    "cat['quenching_time'] = quenching_time(cat['sfr_mp'], cat['sm_mp'])\n",
    "cat['time_first_acc'] = np.interp(cat['first_acc_scale'], scale_factor_array, cosmic_age_array)\n",
    "\n",
    "from history_functions import ssfr_at_infall\n",
    "cat['ssfr_at_infall'] = ssfr_at_infall(cat['sfr_mp'].data, cat['sm_mp'].data, cat['time_first_acc'].data)"
   ]
  },
  {
   "cell_type": "code",
   "execution_count": 6,
   "metadata": {
    "collapsed": false
   },
   "outputs": [],
   "source": [
    "from halotools.utils import crossmatch\n",
    "\n",
    "cat['host_mpeak'] = cat['halo_mpeak']\n",
    "satmask = cat['halo_upid'] != -1\n",
    "sats = cat[satmask]\n",
    "cens = cat[~satmask]\n",
    "\n",
    "idxA, idxB = crossmatch(sats['halo_upid'], cat['halo_id'])\n",
    "sats['host_mpeak'][idxA] = cat['halo_mpeak'][idxB]\n",
    "cat['host_mpeak'][satmask] = sats['host_mpeak']\n",
    "\n",
    "quenched_satmask = np.log10(sats['sfr']/sats['stellar_mass']) < -11\n",
    "quenched_sats = sats[quenched_satmask]"
   ]
  },
  {
   "cell_type": "markdown",
   "metadata": {},
   "source": [
    "### Calculate the quantities of the figure"
   ]
  },
  {
   "cell_type": "code",
   "execution_count": 7,
   "metadata": {
    "collapsed": false
   },
   "outputs": [],
   "source": [
    "logsm_low, logsm_high, num_sm_bins = 9, 11.6, 15\n",
    "sm_bins = np.logspace(logsm_low, logsm_high, num_sm_bins)\n",
    "sm_mids = 10**((np.log10(sm_bins)[1:] + np.log10(sm_bins)[:-1])/2.)\n",
    "\n",
    "host_mass_bins = [10**12, 10**13, 10**14, np.inf]\n",
    "\n",
    "frac_quenched_as_sat = np.zeros(len(sm_bins)-1)\n",
    "frac_quenched_as_sat_milky_way = np.zeros(len(sm_bins)-1)\n",
    "frac_quenched_as_sat_group = np.zeros(len(sm_bins)-1)\n",
    "frac_quenched_as_sat_cluster = np.zeros(len(sm_bins)-1)\n",
    "\n",
    "for i, sm_low, sm_high in zip(range(len(sm_bins)-1), sm_bins[0:-1], sm_bins[1:]):\n",
    "    sm_bin_mask = (quenched_sats['stellar_mass'] > sm_low) & (quenched_sats['stellar_mass'] < sm_high)\n",
    "    sm_bin_active_at_infall_mask = sm_bin_mask * (quenched_sats['ssfr_at_infall'] > -11)\n",
    "    frac_quenched_as_sat[i] = len(quenched_sats[sm_bin_active_at_infall_mask])/float(len(quenched_sats[sm_bin_mask]))\n",
    "    \n",
    "    milky_way_sm_bin_mask = sm_bin_mask*(quenched_sats['host_mpeak'] > host_mass_bins[0])*(quenched_sats['host_mpeak'] < host_mass_bins[1])\n",
    "    milky_way_sm_bin_active_at_infall_mask = milky_way_sm_bin_mask*(quenched_sats['ssfr_at_infall'] > -11)\n",
    "    frac_quenched_as_sat_milky_way[i] = len(quenched_sats[milky_way_sm_bin_active_at_infall_mask])/float(len(quenched_sats[milky_way_sm_bin_mask]))\n",
    "\n",
    "    group_sm_bin_mask = sm_bin_mask*(quenched_sats['host_mpeak'] > host_mass_bins[1])*(quenched_sats['host_mpeak'] < host_mass_bins[2])\n",
    "    group_sm_bin_active_at_infall_mask = group_sm_bin_mask*(quenched_sats['ssfr_at_infall'] > -11)\n",
    "    frac_quenched_as_sat_group[i] = len(quenched_sats[group_sm_bin_active_at_infall_mask])/float(len(quenched_sats[group_sm_bin_mask]))\n",
    "\n",
    "    cluster_sm_bin_mask = sm_bin_mask*(quenched_sats['host_mpeak'] > host_mass_bins[2])*(quenched_sats['host_mpeak'] < host_mass_bins[3])\n",
    "    cluster_sm_bin_active_at_infall_mask = cluster_sm_bin_mask*(quenched_sats['ssfr_at_infall'] > -11)\n",
    "    frac_quenched_as_sat_cluster[i] = len(quenched_sats[cluster_sm_bin_active_at_infall_mask])/float(len(quenched_sats[cluster_sm_bin_mask]))"
   ]
  },
  {
   "cell_type": "markdown",
   "metadata": {},
   "source": [
    "### Plot the results"
   ]
  },
  {
   "cell_type": "code",
   "execution_count": 13,
   "metadata": {
    "collapsed": false
   },
   "outputs": [
    {
     "data": {
      "image/png": "[encoded data removed]",
      "text/plain": [
       "<matplotlib.figure.Figure at 0x10eb3cb90>"
      ]
     },
     "metadata": {},
     "output_type": "display_data"
    }
   ],
   "source": [
    "import os\n",
    "from save_figure_data import save_figure_data\n",
    "from scipy.signal import savgol_filter\n",
    "\n",
    "fig = plt.figure()\n",
    "ax = fig.add_subplot(111)\n",
    "\n",
    "frac_quenched_as_sat_cluster_x = sm_mids\n",
    "frac_quenched_as_sat_cluster_y = savgol_filter(frac_quenched_as_sat_cluster, 13, 5)\n",
    "\n",
    "frac_quenched_as_sat_group_x = sm_mids\n",
    "frac_quenched_as_sat_group_y = savgol_filter(frac_quenched_as_sat_group, 13, 4)\n",
    "\n",
    "milky_way_idx_cut = -3\n",
    "frac_quenched_as_sat_milky_way_x = sm_mids[:milky_way_idx_cut]\n",
    "frac_quenched_as_sat_milky_way_y = savgol_filter(frac_quenched_as_sat_milky_way[:milky_way_idx_cut], 11, 5)\n",
    "\n",
    "xlabel = ax.set_xlabel(r'$M_{\\ast}$ $[M_{\\odot}]$', fontsize=20)\n",
    "ylabel = ax.set_ylabel('Frac quenched after infall', fontsize=15)\n",
    "title = ax.set_title('z=0 quenched satellites', fontsize=18, y=1.02) # y param fixes an overhanging title\n",
    "\n",
    "ax.plot(frac_quenched_as_sat_cluster_x, frac_quenched_as_sat_cluster_y, color='red', \n",
    "        linewidth=2.5, label = \"cluster satellites\")\n",
    "\n",
    "ax.plot(frac_quenched_as_sat_group_x, frac_quenched_as_sat_group_y, color='green', \n",
    "        linewidth=2.5, label = \"group satellites\")\n",
    "\n",
    "ax.plot(frac_quenched_as_sat_milky_way_x, frac_quenched_as_sat_milky_way_y, color='blue', \n",
    "        linewidth=2.5, label = \"Milky Way satellites\")\n",
    "\n",
    "ax.plot(np.logspace(9, 12, 100), np.zeros(100) + 0.5, '--', color='gray')\n",
    "\n",
    "plt.tick_params(axis='x', length=5, width=1, which='major') \n",
    "plt.tick_params(axis='x', length=2, width=1, which='minor') \n",
    "plt.tick_params(axis='y', length=6, width=1, which='major') \n",
    "plt.xscale('log')\n",
    "plt.xticks(fontsize=14)\n",
    "plt.yticks(fontsize=14)\n",
    "plt.xlim(xmin = 10**9, xmax=3*10**11)\n",
    "plt.ylim(ymin = 0, ymax = 1)\n",
    "plt.legend(frameon=False, loc='lower left', fontsize=15)\n",
    "\n",
    "figname = 'post_infall_quenching_fractions_z0'\n",
    "save_figure_data('PLOT_DATA', figname, frac_quenched_as_sat_cluster_x, 'frac_quenched_as_sat_cluster_x')\n",
    "save_figure_data('PLOT_DATA', figname, frac_quenched_as_sat_cluster_y, 'frac_quenched_as_sat_cluster_y')\n",
    "save_figure_data('PLOT_DATA', figname, frac_quenched_as_sat_group_x, 'frac_quenched_as_sat_group_x')\n",
    "save_figure_data('PLOT_DATA', figname, frac_quenched_as_sat_group_y, 'frac_quenched_as_sat_group_y')\n",
    "save_figure_data('PLOT_DATA', figname, frac_quenched_as_sat_milky_way_x, 'frac_quenched_as_sat_milky_way_x')\n",
    "save_figure_data('PLOT_DATA', figname, frac_quenched_as_sat_milky_way_y, 'frac_quenched_as_sat_milky_way_y')\n",
    "\n",
    "fig.savefig('FIGS/'+figname+'.pdf', bbox_extra_artists=[xlabel, ylabel], bbox_inches='tight')"
   ]
  },
  {
   "cell_type": "markdown",
   "metadata": {},
   "source": [
    "## z=1 results"
   ]
  },
  {
   "cell_type": "code",
   "execution_count": null,
   "metadata": {
    "collapsed": true
   },
   "outputs": [],
   "source": [
    "del cat"
   ]
  },
  {
   "cell_type": "code",
   "execution_count": null,
   "metadata": {
    "collapsed": false
   },
   "outputs": [],
   "source": [
    "z_string = 'z1'\n",
    "\n",
    "history_colnames = ('halo_id', 'halo_upid', 'halo_mpeak', 'sfr_mp', 'sm_mp', 'stellar_mass', 'sfr')\n",
    "\n",
    "halocat_propnames = ('halo_id', 'first_acc_scale')\n",
    "\n",
    "cat = collate_catalog(z_string, history_colnames=history_colnames, halocat_propnames=halocat_propnames)"
   ]
  },
  {
   "cell_type": "code",
   "execution_count": null,
   "metadata": {
    "collapsed": true
   },
   "outputs": [],
   "source": [
    "from quenching_time import quenching_time\n",
    "\n",
    "cat['quenching_time'] = quenching_time(cat['sfr_mp'], cat['sm_mp'], \n",
    "                                       cosmic_age_array=cosmic_age_array[:100])\n",
    "cat['time_first_acc'] = np.interp(cat['first_acc_scale'], scale_factor_array, cosmic_age_array)\n",
    "\n",
    "from history_functions import ssfr_at_infall\n",
    "cat['ssfr_at_infall'] = ssfr_at_infall(cat['sfr_mp'].data, cat['sm_mp'].data, cat['time_first_acc'].data, \n",
    "                                      cosmic_age_array=cosmic_age_array[:100])"
   ]
  },
  {
   "cell_type": "code",
   "execution_count": null,
   "metadata": {
    "collapsed": true
   },
   "outputs": [],
   "source": [
    "from halotools.utils import crossmatch\n",
    "\n",
    "cat['host_mpeak'] = cat['halo_mpeak']\n",
    "satmask = cat['halo_upid'] != -1\n",
    "sats = cat[satmask]\n",
    "cens = cat[~satmask]\n",
    "\n",
    "idxA, idxB = crossmatch(sats['halo_upid'], cat['halo_id'])\n",
    "sats['host_mpeak'][idxA] = cat['halo_mpeak'][idxB]\n",
    "cat['host_mpeak'][satmask] = sats['host_mpeak']\n",
    "\n",
    "quenched_satmask = np.log10(sats['sfr']/sats['stellar_mass']) < -11\n",
    "quenched_sats = sats[quenched_satmask]"
   ]
  },
  {
   "cell_type": "markdown",
   "metadata": {},
   "source": [
    "### Calculate figure quantities"
   ]
  },
  {
   "cell_type": "code",
   "execution_count": null,
   "metadata": {
    "collapsed": true
   },
   "outputs": [],
   "source": [
    "logsm_low, logsm_high, num_sm_bins = 9, 11.5, 14\n",
    "sm_bins = np.logspace(logsm_low, logsm_high, num_sm_bins)\n",
    "sm_mids = 10**((np.log10(sm_bins)[1:] + np.log10(sm_bins)[:-1])/2.)\n",
    "\n",
    "host_mass_bins = [10**12, 10**13, 10**14, np.inf]\n",
    "\n",
    "frac_quenched_as_sat = np.zeros(len(sm_bins)-1)\n",
    "frac_quenched_as_sat_milky_way = np.zeros(len(sm_bins)-1)\n",
    "frac_quenched_as_sat_group = np.zeros(len(sm_bins)-1)\n",
    "frac_quenched_as_sat_cluster = np.zeros(len(sm_bins)-1)\n",
    "\n",
    "for i, sm_low, sm_high in zip(range(len(sm_bins)-1), sm_bins[0:-1], sm_bins[1:]):\n",
    "    sm_bin_mask = (quenched_sats['stellar_mass'] > sm_low) & (quenched_sats['stellar_mass'] < sm_high)\n",
    "    sm_bin_active_at_infall_mask = sm_bin_mask * (quenched_sats['ssfr_at_infall'] > -11)\n",
    "    frac_quenched_as_sat[i] = len(quenched_sats[sm_bin_active_at_infall_mask])/float(len(quenched_sats[sm_bin_mask]))\n",
    "    \n",
    "    milky_way_sm_bin_mask = sm_bin_mask*(quenched_sats['host_mpeak'] > host_mass_bins[0])*(quenched_sats['host_mpeak'] < host_mass_bins[1])\n",
    "    milky_way_sm_bin_active_at_infall_mask = milky_way_sm_bin_mask*(quenched_sats['ssfr_at_infall'] > -11)\n",
    "    frac_quenched_as_sat_milky_way[i] = len(quenched_sats[milky_way_sm_bin_active_at_infall_mask])/float(len(quenched_sats[milky_way_sm_bin_mask]))\n",
    "\n",
    "    group_sm_bin_mask = sm_bin_mask*(quenched_sats['host_mpeak'] > host_mass_bins[1])*(quenched_sats['host_mpeak'] < host_mass_bins[2])\n",
    "    group_sm_bin_active_at_infall_mask = group_sm_bin_mask*(quenched_sats['ssfr_at_infall'] > -11)\n",
    "    frac_quenched_as_sat_group[i] = len(quenched_sats[group_sm_bin_active_at_infall_mask])/float(len(quenched_sats[group_sm_bin_mask]))\n",
    "\n",
    "    cluster_sm_bin_mask = sm_bin_mask*(quenched_sats['host_mpeak'] > host_mass_bins[2])*(quenched_sats['host_mpeak'] < host_mass_bins[3])\n",
    "    cluster_sm_bin_active_at_infall_mask = cluster_sm_bin_mask*(quenched_sats['ssfr_at_infall'] > -11)\n",
    "    frac_quenched_as_sat_cluster[i] = len(quenched_sats[cluster_sm_bin_active_at_infall_mask])/float(len(quenched_sats[cluster_sm_bin_mask]))"
   ]
  },
  {
   "cell_type": "markdown",
   "metadata": {},
   "source": [
    "### Plot the results"
   ]
  },
  {
   "cell_type": "code",
   "execution_count": null,
   "metadata": {
    "collapsed": false
   },
   "outputs": [],
   "source": [
    "from scipy.signal import savgol_filter\n",
    "\n",
    "fig = plt.figure()\n",
    "ax = fig.add_subplot(111)\n",
    "\n",
    "xlabel = ax.set_xlabel(r'$M_{\\ast}$ $[M_{\\odot}]$', fontsize=20)\n",
    "ylabel = ax.set_ylabel('Frac quenched after infall', fontsize=17)\n",
    "title = ax.set_title('z=1 quenched satellites', fontsize=20, y=1.02) # y param fixes an overhanging title\n",
    "\n",
    "ax.plot(sm_mids, savgol_filter(frac_quenched_as_sat_cluster, 13, 3), color='red', \n",
    "        linewidth=2.5, label = \"cluster satellites\")\n",
    "\n",
    "ax.plot(sm_mids, savgol_filter(frac_quenched_as_sat_group, 9, 3), color='green', \n",
    "        linewidth=2.5, label = \"group satellites\")\n",
    "\n",
    "ax.plot(sm_mids[:-1], savgol_filter(frac_quenched_as_sat_milky_way[:-1], 9, 2), color='blue', \n",
    "        linewidth=2.5, label = \"Milky Way satellites\")\n",
    "\n",
    "ax.plot(np.logspace(9, 12, 100), np.zeros(100) + 0.5, '--', color='gray')\n",
    "\n",
    "plt.tick_params(axis='x', length=8, width=1, which='major') \n",
    "plt.tick_params(axis='x', length=4, width=1, which='minor') \n",
    "plt.tick_params(axis='y', length=6, width=1, which='major') \n",
    "plt.xscale('log')\n",
    "plt.xticks(fontsize=17)\n",
    "plt.yticks(fontsize=17)\n",
    "plt.xlim(xmin = 10**9, xmax=3*10**11)\n",
    "plt.ylim(ymin = 0, ymax = 1)\n",
    "plt.legend(frameon=False, loc='lower left', fontsize=15)\n",
    "\n",
    "fig.savefig('FIGS/post_infall_quenching_fractions_z1.pdf', bbox_extra_artists=[xlabel, ylabel], bbox_inches='tight')"
   ]
  },
  {
   "cell_type": "code",
   "execution_count": null,
   "metadata": {
    "collapsed": true
   },
   "outputs": [],
   "source": []
  },
  {
   "cell_type": "code",
   "execution_count": null,
   "metadata": {
    "collapsed": true
   },
   "outputs": [],
   "source": []
  },
  {
   "cell_type": "code",
   "execution_count": null,
   "metadata": {
    "collapsed": true
   },
   "outputs": [],
   "source": []
  },
  {
   "cell_type": "code",
   "execution_count": null,
   "metadata": {
    "collapsed": true
   },
   "outputs": [],
   "source": []
  }
 ],
 "metadata": {
  "anaconda-cloud": {},
  "kernelspec": {
   "display_name": "Python [conda root]",
   "language": "python",
   "name": "conda-root-py"
  },
  "language_info": {
   "codemirror_mode": {
    "name": "ipython",
    "version": 2
   },
   "file_extension": ".py",
   "mimetype": "text/x-python",
   "name": "python",
   "nbconvert_exporter": "python",
   "pygments_lexer": "ipython2",
   "version": "2.7.12"
  }
 },
 "nbformat": 4,
 "nbformat_minor": 1
}
