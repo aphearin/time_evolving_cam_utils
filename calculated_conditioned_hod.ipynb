{
 "cells": [
  {
   "cell_type": "code",
   "execution_count": 1,
   "metadata": {
    "collapsed": true
   },
   "outputs": [],
   "source": [
    "%matplotlib inline"
   ]
  },
  {
   "cell_type": "code",
   "execution_count": 2,
   "metadata": {
    "collapsed": true
   },
   "outputs": [],
   "source": [
    "from read_sfh import get_scales\n",
    "small_file_fname = \"/Users/aphearin/Dropbox/UniverseMachine/data/histories/small_sfh_catalog_1.002310.txt\"\n",
    "scale_factor_array = get_scales(small_file_fname)\n",
    "cosmic_age_array = np.load('/Users/aphearin/Dropbox/UniverseMachine/data/histories/prelim_sfh_reduction/times.npy')"
   ]
  },
  {
   "cell_type": "code",
   "execution_count": 4,
   "metadata": {
    "collapsed": false
   },
   "outputs": [
    {
     "name": "stdout",
     "output_type": "stream",
     "text": [
      "... Assembling history data\n",
      "Number of galaxies = 676028\n"
     ]
    }
   ],
   "source": [
    "from collate_full_catalog import collate_catalog\n",
    "a_string = 'a_1.002310'\n",
    "idx_tobs = np.where(scale_factor_array >= float(a_string[2:]))[0][0]\n",
    "t_today = cosmic_age_array[idx_tobs]\n",
    "\n",
    "history_colnames = ('halo_id', 'halo_upid', 'halo_mpeak', 'sfr_mp', 'sm_mp', \n",
    "                    'stellar_mass', 'sfr', 'a_first_infall', 'halo_mvir', 'halo_vmax')\n",
    "\n",
    "histories = collate_catalog(a_string, history_colnames=history_colnames)\n",
    "print(\"Number of galaxies = {0}\".format(len(histories)))"
   ]
  },
  {
   "cell_type": "code",
   "execution_count": 10,
   "metadata": {
    "collapsed": false
   },
   "outputs": [],
   "source": [
    "from halotools.utils import crossmatch\n",
    "\n",
    "subhalo_mask = histories['halo_upid'] != -1\n",
    "subs = histories[subhalo_mask]\n",
    "idxA, idxB = crossmatch(histories['halo_upid'][subhalo_mask], histories['halo_id'])\n",
    "\n",
    "histories['host_mvir'] = histories['halo_mvir']\n",
    "histories['host_mvir'][subhalo_mask][idxA] = histories['halo_mvir'][idxB]\n",
    "histories['host_vmax'] = histories['halo_vmax']\n",
    "histories['host_vmax'][subhalo_mask][idxA] = histories['halo_vmax'][idxB]"
   ]
  },
  {
   "cell_type": "code",
   "execution_count": 28,
   "metadata": {
    "collapsed": false
   },
   "outputs": [],
   "source": [
    "from scipy.stats import binned_statistic\n",
    "cenmask = (histories['gal_type'] == 'central') | (histories['gal_type'] == 'backsplash')\n",
    "median_log_vmax, log_mvir_bin_edges, __ = binned_statistic(np.log10(histories['halo_mvir'][cenmask]), \n",
    "                 np.log10(histories['halo_vmax'][cenmask]), statistic='median')\n",
    "log_mvir_bin_mids = 0.5*(log_mvir_bin_edges[1:] + log_mvir_bin_edges[:-1])\n",
    "\n",
    "interpolated_median_log_vmax = np.interp(np.log10(histories['host_mvir']), \n",
    "                                         log_mvir_bin_mids, median_log_vmax)\n",
    "histories['high_host_vmax'] = True\n",
    "histories['high_host_vmax'][histories['host_vmax'] < 10**interpolated_median_log_vmax] = False"
   ]
  },
  {
   "cell_type": "code",
   "execution_count": null,
   "metadata": {
    "collapsed": true
   },
   "outputs": [],
   "source": []
  }
 ],
 "metadata": {
  "anaconda-cloud": {},
  "kernelspec": {
   "display_name": "Python [conda root]",
   "language": "python",
   "name": "conda-root-py"
  },
  "language_info": {
   "codemirror_mode": {
    "name": "ipython",
    "version": 2
   },
   "file_extension": ".py",
   "mimetype": "text/x-python",
   "name": "python",
   "nbconvert_exporter": "python",
   "pygments_lexer": "ipython2",
   "version": "2.7.12"
  }
 },
 "nbformat": 4,
 "nbformat_minor": 1
}
