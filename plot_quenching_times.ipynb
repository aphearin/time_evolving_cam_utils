{
 "metadata": {
  "anaconda-cloud": {},
  "kernelspec": {
   "display_name": "Python [Root]",
   "language": "python",
   "name": "Python [Root]"
  },
  "language_info": {
   "codemirror_mode": {
    "name": "ipython",
    "version": 2
   },
   "file_extension": ".py",
   "mimetype": "text/x-python",
   "name": "python",
   "nbconvert_exporter": "python",
   "pygments_lexer": "ipython2",
   "version": "2.7.12"
  },
  "name": "",
  "signature": "sha256:69d2bc74d1d8d335779a83e8f5caa2ff1109d4586425d24cbf92d62205617e98"
 },
 "nbformat": 3,
 "nbformat_minor": 0,
 "worksheets": [
  {
   "cells": [
    {
     "cell_type": "code",
     "collapsed": true,
     "input": [
      "%matplotlib inline\n",
      "from matplotlib import pyplot as plt"
     ],
     "language": "python",
     "metadata": {},
     "outputs": [],
     "prompt_number": 1
    },
    {
     "cell_type": "code",
     "collapsed": true,
     "input": [
      "import os\n",
      "from astropy.table import Table\n",
      "dirname = \"/Users/aphearin/Dropbox/UniverseMachine/data/histories/prelim_sfh_reduction\"\n",
      "history_fname = \"sfh_catalog_1.002310_smcut_9.50_value_added_histories.hdf5\"\n",
      "histories = Table.read(os.path.join(dirname, history_fname), path='data')\n",
      "\n",
      "universe_age_array_fname = os.path.join(dirname, \"times.npy\")\n",
      "universe_age_array = np.load(universe_age_array_fname)"
     ],
     "language": "python",
     "metadata": {},
     "outputs": [],
     "prompt_number": 2
    },
    {
     "cell_type": "code",
     "collapsed": true,
     "input": [
      "from history_functions import ssfr_histories\n",
      "ssfr_matrix = ssfr_histories(histories['sfh'], histories['smh'])"
     ],
     "language": "python",
     "metadata": {},
     "outputs": [],
     "prompt_number": 3
    },
    {
     "cell_type": "code",
     "collapsed": false,
     "input": [
      "from quenching_time import quenching_time\n",
      "histories['quenching_time'] = quenching_time(ssfr_matrix)"
     ],
     "language": "python",
     "metadata": {},
     "outputs": [],
     "prompt_number": 4
    },
    {
     "cell_type": "code",
     "collapsed": false,
     "input": [
      "cenmask = histories['upid'] == -1\n",
      "cens = histories[cenmask]\n",
      "sats = histories[~cenmask]\n",
      "\n",
      "quenched_cenmask = (cens['sfr']/cens['sm'] < 1e-11)\n",
      "quenched_cens = cens[quenched_cenmask]\n",
      "\n",
      "quenched_satmask = (sats['sfr']/sats['sm'] < 1e-11)\n",
      "quenched_sats = sats[quenched_satmask]"
     ],
     "language": "python",
     "metadata": {},
     "outputs": [],
     "prompt_number": 14
    },
    {
     "cell_type": "code",
     "collapsed": false,
     "input": [
      "fig = plt.figure()\n",
      "ax = fig.add_subplot(111)\n",
      "\n",
      "xlabel = ax.set_xlabel(r'$t_{\\rm lookback}^{\\rm quench}$  $[{\\rm Gyr}]$', fontsize=20)\n",
      "ylabel = ax.set_ylabel(r'PDF', fontsize=20)\n",
      "title = ax.set_title('Quenching time distributions', fontsize=20, y=1.02) # y param fixes an overhanging title\n",
      "\n",
      "lowsm, highsm = 10.4, 10.5\n",
      "cens_sample_mask = (cens['sm'] > 10**lowsm) & (cens['sm'] < 10**highsm)\n",
      "cens_sample = cens[cens_sample_mask]\n",
      "sats_sample_mask = (sats['sm'] > 10**lowsm) & (sats['sm'] < 10**highsm)\n",
      "sats_sample = sats[sats_sample_mask]\n",
      "\n",
      "plt.hist(universe_age_array[-1] - sats_sample['quenching_time'], \n",
      "              normed=True, bins=np.linspace(-0.1, 10, 40), color='#f62217', \n",
      "              histtype='stepfilled', alpha=0.5, label='quenched satellites')\n",
      "\n",
      "plt.hist(universe_age_array[-1] - cens_sample['quenching_time'], \n",
      "              normed=True, bins=np.linspace(-0.1, 10, 40), color='mediumblue', \n",
      "              histtype='stepfilled', alpha=0.5, label='quenched centrals')\n",
      "\n",
      "plt.xticks(fontsize=20)\n",
      "plt.yticks(fontsize=20)\n",
      "plt.xlim(xmin = -0.1, xmax=10)\n",
      "plt.legend(loc='upper left', fontsize=15, frameon=False)\n",
      "\n",
      "# plt.savefig('FIGS/cens_sats_quenching_time.pdf', bbox_extra_artists=[xlabel, ylabel], bbox_inches='tight')"
     ],
     "language": "python",
     "metadata": {},
     "outputs": [
      {
       "metadata": {},
       "output_type": "pyout",
       "prompt_number": 18,
       "text": [
        "<matplotlib.legend.Legend at 0x1a31e55d0>"
       ]
      },
      {
       "metadata": {},
       "output_type": "display_data",
       "png": "[encoded data removed]",
       "text": [
        "<matplotlib.figure.Figure at 0x1989f3810>"
       ]
      }
     ],
     "prompt_number": 18
    },
    {
     "cell_type": "heading",
     "level": 3,
     "metadata": {},
     "source": [
      "now calculate the age-of-accretion from the scale-factor-of-accretion"
     ]
    },
    {
     "cell_type": "code",
     "collapsed": false,
     "input": [
      "qsats_accretion_quenching_timescale = quenched_sats['quenching_time'] - quenched_sats['time_first_acc'] \n",
      "\n",
      "__ = plt.hist(qsats_accretion_quenching_timescale, \n",
      "              normed=True, bins=np.linspace(-5, 10, 75), color='red', \n",
      "              histtype='stepfilled', alpha=0.5, label='quenched satellites')\n",
      "\n",
      "plt.xlabel(r'$t_{\\rm quench} - t_{\\rm acc}$  $[{\\rm Gyr}]$', size=21)\n",
      "plt.title('quenched satellites', size=15)\n",
      "# plt.savefig('FIGS/qsats_tq_tacc_diff.pdf', bbox_extra_artists=[xlabel, ylabel], bbox_inches='tight')"
     ],
     "language": "python",
     "metadata": {},
     "outputs": [
      {
       "metadata": {},
       "output_type": "pyout",
       "prompt_number": 20,
       "text": [
        "<matplotlib.text.Text at 0x1a3172e50>"
       ]
      },
      {
       "metadata": {},
       "output_type": "display_data",
       "png": "[encoded data removed]",
       "text": [
        "<matplotlib.figure.Figure at 0x19383ea10>"
       ]
      }
     ],
     "prompt_number": 20
    },
    {
     "cell_type": "code",
     "collapsed": false,
     "input": [
      "qsats_mpeak_quenching_timescale = quenched_sats['quenching_time'] - qsats_tacc.value\n",
      "\n",
      "__ = plt.hist(qsats_mpeak_quenching_timescale, \n",
      "              normed=True, bins=np.linspace(-5, 10, 75), color='red', \n",
      "              histtype='stepfilled', alpha=0.5, label='quenched satellites')\n",
      "plt.xlabel(r'$t_{\\rm quench} - t_{\\rm Mpeak}$  $[{\\rm Gyr}]$', size=21)\n",
      "plt.title('quenched satellites', size=15)\n",
      "plt.savefig('FIGS/qsats_tq_tmpeak_diff.pdf', bbox_extra_artists=[xlabel, ylabel], bbox_inches='tight')"
     ],
     "language": "python",
     "metadata": {},
     "outputs": [
      {
       "metadata": {},
       "output_type": "display_data",
       "png": "[encoded data removed]",
       "text": [
        "<matplotlib.figure.Figure at 0x151f59d50>"
       ]
      }
     ],
     "prompt_number": 18
    },
    {
     "cell_type": "heading",
     "level": 1,
     "metadata": {},
     "source": [
      "now for something different"
     ]
    },
    {
     "cell_type": "code",
     "collapsed": false,
     "input": [
      "histories.keys()"
     ],
     "language": "python",
     "metadata": {},
     "outputs": [
      {
       "metadata": {},
       "output_type": "pyout",
       "prompt_number": 131,
       "text": [
        "['id',\n",
        " 'sm',\n",
        " 'sfr',\n",
        " 'sfh',\n",
        " 'iclh',\n",
        " 'quenching_time',\n",
        " 'upid',\n",
        " 'halo_scale_factor_mpeak',\n",
        " 'halo_scale_factor_firstacc']"
       ]
      }
     ],
     "prompt_number": 131
    },
    {
     "cell_type": "code",
     "collapsed": false,
     "input": [
      "itest=np.random.randint(0, len(histories)-1)\n",
      "itest = 161195\n",
      "\n",
      "\n",
      "print(\"itest = {0}\".format(itest))\n",
      "\n",
      "h = histories[itest]\n",
      "if h['upid'] == -1:\n",
      "    gal_type = 'central'\n",
      "else:\n",
      "    gal_type = 'satellite'\n",
      "    \n",
      "\n",
      "ssfr_array = ssfr_matrix[itest, :]\n",
      "\n",
      "print(\"{0} galaxy with stellar mass of {1:.2f} and sSFR of {2:.2f}\".format(\n",
      "    gal_type, np.log10(h['sm']), np.log10(h['sfr']/h['sm']) ))\n",
      "\n",
      "if np.log10(h['sfr']/h['sm']) < -11:\n",
      "    line_color = 'red'\n",
      "else:\n",
      "    line_color = 'blue'\n",
      "\n",
      "toy_history = np.log10(ssfr_array)\n",
      "plt.plot(universe_age_array[-1] - universe_age_array, toy_history, color=line_color)\n",
      "plt.plot(np.linspace(-0.1, 15, 100), np.zeros(100)-11, '--', color='gray')\n",
      "\n",
      "if gal_type == 'central':\n",
      "    plt.title(r'central $M_{\\ast} > 9.5$', size=20)\n",
      "else:\n",
      "    plt.title(r'satellite $M_{\\ast} > 9.5$', size=20)\n",
      "    \n",
      "plt.xlabel(r'$t_{\\rm lookback}$  $[{\\rm Gyr}]$', size=20)\n",
      "plt.xticks(size=14); plt.yticks(size=14)\n",
      "plt.ylabel(r'${\\rm log_{10}(sSFR})$  $[{\\rm Gyr^{-1}}]$', size=20)\n",
      "\n",
      "plt.xlim(xmin=-0.1, xmax=15)\n",
      "plt.ylim(ymin=-13, ymax=-8)\n",
      "\n",
      "print(\"Why is this galaxy not shown as quenched?\")"
     ],
     "language": "python",
     "metadata": {},
     "outputs": [
      {
       "output_type": "stream",
       "stream": "stdout",
       "text": [
        "itest = 161195\n",
        "central galaxy with stellar mass of 10.64 and sSFR of -10.17\n",
        "Why is this galaxy not shown as quenched?\n"
       ]
      },
      {
       "output_type": "stream",
       "stream": "stderr",
       "text": [
        "/Users/aphearin/anaconda/lib/python2.7/site-packages/ipykernel/__main__.py:24: RuntimeWarning: divide by zero encountered in log10\n"
       ]
      },
      {
       "metadata": {},
       "output_type": "display_data",
       "png": "[encoded data removed]",
       "text": [
        "<matplotlib.figure.Figure at 0x11451d090>"
       ]
      }
     ],
     "prompt_number": 207
    },
    {
     "cell_type": "heading",
     "level": 1,
     "metadata": {},
     "source": [
      "Something is wrong with these sSFR histories"
     ]
    },
    {
     "cell_type": "markdown",
     "metadata": {},
     "source": [
      "See itest = 161195, for example"
     ]
    },
    {
     "cell_type": "code",
     "collapsed": false,
     "input": [
      "len(qsats_accretion_quenching_timescale)"
     ],
     "language": "python",
     "metadata": {},
     "outputs": [
      {
       "metadata": {},
       "output_type": "pyout",
       "prompt_number": 20,
       "text": [
        "69737"
       ]
      }
     ],
     "prompt_number": 20
    },
    {
     "cell_type": "code",
     "collapsed": true,
     "input": [
      "mask = (qsats_accretion_quenching_timescale > 0.5) & (qsats_accretion_quenching_timescale < 2)"
     ],
     "language": "python",
     "metadata": {},
     "outputs": [],
     "prompt_number": 21
    },
    {
     "cell_type": "code",
     "collapsed": false,
     "input": [
      "len(qsats_accretion_quenching_timescale[mask])"
     ],
     "language": "python",
     "metadata": {},
     "outputs": [
      {
       "metadata": {},
       "output_type": "pyout",
       "prompt_number": 22,
       "text": [
        "15733"
       ]
      }
     ],
     "prompt_number": 22
    },
    {
     "cell_type": "code",
     "collapsed": false,
     "input": [
      "15733./69737."
     ],
     "language": "python",
     "metadata": {},
     "outputs": [
      {
       "metadata": {},
       "output_type": "pyout",
       "prompt_number": 23,
       "text": [
        "0.22560477221561007"
       ]
      }
     ],
     "prompt_number": 23
    },
    {
     "cell_type": "code",
     "collapsed": true,
     "input": [
      "sats.keys()"
     ],
     "language": "python",
     "metadata": {},
     "outputs": [
      {
       "metadata": {},
       "output_type": "pyout",
       "prompt_number": 19,
       "text": [
        "['id',\n",
        " 'sm',\n",
        " 'sfr',\n",
        " 'sfh',\n",
        " 'iclh',\n",
        " 'smh',\n",
        " 'upid',\n",
        " 'tidal_force_tdyn',\n",
        " 'mvir_host_halo',\n",
        " 'dmvir_dt_tdyn',\n",
        " 'time_first_acc',\n",
        " 'time_last_acc',\n",
        " 'quenching_time']"
       ]
      }
     ],
     "prompt_number": 19
    },
    {
     "cell_type": "code",
     "collapsed": false,
     "input": [],
     "language": "python",
     "metadata": {},
     "outputs": []
    }
   ],
   "metadata": {}
  }
 ]
}