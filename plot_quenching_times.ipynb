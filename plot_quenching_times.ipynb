{
 "cells": [
  {
   "cell_type": "code",
   "execution_count": 2,
   "metadata": {
    "collapsed": true
   },
   "outputs": [],
   "source": [
    "%matplotlib inline\n",
    "from matplotlib import pyplot as plt"
   ]
  },
  {
   "cell_type": "code",
   "execution_count": 3,
   "metadata": {
    "collapsed": true
   },
   "outputs": [],
   "source": [
    "import os\n",
    "from astropy.table import Table\n",
    "dirname = \"/Users/aphearin/Dropbox/UniverseMachine/data/histories/prelim_sfh_reduction\"\n",
    "history_fname = \"sfh_catalog_1.002310_smcut_9.50_formatted_histories.hdf5\"\n",
    "histories = Table.read(os.path.join(dirname, history_fname), path='data')\n",
    "\n",
    "universe_age_array_fname = os.path.join(dirname, \"times.npy\")\n",
    "universe_age_array = np.load(universe_age_array_fname)"
   ]
  },
  {
   "cell_type": "code",
   "execution_count": 6,
   "metadata": {
    "collapsed": true
   },
   "outputs": [],
   "source": [
    "from quenching_time import quenching_indices\n",
    "from mass_loss import ssfr_t_now"
   ]
  },
  {
   "cell_type": "code",
   "execution_count": 17,
   "metadata": {
    "collapsed": false
   },
   "outputs": [],
   "source": [
    "ssfr_matrix = np.zeros_like(histories['sfh'])\n",
    "for i, t in enumerate(universe_age_array):\n",
    "    ssfr_matrix[:, i] = ssfr_t_now(histories['sfh'], t)"
   ]
  },
  {
   "cell_type": "code",
   "execution_count": 26,
   "metadata": {
    "collapsed": false
   },
   "outputs": [],
   "source": [
    "idx_quenching_times = quenching_indices(ssfr_matrix <= 1e-11)"
   ]
  },
  {
   "cell_type": "code",
   "execution_count": 27,
   "metadata": {
    "collapsed": false
   },
   "outputs": [],
   "source": [
    "quenching_times = universe_age_array[idx_quenching_times]"
   ]
  },
  {
   "cell_type": "code",
   "execution_count": 44,
   "metadata": {
    "collapsed": false
   },
   "outputs": [
    {
     "data": {
      "text/plain": [
       "<matplotlib.text.Text at 0x1747a3d90>"
      ]
     },
     "execution_count": 44,
     "metadata": {},
     "output_type": "execute_result"
    },
    {
     "data": {
      "image/png": "[encoded data removed]",
      "text/plain": [
       "<matplotlib.figure.Figure at 0x10bbd7f10>"
      ]
     },
     "metadata": {},
     "output_type": "display_data"
    }
   ],
   "source": [
    "__ = plt.hist(quenching_times[quenching_times!=universe_age_array[-1]], \n",
    "              normed=True, bins=np.linspace(0, 14, 40))\n",
    "plt.xlabel('epoch of permanent quenching  [Gyr]', size=15)"
   ]
  },
  {
   "cell_type": "code",
   "execution_count": null,
   "metadata": {
    "collapsed": true
   },
   "outputs": [],
   "source": []
  }
 ],
 "metadata": {
  "kernelspec": {
   "display_name": "Python [Root]",
   "language": "python",
   "name": "Python [Root]"
  },
  "language_info": {
   "codemirror_mode": {
    "name": "ipython",
    "version": 2
   },
   "file_extension": ".py",
   "mimetype": "text/x-python",
   "name": "python",
   "nbconvert_exporter": "python",
   "pygments_lexer": "ipython2",
   "version": "2.7.12"
  }
 },
 "nbformat": 4,
 "nbformat_minor": 0
}
