{
 "cells": [
  {
   "cell_type": "code",
   "execution_count": 1,
   "metadata": {
    "collapsed": true
   },
   "outputs": [],
   "source": [
    "%matplotlib inline\n",
    "from matplotlib import pyplot as plt"
   ]
  },
  {
   "cell_type": "code",
   "execution_count": 2,
   "metadata": {
    "collapsed": true
   },
   "outputs": [],
   "source": [
    "import os\n",
    "from astropy.table import Table\n",
    "dirname = \"/Users/aphearin/Dropbox/UniverseMachine/data/histories/prelim_sfh_reduction\"\n",
    "history_fname = \"sfh_catalog_1.002310_smcut_9.50_formatted_histories.hdf5\"\n",
    "histories = Table.read(os.path.join(dirname, history_fname), path='data')\n",
    "\n",
    "universe_age_array_fname = os.path.join(dirname, \"times.npy\")\n",
    "universe_age_array = np.load(universe_age_array_fname)"
   ]
  },
  {
   "cell_type": "code",
   "execution_count": 3,
   "metadata": {
    "collapsed": true
   },
   "outputs": [],
   "source": [
    "from quenching_time import quenching_indices\n",
    "from mass_loss import ssfr_t_now"
   ]
  },
  {
   "cell_type": "code",
   "execution_count": 4,
   "metadata": {
    "collapsed": false
   },
   "outputs": [],
   "source": [
    "ssfr_matrix = np.zeros_like(histories['sfh'])\n",
    "for i, t in enumerate(universe_age_array):\n",
    "    ssfr_matrix[:, i] = ssfr_t_now(histories['sfh'], t)"
   ]
  },
  {
   "cell_type": "code",
   "execution_count": 5,
   "metadata": {
    "collapsed": false
   },
   "outputs": [],
   "source": [
    "idx_quenching_times = quenching_indices(ssfr_matrix <= 1e-11)\n",
    "quenching_times = universe_age_array[idx_quenching_times]\n",
    "histories['quenching_time'] = quenching_times"
   ]
  },
  {
   "cell_type": "markdown",
   "metadata": {},
   "source": [
    "# crossmatch with bolplanck halo catalog"
   ]
  },
  {
   "cell_type": "code",
   "execution_count": 6,
   "metadata": {
    "collapsed": true
   },
   "outputs": [],
   "source": [
    "from halotools.sim_manager import CachedHaloCatalog\n",
    "halocat = CachedHaloCatalog(simname='bolplanck', redshift=0)\n",
    "halo_id = halocat.halo_table['halo_id']"
   ]
  },
  {
   "cell_type": "code",
   "execution_count": 7,
   "metadata": {
    "collapsed": true
   },
   "outputs": [],
   "source": [
    "from halotools.utils import crossmatch\n",
    "idxA, idxB = crossmatch(histories['id'], halocat.halo_table['halo_id'])"
   ]
  },
  {
   "cell_type": "code",
   "execution_count": 8,
   "metadata": {
    "collapsed": true
   },
   "outputs": [],
   "source": [
    "histories['upid'] = 0L\n",
    "histories['upid'][idxA] = halocat.halo_table['halo_upid'][idxB]"
   ]
  },
  {
   "cell_type": "code",
   "execution_count": 15,
   "metadata": {
    "collapsed": false
   },
   "outputs": [],
   "source": [
    "quenched_cenmask = (histories['upid'] == -1) & (histories['sfr']/histories['sm'] < 1e-11)\n",
    "quenched_satmask = (histories['upid'] != -1) & (histories['sfr']/histories['sm'] < 1e-11)"
   ]
  },
  {
   "cell_type": "code",
   "execution_count": 37,
   "metadata": {
    "collapsed": false
   },
   "outputs": [
    {
     "data": {
      "text/plain": [
       "<matplotlib.legend.Legend at 0x1546b8390>"
      ]
     },
     "execution_count": 37,
     "metadata": {},
     "output_type": "execute_result"
    },
    {
     "data": {
      "image/png": "[encoded data removed]",
      "text/plain": [
       "<matplotlib.figure.Figure at 0x155bf61d0>"
      ]
     },
     "metadata": {},
     "output_type": "display_data"
    }
   ],
   "source": [
    "__ = plt.hist(histories['quenching_time'][quenched_satmask], \n",
    "              normed=True, bins=np.linspace(0, 14, 40), color='r', \n",
    "              histtype='stepfilled', alpha=0.5, label='satellites')\n",
    "\n",
    "__ = plt.hist(histories['quenching_time'][quenched_cenmask], \n",
    "              normed=True, bins=np.linspace(0, 14, 40), color='mediumblue', \n",
    "              histtype='stepfilled', alpha=0.5, label='centrals')\n",
    "\n",
    "\n",
    "plt.xlabel('epoch of permanent quenching  [Gyr]', size=15)\n",
    "plt.legend(loc='upper left', fontsize=15, frameon=False)"
   ]
  },
  {
   "cell_type": "code",
   "execution_count": null,
   "metadata": {
    "collapsed": true
   },
   "outputs": [],
   "source": []
  }
 ],
 "metadata": {
  "kernelspec": {
   "display_name": "Python [Root]",
   "language": "python",
   "name": "Python [Root]"
  },
  "language_info": {
   "codemirror_mode": {
    "name": "ipython",
    "version": 2
   },
   "file_extension": ".py",
   "mimetype": "text/x-python",
   "name": "python",
   "nbconvert_exporter": "python",
   "pygments_lexer": "ipython2",
   "version": "2.7.12"
  }
 },
 "nbformat": 4,
 "nbformat_minor": 0
}
