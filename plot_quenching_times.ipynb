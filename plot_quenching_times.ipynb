{
 "cells": [
  {
   "cell_type": "code",
   "execution_count": 1,
   "metadata": {
    "collapsed": true
   },
   "outputs": [],
   "source": [
    "%matplotlib inline\n",
    "from matplotlib import pyplot as plt"
   ]
  },
  {
   "cell_type": "code",
   "execution_count": 2,
   "metadata": {
    "collapsed": true
   },
   "outputs": [],
   "source": [
    "import os\n",
    "from astropy.table import Table\n",
    "dirname = \"/Users/aphearin/Dropbox/UniverseMachine/data/histories/prelim_sfh_reduction\"\n",
    "history_fname = \"sfh_catalog_1.002310_smcut_9.50_formatted_histories.hdf5\"\n",
    "histories = Table.read(os.path.join(dirname, history_fname), path='data')\n",
    "\n",
    "universe_age_array_fname = os.path.join(dirname, \"times.npy\")\n",
    "universe_age_array = np.load(universe_age_array_fname)"
   ]
  },
  {
   "cell_type": "code",
   "execution_count": 3,
   "metadata": {
    "collapsed": true
   },
   "outputs": [],
   "source": [
    "from quenching_time import quenching_indices\n",
    "from mass_loss import ssfr_t_now"
   ]
  },
  {
   "cell_type": "code",
   "execution_count": 4,
   "metadata": {
    "collapsed": false
   },
   "outputs": [],
   "source": [
    "ssfr_matrix = np.zeros_like(histories['sfh'])\n",
    "for i, t in enumerate(universe_age_array):\n",
    "    ssfr_matrix[:, i] = ssfr_t_now(histories['sfh'], t)"
   ]
  },
  {
   "cell_type": "code",
   "execution_count": 5,
   "metadata": {
    "collapsed": false
   },
   "outputs": [],
   "source": [
    "idx_quenching_times = quenching_indices(ssfr_matrix <= 1e-11)\n",
    "quenching_times = universe_age_array[idx_quenching_times]\n",
    "histories['quenching_time'] = quenching_times"
   ]
  },
  {
   "cell_type": "markdown",
   "metadata": {},
   "source": [
    "# crossmatch with bolplanck halo catalog"
   ]
  },
  {
   "cell_type": "code",
   "execution_count": 6,
   "metadata": {
    "collapsed": true
   },
   "outputs": [],
   "source": [
    "from halotools.sim_manager import CachedHaloCatalog\n",
    "halocat = CachedHaloCatalog(simname='bolplanck', redshift=0)\n",
    "halo_id = halocat.halo_table['halo_id']"
   ]
  },
  {
   "cell_type": "code",
   "execution_count": 7,
   "metadata": {
    "collapsed": true
   },
   "outputs": [],
   "source": [
    "from halotools.utils import crossmatch\n",
    "idxA, idxB = crossmatch(histories['id'], halocat.halo_table['halo_id'])\n",
    "\n",
    "histories['upid'] = 0L\n",
    "histories['upid'][idxA] = halocat.halo_table['halo_upid'][idxB]\n",
    "\n",
    "histories['halo_scale_factor_mpeak'] = -1.\n",
    "histories['halo_scale_factor_mpeak'][idxA] = halocat.halo_table['halo_scale_factor_mpeak'][idxB]\n",
    "\n",
    "histories['halo_scale_factor_firstacc'] = 0.\n",
    "histories['halo_scale_factor_firstacc'][idxA] = halocat.halo_table['halo_scale_factor_firstacc'][idxB]\n",
    "\n",
    "histories = histories[histories['halo_scale_factor_mpeak'] != -1]"
   ]
  },
  {
   "cell_type": "code",
   "execution_count": 8,
   "metadata": {
    "collapsed": false
   },
   "outputs": [],
   "source": [
    "quenched_cenmask = (histories['upid'] == -1) & (histories['sfr']/histories['sm'] < 1e-11)\n",
    "quenched_cens = histories[quenched_cenmask]\n",
    "\n",
    "quenched_satmask = (histories['upid'] != -1) & (histories['sfr']/histories['sm'] < 1e-11)\n",
    "quenched_sats = histories[quenched_satmask]"
   ]
  },
  {
   "cell_type": "code",
   "execution_count": 9,
   "metadata": {
    "collapsed": false
   },
   "outputs": [
    {
     "data": {
      "text/plain": [
       "<matplotlib.legend.Legend at 0x150f85710>"
      ]
     },
     "execution_count": 9,
     "metadata": {},
     "output_type": "execute_result"
    },
    {
     "data": {
      "image/png": "[encoded data removed]",
      "text/plain": [
       "<matplotlib.figure.Figure at 0x1703d58d0>"
      ]
     },
     "metadata": {},
     "output_type": "display_data"
    }
   ],
   "source": [
    "fig = plt.figure()\n",
    "ax = fig.add_subplot(111)\n",
    "\n",
    "xlabel = ax.set_xlabel(r'$t_{\\rm lookback}^{\\rm quench}$  $[{\\rm Gyr}]$', fontsize=20)\n",
    "ylabel = ax.set_ylabel(r'PDF', fontsize=20)\n",
    "# title = ax.set_title('some title', fontsize=20, y=1.02) # y param fixes an overhanging title\n",
    "\n",
    "plt.hist(universe_age_array[-1] - quenched_sats['quenching_time'], \n",
    "              normed=True, bins=np.linspace(-0.1, 10, 40), color='#f62217', \n",
    "              histtype='stepfilled', alpha=0.5, label='quenched satellites')\n",
    "\n",
    "plt.hist(universe_age_array[-1] - quenched_cens['quenching_time'], \n",
    "              normed=True, bins=np.linspace(-0.1, 10, 40), color='mediumblue', \n",
    "              histtype='stepfilled', alpha=0.5, label='quenched centrals')\n",
    "\n",
    "plt.xticks(fontsize=20)\n",
    "plt.yticks(fontsize=20)\n",
    "plt.xlim(xmin = -0.1, xmax=11)\n",
    "plt.legend(loc='upper right', fontsize=15, frameon=False)\n",
    "\n",
    "# plt.savefig('FIGS/cens_sats_quenching_time.pdf', bbox_extra_artists=[xlabel, ylabel], bbox_inches='tight')"
   ]
  },
  {
   "cell_type": "markdown",
   "metadata": {},
   "source": [
    "### now calculate the age-of-accretion from the scale-factor-of-accretion"
   ]
  },
  {
   "cell_type": "code",
   "execution_count": 10,
   "metadata": {
    "collapsed": false
   },
   "outputs": [],
   "source": [
    "from astropy.cosmology import Planck13\n",
    "\n",
    "qsats_aacc = quenched_sats['halo_scale_factor_firstacc']\n",
    "qsats_zacc = 1./qsats_aacc - 1.\n",
    "\n",
    "qsats_tacc = Planck13.age(qsats_zacc)\n",
    "\n",
    "qcens_aacc = quenched_cens['halo_scale_factor_firstacc']\n",
    "qcens_zacc = 1./qcens_aacc - 1.\n",
    "\n",
    "qcens_tacc = Planck13.age(qcens_zacc)"
   ]
  },
  {
   "cell_type": "code",
   "execution_count": 11,
   "metadata": {
    "collapsed": false
   },
   "outputs": [
    {
     "data": {
      "text/plain": [
       "<matplotlib.legend.Legend at 0x1703e2790>"
      ]
     },
     "execution_count": 11,
     "metadata": {},
     "output_type": "execute_result"
    },
    {
     "data": {
      "image/png": "[encoded data removed]",
      "text/plain": [
       "<matplotlib.figure.Figure at 0x1703e2810>"
      ]
     },
     "metadata": {},
     "output_type": "display_data"
    }
   ],
   "source": [
    "__ = plt.hist(qsats_tacc, \n",
    "              normed=True, bins=np.linspace(0, 14, 40), color='r', \n",
    "              histtype='stepfilled', alpha=0.5, label='quenched satellites')\n",
    "\n",
    "__ = plt.hist(qcens_tacc, \n",
    "              normed=True, bins=np.linspace(0, 14, 40), color='blue', \n",
    "              histtype='stepfilled', alpha=0.5, label='quenched centrals')\n",
    "\n",
    "plt.xlabel('epoch of first accretion  [Gyr]', size=15)\n",
    "plt.legend(frameon=False, loc='upper left', fontsize=15)"
   ]
  },
  {
   "cell_type": "code",
   "execution_count": 19,
   "metadata": {
    "collapsed": false
   },
   "outputs": [
    {
     "data": {
      "image/png": "[encoded data removed]",
      "text/plain": [
       "<matplotlib.figure.Figure at 0x10cc75890>"
      ]
     },
     "metadata": {},
     "output_type": "display_data"
    }
   ],
   "source": [
    "qsats_accretion_quenching_timescale = quenched_sats['quenching_time'] - qsats_tacc.value\n",
    "\n",
    "__ = plt.hist(qsats_accretion_quenching_timescale, \n",
    "              normed=True, bins=np.linspace(-5, 10, 75), color='red', \n",
    "              histtype='stepfilled', alpha=0.5, label='quenched satellites')\n",
    "\n",
    "plt.xlabel(r'$t_{\\rm quench} - t_{\\rm acc}$  $[{\\rm Gyr}]$', size=21)\n",
    "plt.title('quenched satellites', size=15)\n",
    "plt.savefig('FIGS/qsats_tq_tacc_diff.pdf', bbox_extra_artists=[xlabel, ylabel], bbox_inches='tight')"
   ]
  },
  {
   "cell_type": "code",
   "execution_count": 18,
   "metadata": {
    "collapsed": false
   },
   "outputs": [
    {
     "data": {
      "image/png": "[encoded data removed]",
      "text/plain": [
       "<matplotlib.figure.Figure at 0x151f59d50>"
      ]
     },
     "metadata": {},
     "output_type": "display_data"
    }
   ],
   "source": [
    "qsats_mpeak_quenching_timescale = quenched_sats['quenching_time'] - qsats_tacc.value\n",
    "\n",
    "__ = plt.hist(qsats_mpeak_quenching_timescale, \n",
    "              normed=True, bins=np.linspace(-5, 10, 75), color='red', \n",
    "              histtype='stepfilled', alpha=0.5, label='quenched satellites')\n",
    "plt.xlabel(r'$t_{\\rm quench} - t_{\\rm Mpeak}$  $[{\\rm Gyr}]$', size=21)\n",
    "plt.title('quenched satellites', size=15)\n",
    "plt.savefig('FIGS/qsats_tq_tmpeak_diff.pdf', bbox_extra_artists=[xlabel, ylabel], bbox_inches='tight')"
   ]
  },
  {
   "cell_type": "markdown",
   "metadata": {},
   "source": [
    "# now for something different"
   ]
  },
  {
   "cell_type": "code",
   "execution_count": 131,
   "metadata": {
    "collapsed": false
   },
   "outputs": [
    {
     "data": {
      "text/plain": [
       "['id',\n",
       " 'sm',\n",
       " 'sfr',\n",
       " 'sfh',\n",
       " 'iclh',\n",
       " 'quenching_time',\n",
       " 'upid',\n",
       " 'halo_scale_factor_mpeak',\n",
       " 'halo_scale_factor_firstacc']"
      ]
     },
     "execution_count": 131,
     "metadata": {},
     "output_type": "execute_result"
    }
   ],
   "source": [
    "histories.keys()"
   ]
  },
  {
   "cell_type": "code",
   "execution_count": 207,
   "metadata": {
    "collapsed": false
   },
   "outputs": [
    {
     "name": "stdout",
     "output_type": "stream",
     "text": [
      "itest = 161195\n",
      "central galaxy with stellar mass of 10.64 and sSFR of -10.17\n",
      "Why is this galaxy not shown as quenched?\n"
     ]
    },
    {
     "name": "stderr",
     "output_type": "stream",
     "text": [
      "/Users/aphearin/anaconda/lib/python2.7/site-packages/ipykernel/__main__.py:24: RuntimeWarning: divide by zero encountered in log10\n"
     ]
    },
    {
     "data": {
      "image/png": "[encoded data removed]",
      "text/plain": [
       "<matplotlib.figure.Figure at 0x11451d090>"
      ]
     },
     "metadata": {},
     "output_type": "display_data"
    }
   ],
   "source": [
    "itest=np.random.randint(0, len(histories)-1)\n",
    "itest = 161195\n",
    "\n",
    "\n",
    "print(\"itest = {0}\".format(itest))\n",
    "\n",
    "h = histories[itest]\n",
    "if h['upid'] == -1:\n",
    "    gal_type = 'central'\n",
    "else:\n",
    "    gal_type = 'satellite'\n",
    "    \n",
    "\n",
    "ssfr_array = ssfr_matrix[itest, :]\n",
    "\n",
    "print(\"{0} galaxy with stellar mass of {1:.2f} and sSFR of {2:.2f}\".format(\n",
    "    gal_type, np.log10(h['sm']), np.log10(h['sfr']/h['sm']) ))\n",
    "\n",
    "if np.log10(h['sfr']/h['sm']) < -11:\n",
    "    line_color = 'red'\n",
    "else:\n",
    "    line_color = 'blue'\n",
    "\n",
    "toy_history = np.log10(ssfr_array)\n",
    "plt.plot(universe_age_array[-1] - universe_age_array, toy_history, color=line_color)\n",
    "plt.plot(np.linspace(-0.1, 15, 100), np.zeros(100)-11, '--', color='gray')\n",
    "\n",
    "if gal_type == 'central':\n",
    "    plt.title(r'central $M_{\\ast} > 9.5$', size=20)\n",
    "else:\n",
    "    plt.title(r'satellite $M_{\\ast} > 9.5$', size=20)\n",
    "    \n",
    "plt.xlabel(r'$t_{\\rm lookback}$  $[{\\rm Gyr}]$', size=20)\n",
    "plt.xticks(size=14); plt.yticks(size=14)\n",
    "plt.ylabel(r'${\\rm log_{10}(sSFR})$  $[{\\rm Gyr^{-1}}]$', size=20)\n",
    "\n",
    "plt.xlim(xmin=-0.1, xmax=15)\n",
    "plt.ylim(ymin=-13, ymax=-8)\n",
    "\n",
    "print(\"Why is this galaxy not shown as quenched?\")"
   ]
  },
  {
   "cell_type": "markdown",
   "metadata": {},
   "source": [
    "# Something is wrong with these sSFR histories"
   ]
  },
  {
   "cell_type": "markdown",
   "metadata": {},
   "source": [
    "See itest = 161195, for example"
   ]
  },
  {
   "cell_type": "code",
   "execution_count": 20,
   "metadata": {
    "collapsed": false
   },
   "outputs": [
    {
     "data": {
      "text/plain": [
       "69737"
      ]
     },
     "execution_count": 20,
     "metadata": {},
     "output_type": "execute_result"
    }
   ],
   "source": [
    "len(qsats_accretion_quenching_timescale)"
   ]
  },
  {
   "cell_type": "code",
   "execution_count": 21,
   "metadata": {
    "collapsed": true
   },
   "outputs": [],
   "source": [
    "mask = (qsats_accretion_quenching_timescale > 0.5) & (qsats_accretion_quenching_timescale < 2)"
   ]
  },
  {
   "cell_type": "code",
   "execution_count": 22,
   "metadata": {
    "collapsed": false
   },
   "outputs": [
    {
     "data": {
      "text/plain": [
       "15733"
      ]
     },
     "execution_count": 22,
     "metadata": {},
     "output_type": "execute_result"
    }
   ],
   "source": [
    "len(qsats_accretion_quenching_timescale[mask])"
   ]
  },
  {
   "cell_type": "code",
   "execution_count": 23,
   "metadata": {
    "collapsed": false
   },
   "outputs": [
    {
     "data": {
      "text/plain": [
       "0.22560477221561007"
      ]
     },
     "execution_count": 23,
     "metadata": {},
     "output_type": "execute_result"
    }
   ],
   "source": [
    "15733./69737."
   ]
  },
  {
   "cell_type": "code",
   "execution_count": null,
   "metadata": {
    "collapsed": true
   },
   "outputs": [],
   "source": []
  }
 ],
 "metadata": {
  "anaconda-cloud": {},
  "kernelspec": {
   "display_name": "Python [Root]",
   "language": "python",
   "name": "Python [Root]"
  },
  "language_info": {
   "codemirror_mode": {
    "name": "ipython",
    "version": 2
   },
   "file_extension": ".py",
   "mimetype": "text/x-python",
   "name": "python",
   "nbconvert_exporter": "python",
   "pygments_lexer": "ipython2",
   "version": "2.7.12"
  }
 },
 "nbformat": 4,
 "nbformat_minor": 0
}
