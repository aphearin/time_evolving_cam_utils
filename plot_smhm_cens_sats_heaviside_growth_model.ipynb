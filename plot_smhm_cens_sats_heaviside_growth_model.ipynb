{
 "cells": [
  {
   "cell_type": "markdown",
   "metadata": {},
   "source": [
    "# Exploratory analysis of post-Mpeak growth"
   ]
  },
  {
   "cell_type": "code",
   "execution_count": 1,
   "metadata": {
    "collapsed": true
   },
   "outputs": [],
   "source": [
    "%matplotlib inline\n",
    "from matplotlib import pyplot as plt\n",
    "from matplotlib import lines as mlines\n",
    "import os"
   ]
  },
  {
   "cell_type": "code",
   "execution_count": 2,
   "metadata": {
    "collapsed": true
   },
   "outputs": [],
   "source": [
    "from read_sfh import get_scales\n",
    "small_file_fname = \"/Users/aphearin/Dropbox/UniverseMachine/data/histories/small_sfh_catalog_1.002310.txt\"\n",
    "scale_factor_array = get_scales(small_file_fname)\n",
    "cosmic_age_array = np.load('/Users/aphearin/Dropbox/UniverseMachine/data/histories/prelim_sfh_reduction/times.npy')"
   ]
  },
  {
   "cell_type": "code",
   "execution_count": 3,
   "metadata": {
    "collapsed": false
   },
   "outputs": [
    {
     "name": "stdout",
     "output_type": "stream",
     "text": [
      "... Assembling history data\n",
      "... Assembling halo catalog data\n",
      "... Cross-matching on halo_id\n",
      "\n",
      "Number of objects in history catalog = 701037\n",
      "Number of objects in halo catalog = 12085858\n",
      "Number of matching objects = 646460\n",
      "Fraction of objects appearing in both catalogs = 0.922\n",
      "New colnames to add from halo catalog = ['first_acc_scale', 'mpeak_scale', 'delta_vmax_tdyn_behroozi16', 'acc_rate_1tdyn']\n"
     ]
    }
   ],
   "source": [
    "from collate_full_catalog import collate_catalog\n",
    "z_string = 'z0'\n",
    "\n",
    "\n",
    "history_colnames = ('halo_id', 'halo_upid', 'halo_mpeak', 'halo_vmax_at_mpeak', 'halo_tidal_force', \n",
    "                'stellar_mass', 'sfr', 'sfr_mp', 'sm_mp')\n",
    "halocat_propnames = ('halo_id', 'first_acc_scale', 'acc_rate_1tdyn', \n",
    "                     'mpeak_scale', 'delta_vmax_tdyn_behroozi16')\n",
    "\n",
    "cat = collate_catalog(z_string, history_colnames=history_colnames, \n",
    "                      halocat_propnames=halocat_propnames, verbose=True)"
   ]
  },
  {
   "cell_type": "code",
   "execution_count": 4,
   "metadata": {
    "collapsed": false
   },
   "outputs": [],
   "source": [
    "orphan_mask = cat['orphan'] == True\n",
    "\n",
    "mpeak_cosmic_age = np.ones(len(orphan_mask))\n",
    "mpeak_cosmic_age = np.interp(cat['mpeak_scale'], scale_factor_array, cosmic_age_array)\n",
    "cat['mpeak_cosmic_age'] = mpeak_cosmic_age\n",
    "\n",
    "mpeak_redshift = np.zeros(len(orphan_mask))\n",
    "mpeak_redshift[~orphan_mask] = 1./cat['mpeak_scale'][~orphan_mask] - 1."
   ]
  },
  {
   "cell_type": "code",
   "execution_count": 5,
   "metadata": {
    "collapsed": false
   },
   "outputs": [
    {
     "data": {
      "text/plain": [
       "(0, 177)"
      ]
     },
     "execution_count": 5,
     "metadata": {},
     "output_type": "execute_result"
    }
   ],
   "source": [
    "num_gals = cat['sm_mp'].shape[0]\n",
    "idx_mpeak_scale = np.searchsorted(scale_factor_array, cat['mpeak_scale'])\n",
    "stellar_mass_at_mpeak_scale = cat['sm_mp'][np.arange(num_gals), idx_mpeak_scale]\n",
    "idx_mpeak_scale.min(), idx_mpeak_scale.max()"
   ]
  },
  {
   "cell_type": "code",
   "execution_count": 6,
   "metadata": {
    "collapsed": false
   },
   "outputs": [],
   "source": [
    "cat['stellar_mass_at_mpeak_scale'] = stellar_mass_at_mpeak_scale"
   ]
  },
  {
   "cell_type": "code",
   "execution_count": 7,
   "metadata": {
    "collapsed": true
   },
   "outputs": [],
   "source": [
    "from halotools.mock_observables import mean_y_vs_x"
   ]
  },
  {
   "cell_type": "code",
   "execution_count": 103,
   "metadata": {
    "collapsed": false
   },
   "outputs": [],
   "source": [
    "_bins = 10**np.linspace(10.5, 14.25, 20)\n",
    "\n",
    "mpeak_abscissa, sm_all, sm_all_err = mean_y_vs_x(cat['halo_mpeak'], cat['stellar_mass'], bins=_bins)\n",
    "logmpeak_abscissa, log_sm_all = np.log10(mpeak_abscissa), np.log10(sm_all)\n",
    "\n",
    "nonzero_mask_all = cat['stellar_mass_at_mpeak_scale'] > 0\n",
    "__, sm_at_mpeak_all, sm_all_at_mpeak_err = mean_y_vs_x(cat['halo_mpeak'], \n",
    "                                                        cat['stellar_mass_at_mpeak_scale'],\n",
    "                                                        bins = _bins)\n",
    "log_sm_at_mpeak_all = np.log10(sm_at_mpeak_all)"
   ]
  },
  {
   "cell_type": "code",
   "execution_count": 104,
   "metadata": {
    "collapsed": false
   },
   "outputs": [],
   "source": [
    "cenmask = cat['halo_upid'] == -1\n",
    "\n",
    "mpeak_abscissa_cens, sm_cens, sm_err_cens = mean_y_vs_x(cat['halo_mpeak'][cenmask], \n",
    "                                                        cat['stellar_mass'][cenmask],\n",
    "                                                        bins = _bins)\n",
    "log_mpeak_abscissa_cens, log_sm_cens = np.log10(mpeak_abscissa_cens), np.log10(sm_cens)\n",
    "\n",
    "\n",
    "__, sm_at_mpeak_cens, sm_at_mpeak_err_cens = mean_y_vs_x(cat['halo_mpeak'][cenmask], \n",
    "                                                               cat['stellar_mass_at_mpeak_scale'][cenmask],\n",
    "                                                               bins = _bins)\n",
    "log_sm_at_mpeak_cens = np.log10(sm_at_mpeak_cens)\n",
    "\n",
    "mpeak_abscissa_sats, sm_sats, sm_err_sats = mean_y_vs_x(cat['halo_mpeak'][~cenmask], \n",
    "                                                               cat['stellar_mass'][~cenmask],\n",
    "                                                               bins = _bins)\n",
    "log_mpeak_abscissa_sats, log_sm_sats = np.log10(mpeak_abscissa_sats), np.log10(sm_sats)\n",
    "__, sm_at_mpeak_sats, sm_at_mpeak_err_sats = mean_y_vs_x(cat['halo_mpeak'][~cenmask], \n",
    "                                                               cat['stellar_mass_at_mpeak_scale'][~cenmask],\n",
    "                                                               bins = _bins)\n",
    "log_sm_at_mpeak_sats = np.log10(sm_at_mpeak_sats)\n",
    "\n",
    "sm_cens_ratio = sm_cens/sm_all\n",
    "sm_cens_at_mpeak_ratio = sm_at_mpeak_cens/sm_at_mpeak_all\n",
    "sm_cens_to_mpeak_ratio = sm_at_mpeak_cens/sm_cens\n",
    "\n",
    "sm_sats_ratio = sm_sats/sm_all\n",
    "sm_sats_at_mpeak_ratio = sm_at_mpeak_sats/sm_at_mpeak_all\n",
    "sm_sats_to_mpeak_ratio = sm_at_mpeak_sats/sm_sats"
   ]
  },
  {
   "cell_type": "code",
   "execution_count": 105,
   "metadata": {
    "collapsed": false
   },
   "outputs": [
    {
     "data": {
      "text/plain": [
       "<matplotlib.legend.Legend at 0x12344acd0>"
      ]
     },
     "execution_count": 105,
     "metadata": {},
     "output_type": "execute_result"
    },
    {
     "data": {
      "image/png": "[encoded data removed]",
      "text/plain": [
       "<matplotlib.figure.Figure at 0x1230bd7d0>"
      ]
     },
     "metadata": {},
     "output_type": "display_data"
    }
   ],
   "source": [
    "fig = plt.figure()\n",
    "ax = fig.add_subplot(111)\n",
    "\n",
    "xlabel = ax.set_xlabel(r'$M_{\\rm peak}$', fontsize=20)\n",
    "ylabel = ax.set_ylabel(r'$M_{\\ast}(z=0) / M_{\\ast}(z_{\\rm peak})$', fontsize=20)\n",
    "title = ax.set_title(r'$M_{\\ast}$-growth after $M_{\\rm peak}$', fontsize=20, y=1.02) # y param fixes an overhanging title\n",
    "\n",
    "ax.plot(10**log_mpeak_abscissa_sats, sm_sats/sm_at_mpeak_sats, color='red', label='z=0 satellites')\n",
    "ax.plot(10**log_mpeak_abscissa_cens, sm_cens/sm_at_mpeak_cens, color='blue', label='z=0 centrals')\n",
    "\n",
    "_x = np.linspace(10.5, 14, 100)\n",
    "ax.plot(10**_x, np.ones_like(_x), '--', color='k')\n",
    "\n",
    "plt.xlim(xmin = 1e11, xmax=1e14)\n",
    "plt.ylim(ymin = 0.8, ymax = 6)\n",
    "\n",
    "plt.xscale('log')\n",
    "plt.xticks(fontsize=11)\n",
    "plt.yticks(fontsize=11)\n",
    "\n",
    "ax.tick_params(axis='x', length=4, width=1, which='major')\n",
    "ax.tick_params(axis='x', length=2, width=1, which='minor')\n",
    "ax.tick_params(axis='y', length=4, width=1, which='major')\n",
    "ax.tick_params(axis='y', length=2, width=1, which='minor')\n",
    "\n",
    "ax.legend(frameon=False, loc='upper right')"
   ]
  },
  {
   "cell_type": "code",
   "execution_count": 110,
   "metadata": {
    "collapsed": false
   },
   "outputs": [],
   "source": [
    "cenmask = cat['halo_upid'] == -1\n",
    "\n",
    "mpeak_abscissa, mpeak_time_all, __ = mean_y_vs_x(cat['halo_mpeak'], cat['mpeak_cosmic_age'], bins=_bins)\n",
    "\n",
    "__, mpeak_time_cens, __ = mean_y_vs_x(cat['halo_mpeak'][cenmask], \n",
    "                                                        cat['mpeak_cosmic_age'][cenmask],\n",
    "                                                        bins = _bins)\n",
    "__, mpeak_time_sats, __ = mean_y_vs_x(cat['halo_mpeak'][~cenmask], \n",
    "                                                        cat['mpeak_cosmic_age'][~cenmask],\n",
    "                                                        bins = _bins)"
   ]
  },
  {
   "cell_type": "code",
   "execution_count": 111,
   "metadata": {
    "collapsed": false
   },
   "outputs": [
    {
     "data": {
      "image/png": "[encoded data removed]",
      "text/plain": [
       "<matplotlib.figure.Figure at 0x122d687d0>"
      ]
     },
     "metadata": {},
     "output_type": "display_data"
    }
   ],
   "source": [
    "fig = plt.figure()\n",
    "ax = fig.add_subplot(111)\n",
    "\n",
    "xlabel = ax.set_xlabel(r'$M_{\\rm peak}$', fontsize=20)\n",
    "ylabel = ax.set_ylabel(r'${\\rm time}$ ${\\rm since}$ $M_{\\rm peak}$ $[{\\rm Gyr}]$', fontsize=18)\n",
    "title = ax.set_title(r'$M_{\\ast}$-growth after $M_{\\rm peak}$', fontsize=20, y=1.02) # y param fixes an overhanging title\n",
    "\n",
    "ax.plot(10**log_mpeak_abscissa_cens, 13.8-mpeak_time_cens, color='blue', label='z=0 centrals')\n",
    "ax.plot(10**log_mpeak_abscissa_sats, 13.8-mpeak_time_sats, color='red', label='z=0 satellites')\n",
    "\n",
    "plt.xlim(xmin = 1e11, xmax=2e14)\n",
    "plt.ylim(ymin = 0, ymax = 10)\n",
    "\n",
    "plt.xscale('log')\n",
    "\n",
    "plt.xticks(fontsize=11)\n",
    "plt.yticks(fontsize=11)\n",
    "ax.tick_params(axis='x', length=4, width=1, which='major')\n",
    "ax.tick_params(axis='x', length=2, width=1, which='minor')\n",
    "ax.tick_params(axis='y', length=4, width=1, which='major')\n",
    "ax.tick_params(axis='y', length=2, width=1, which='minor')"
   ]
  },
  {
   "cell_type": "code",
   "execution_count": null,
   "metadata": {
    "collapsed": false
   },
   "outputs": [],
   "source": [
    "cat['stellar_mass_at_mpeak_scale'][~cenmask].min()"
   ]
  },
  {
   "cell_type": "code",
   "execution_count": null,
   "metadata": {
    "collapsed": false
   },
   "outputs": [],
   "source": [
    "log_sm_sats/log_sm_at_mpeak_sats"
   ]
  },
  {
   "cell_type": "code",
   "execution_count": null,
   "metadata": {
    "collapsed": false
   },
   "outputs": [],
   "source": [
    "mask = (cat['halo_mpeak'] > 1e12) & (cat['halo_mpeak'] < 2e12)\n",
    "sample = cat[mask]\n",
    "sample_cenmask = sample['halo_upid'] == -1\n",
    "print('satellite fraction = {0:.2f}'.format(len(sample[~sample_cenmask])/float(len(sample))))"
   ]
  },
  {
   "cell_type": "code",
   "execution_count": null,
   "metadata": {
    "collapsed": false
   },
   "outputs": [],
   "source": [
    "np.mean(np.log10(sample['stellar_mass'][sample_cenmask])), np.mean(np.log10(sample['stellar_mass'][~sample_cenmask]))"
   ]
  },
  {
   "cell_type": "code",
   "execution_count": null,
   "metadata": {
    "collapsed": false
   },
   "outputs": [],
   "source": [
    "print(log_mpeak_abscissa[13], log_mpeak_abscissa[16])"
   ]
  },
  {
   "cell_type": "code",
   "execution_count": null,
   "metadata": {
    "collapsed": false
   },
   "outputs": [],
   "source": [
    "log_sm_sats[13:16]"
   ]
  },
  {
   "cell_type": "code",
   "execution_count": null,
   "metadata": {
    "collapsed": false
   },
   "outputs": [],
   "source": [
    "log_sm_cens[13:16]"
   ]
  },
  {
   "cell_type": "code",
   "execution_count": null,
   "metadata": {
    "collapsed": false
   },
   "outputs": [],
   "source": [
    "np.log10(2e12)"
   ]
  },
  {
   "cell_type": "code",
   "execution_count": null,
   "metadata": {
    "collapsed": false
   },
   "outputs": [],
   "source": [
    "cat['halo_mpeak'].max()"
   ]
  },
  {
   "cell_type": "code",
   "execution_count": null,
   "metadata": {
    "collapsed": false
   },
   "outputs": [],
   "source": [
    "log_mpeak_abscissa"
   ]
  },
  {
   "cell_type": "code",
   "execution_count": null,
   "metadata": {
    "collapsed": false
   },
   "outputs": [],
   "source": [
    "np.log10(cat['stellar_mass_at_mpeak_scale']).min()"
   ]
  },
  {
   "cell_type": "code",
   "execution_count": null,
   "metadata": {
    "collapsed": true
   },
   "outputs": [],
   "source": []
  }
 ],
 "metadata": {
  "anaconda-cloud": {},
  "kernelspec": {
   "display_name": "Python [conda root]",
   "language": "python",
   "name": "conda-root-py"
  },
  "language_info": {
   "codemirror_mode": {
    "name": "ipython",
    "version": 2
   },
   "file_extension": ".py",
   "mimetype": "text/x-python",
   "name": "python",
   "nbconvert_exporter": "python",
   "pygments_lexer": "ipython2",
   "version": "2.7.12"
  }
 },
 "nbformat": 4,
 "nbformat_minor": 1
}
