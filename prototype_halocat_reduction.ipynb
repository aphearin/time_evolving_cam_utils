{
 "cells": [
  {
   "cell_type": "code",
   "execution_count": 1,
   "metadata": {
    "collapsed": true
   },
   "outputs": [],
   "source": [
    "import gzip\n",
    "from astropy.table import Table"
   ]
  },
  {
   "cell_type": "code",
   "execution_count": 2,
   "metadata": {
    "collapsed": false
   },
   "outputs": [],
   "source": [
    "column_info_fname = \"/Users/aphearin/work/sims/bolplanck/halo_catalogs/halotools_v0p4/column_info.dat\"\n",
    "column_info_table = Table.read(column_info_fname, format='ascii.commented_header')"
   ]
  },
  {
   "cell_type": "code",
   "execution_count": 10,
   "metadata": {
    "collapsed": false
   },
   "outputs": [
    {
     "name": "stdout",
     "output_type": "stream",
     "text": [
      "passively creating the output dirname = \n",
      "    /Users/aphearin/work/sims/bolplanck/halo_catalogs/halotools_v0p4/a_0.08037\n"
     ]
    }
   ],
   "source": [
    "halocat_fname = \"/Users/aphearin/work/sims/bolplanck/halo_catalogs/halotools_v0p4/hlist_0.08037.list.gz\"\n",
    "\n",
    "import os\n",
    "\n",
    "output_base_dirname = os.path.dirname(halocat_fname)\n",
    "halocat_basename = os.path.basename(halocat_fname)\n",
    "try:\n",
    "    # sanity check on string formatting\n",
    "    first_idx, last_idx = len('hlist_'), -len('.list.gz')\n",
    "    a = float(halocat_basename[first_idx:last_idx])\n",
    "    assert a > 0.\n",
    "except:\n",
    "    raise ValueError(\"halocat_fname basename {0} not formatted as expected\".format(halocat_basename))\n",
    "\n",
    "a_substring = 'a' + halocat_basename[first_idx-1: last_idx]\n",
    "# print(a_substring)\n",
    "output_binaries_dirname = os.path.join(output_base_dirname, a_substring)\n",
    "print(\"passively creating the output dirname = \\n    {0}\".format(output_binaries_dirname))\n",
    "try:\n",
    "    os.makedirs(output_binaries_dirname)\n",
    "except OSError:\n",
    "    pass"
   ]
  },
  {
   "cell_type": "code",
   "execution_count": 1,
   "metadata": {
    "collapsed": false
   },
   "outputs": [
    {
     "data": {
      "text/plain": [
       "'/Users/aphearin/work/sims/bolplanck/halo_catalogs/halotools_v0p4/a_0.08037'"
      ]
     },
     "execution_count": 1,
     "metadata": {},
     "output_type": "execute_result"
    }
   ],
   "source": [
    "from halocat_binary_reduction import create_output_dir\n",
    "\n",
    "create_output_dir()"
   ]
  },
  {
   "cell_type": "code",
   "execution_count": 1,
   "metadata": {
    "collapsed": true
   },
   "outputs": [],
   "source": [
    "def load_halocat(fname, *colnames):\n",
    "    pass"
   ]
  },
  {
   "cell_type": "code",
   "execution_count": 28,
   "metadata": {
    "collapsed": true
   },
   "outputs": [],
   "source": [
    "def get_column_info(colname, column_info_table):\n",
    "    idx = np.where(column_info_table['colname'] == colname)[0]\n",
    "    try:\n",
    "        dt = column_info_table['coltype'][idx][0]\n",
    "        assert len(idx) == 1\n",
    "    except AssertionError:\n",
    "        raise AssertionError(\"detected multiple columns names ``{0}``\".format(colname))\n",
    "    except IndexError:\n",
    "        raise IndexError(\"column name ``{0}`` not available\".format(colname))\n",
    "    return idx[0], dt"
   ]
  },
  {
   "cell_type": "code",
   "execution_count": 29,
   "metadata": {
    "collapsed": false
   },
   "outputs": [
    {
     "data": {
      "text/plain": [
       "(17, 'f4')"
      ]
     },
     "execution_count": 29,
     "metadata": {},
     "output_type": "execute_result"
    }
   ],
   "source": [
    "get_column_info('x', column_info_table)"
   ]
  },
  {
   "cell_type": "code",
   "execution_count": 42,
   "metadata": {
    "collapsed": true
   },
   "outputs": [],
   "source": [
    "def build_composite_dt(column_info_table, *colnames):\n",
    "    try:\n",
    "        assert len(colnames) == len(set(colnames))\n",
    "    except AssertionError:\n",
    "        raise AssertionError(\"Input ``colnames`` sequence contains repeated elements\")\n",
    "    dt_list = []\n",
    "    idx_list = []\n",
    "    for colname in colnames:\n",
    "        idx, dt = get_column_info(colname, column_info_table)\n",
    "        dt_list.append((colname, dt))\n",
    "        idx_list.append(idx)\n",
    "    \n",
    "    idx_sorted = np.argsort(idx_list)\n",
    "    dt_list = [tuple(x) for x in np.array(dt_list)[idx_sorted]]\n",
    "    return np.dtype(dt_list)"
   ]
  },
  {
   "cell_type": "code",
   "execution_count": 43,
   "metadata": {
    "collapsed": false
   },
   "outputs": [
    {
     "data": {
      "text/plain": [
       "dtype([('halo_id', '<i8'), ('mvir', '<f4'), ('vmax', '<f4')])"
      ]
     },
     "execution_count": 43,
     "metadata": {},
     "output_type": "execute_result"
    }
   ],
   "source": [
    "build_composite_dt(column_info_table, 'vmax', 'mvir', 'halo_id')"
   ]
  },
  {
   "cell_type": "code",
   "execution_count": 34,
   "metadata": {
    "collapsed": true
   },
   "outputs": [],
   "source": [
    "def get_index_list(dt):\n",
    "    idx_list = []\n",
    "    for colname in dt.names:\n",
    "        idx, dt = get_column_info(colname, column_info_table)\n",
    "        idx_list.append(idx)\n",
    "    return idx_list"
   ]
  },
  {
   "cell_type": "code",
   "execution_count": 46,
   "metadata": {
    "collapsed": false
   },
   "outputs": [
    {
     "name": "stdout",
     "output_type": "stream",
     "text": [
      "[1, 10, 16]\n"
     ]
    }
   ],
   "source": [
    "dt = build_composite_dt(column_info_table, 'vmax', 'halo_id', 'mvir')\n",
    "list_of_indices_to_use = list(get_index_list(dt))\n",
    "print(list_of_indices_to_use)"
   ]
  },
  {
   "cell_type": "code",
   "execution_count": 47,
   "metadata": {
    "collapsed": false
   },
   "outputs": [],
   "source": [
    "def row_generator(fname, column_info_table, *colnames):\n",
    "    idx_list = get_index_list(build_composite_dt(column_info_table, *colnames))\n",
    "    with gzip.open(fname, 'r') as f:\n",
    "        for raw_line in f:\n",
    "            if raw_line[0] != '#':\n",
    "                yield tuple(s for i, s in enumerate(raw_line.strip().split()) if i in idx_list)"
   ]
  },
  {
   "cell_type": "code",
   "execution_count": 48,
   "metadata": {
    "collapsed": false
   },
   "outputs": [],
   "source": [
    "d = list(row_generator(halocat_fname, column_info_table, 'vmax', 'mvir', 'halo_id'))"
   ]
  },
  {
   "cell_type": "code",
   "execution_count": 49,
   "metadata": {
    "collapsed": false
   },
   "outputs": [
    {
     "data": {
      "text/plain": [
       "('1465370', '7.74900e+08', '43.750000')"
      ]
     },
     "execution_count": 49,
     "metadata": {},
     "output_type": "execute_result"
    }
   ],
   "source": [
    "d[0]"
   ]
  },
  {
   "cell_type": "code",
   "execution_count": 55,
   "metadata": {
    "collapsed": true
   },
   "outputs": [],
   "source": [
    "data_strarr = np.array(d, dtype=build_composite_dt(column_info_table, 'vmax', 'mvir', 'halo_id'))"
   ]
  },
  {
   "cell_type": "code",
   "execution_count": 57,
   "metadata": {
    "collapsed": false
   },
   "outputs": [
    {
     "data": {
      "text/html": [
       "&lt;Table length=10&gt;\n",
       "<table id=\"table4472927056\" class=\"table-striped table-bordered table-condensed\">\n",
       "<thead><tr><th>halo_id</th><th>mvir</th><th>vmax</th></tr></thead>\n",
       "<thead><tr><th>int64</th><th>float32</th><th>float32</th></tr></thead>\n",
       "<tr><td>1465370</td><td>7.749e+08</td><td>43.75</td></tr>\n",
       "<tr><td>1465372</td><td>9.918e+09</td><td>106.9</td></tr>\n",
       "<tr><td>1465373</td><td>1.55e+09</td><td>59.42</td></tr>\n",
       "<tr><td>1465377</td><td>1.55e+09</td><td>55.1</td></tr>\n",
       "<tr><td>1465381</td><td>9.3e+08</td><td>45.87</td></tr>\n",
       "<tr><td>1465383</td><td>1.937e+09</td><td>67.02</td></tr>\n",
       "<tr><td>1465385</td><td>2.324e+09</td><td>63.36</td></tr>\n",
       "<tr><td>1465389</td><td>2.324e+09</td><td>61.76</td></tr>\n",
       "<tr><td>1465395</td><td>3.099e+08</td><td>32.81</td></tr>\n",
       "<tr><td>1465397</td><td>3.874e+09</td><td>76.08</td></tr>\n",
       "</table>"
      ],
      "text/plain": [
       "<Table length=10>\n",
       "halo_id    mvir     vmax \n",
       " int64   float32  float32\n",
       "------- --------- -------\n",
       "1465370 7.749e+08   43.75\n",
       "1465372 9.918e+09   106.9\n",
       "1465373  1.55e+09   59.42\n",
       "1465377  1.55e+09    55.1\n",
       "1465381   9.3e+08   45.87\n",
       "1465383 1.937e+09   67.02\n",
       "1465385 2.324e+09   63.36\n",
       "1465389 2.324e+09   61.76\n",
       "1465395 3.099e+08   32.81\n",
       "1465397 3.874e+09   76.08"
      ]
     },
     "execution_count": 57,
     "metadata": {},
     "output_type": "execute_result"
    }
   ],
   "source": [
    "Table(data_strarr)[0:10]"
   ]
  },
  {
   "cell_type": "code",
   "execution_count": null,
   "metadata": {
    "collapsed": false
   },
   "outputs": [],
   "source": []
  },
  {
   "cell_type": "code",
   "execution_count": null,
   "metadata": {
    "collapsed": true
   },
   "outputs": [],
   "source": []
  }
 ],
 "metadata": {
  "anaconda-cloud": {},
  "kernelspec": {
   "display_name": "Python [conda root]",
   "language": "python",
   "name": "conda-root-py"
  },
  "language_info": {
   "codemirror_mode": {
    "name": "ipython",
    "version": 2
   },
   "file_extension": ".py",
   "mimetype": "text/x-python",
   "name": "python",
   "nbconvert_exporter": "python",
   "pygments_lexer": "ipython2",
   "version": "2.7.12"
  }
 },
 "nbformat": 4,
 "nbformat_minor": 1
}
