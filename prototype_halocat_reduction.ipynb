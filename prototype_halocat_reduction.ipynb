{
 "cells": [
  {
   "cell_type": "code",
   "execution_count": 1,
   "metadata": {
    "collapsed": true
   },
   "outputs": [],
   "source": [
    "import gzip\n",
    "from astropy.table import Table"
   ]
  },
  {
   "cell_type": "code",
   "execution_count": 2,
   "metadata": {
    "collapsed": false
   },
   "outputs": [],
   "source": [
    "column_info_fname = \"/Users/aphearin/work/sims/bolplanck/halo_catalogs/halotools_v0p4/column_info.dat\"\n",
    "column_info_table = Table.read(column_info_fname, format='ascii.commented_header')"
   ]
  },
  {
   "cell_type": "code",
   "execution_count": 7,
   "metadata": {
    "collapsed": false
   },
   "outputs": [
    {
     "name": "stdout",
     "output_type": "stream",
     "text": [
      "passively creating the output dirname = \n",
      "    /Users/aphearin/work/sims/bolplanck/halo_catalogs/halotools_v0p4/a_0.08037\n"
     ]
    }
   ],
   "source": [
    "halocat_fname = \"/Users/aphearin/work/sims/bolplanck/halo_catalogs/halotools_v0p4/hlist_0.08037.list.gz\"\n",
    "\n",
    "import os\n",
    "\n",
    "output_base_dirname = os.path.dirname(halocat_fname)\n",
    "halocat_basename = os.path.basename(halocat_fname)\n",
    "try:\n",
    "    # sanity check on string formatting\n",
    "    first_idx, last_idx = len('hlist_'), -len('.list.gz')\n",
    "    a = float(halocat_basename[first_idx:last_idx])\n",
    "    assert a > 0.\n",
    "except:\n",
    "    raise ValueError(\"halocat_fname basename {0} not formatted as expected\".format(halocat_basename))\n",
    "\n",
    "a_substring = 'a' + halocat_basename[first_idx-1: last_idx]\n",
    "# print(a_substring)\n",
    "output_binaries_dirname = os.path.join(output_base_dirname, a_substring)\n",
    "print(\"passively creating the output dirname = \\n    {0}\".format(output_binaries_dirname))\n",
    "try:\n",
    "    os.makedirs(output_binaries_dirname)\n",
    "except OSError:\n",
    "    pass"
   ]
  },
  {
   "cell_type": "code",
   "execution_count": 8,
   "metadata": {
    "collapsed": true
   },
   "outputs": [],
   "source": [
    "def load_halocat(fname, *colnames):\n",
    "    pass"
   ]
  },
  {
   "cell_type": "code",
   "execution_count": 9,
   "metadata": {
    "collapsed": true
   },
   "outputs": [],
   "source": [
    "def get_column_info(colname, column_info_table):\n",
    "    idx = np.where(column_info_table['colname'] == colname)[0][0]\n",
    "    dt = column_info_table['coltype'][idx]\n",
    "    return idx, dt"
   ]
  },
  {
   "cell_type": "code",
   "execution_count": 6,
   "metadata": {
    "collapsed": false
   },
   "outputs": [
    {
     "data": {
      "text/plain": [
       "(16, 'f4')"
      ]
     },
     "execution_count": 6,
     "metadata": {},
     "output_type": "execute_result"
    }
   ],
   "source": [
    "get_column_info('vmax', column_info_table)"
   ]
  },
  {
   "cell_type": "code",
   "execution_count": 7,
   "metadata": {
    "collapsed": true
   },
   "outputs": [],
   "source": [
    "def build_composite_dt(column_info_table, *colnames):\n",
    "    dt_list = []\n",
    "    idx_list = []\n",
    "    for colname in colnames:\n",
    "        idx, dt = get_column_info(colname, column_info_table)\n",
    "        dt_list.append((colname, dt))\n",
    "        idx_list.append(idx)\n",
    "    \n",
    "    idx_sorted = np.argsort(idx_list)\n",
    "    dt_arr = [tuple(x) for x in np.array(dt_list)[idx_sorted]]\n",
    "    return np.dtype(dt_arr)"
   ]
  },
  {
   "cell_type": "code",
   "execution_count": 8,
   "metadata": {
    "collapsed": false
   },
   "outputs": [
    {
     "data": {
      "text/plain": [
       "dtype([('halo_id', '<i8'), ('mvir', '<f4'), ('vmax', '<f4')])"
      ]
     },
     "execution_count": 8,
     "metadata": {},
     "output_type": "execute_result"
    }
   ],
   "source": [
    "build_composite_dt(column_info_table, 'vmax', 'mvir', 'halo_id')"
   ]
  },
  {
   "cell_type": "code",
   "execution_count": 9,
   "metadata": {
    "collapsed": true
   },
   "outputs": [],
   "source": [
    "def get_index_list(dt):\n",
    "    idx_list = []\n",
    "    for colname in dt.names:\n",
    "        idx, dt = get_column_info(colname, column_info_table)\n",
    "        idx_list.append(idx)\n",
    "    return idx_list"
   ]
  },
  {
   "cell_type": "code",
   "execution_count": 10,
   "metadata": {
    "collapsed": false
   },
   "outputs": [
    {
     "data": {
      "text/plain": [
       "[1, 10, 16]"
      ]
     },
     "execution_count": 10,
     "metadata": {},
     "output_type": "execute_result"
    }
   ],
   "source": [
    "get_index_list(build_composite_dt(column_info_table, 'vmax', 'mvir', 'halo_id'))"
   ]
  },
  {
   "cell_type": "code",
   "execution_count": 12,
   "metadata": {
    "collapsed": false
   },
   "outputs": [],
   "source": [
    "def row_generator(fname, column_info_table, *colnames):\n",
    "    idx_list = get_index_list(build_composite_dt(column_info_table, *colnames))\n",
    "    with gzip.open(fname, 'r') as f:\n",
    "        for raw_line in f:\n",
    "            if raw_line[0] != '#':\n",
    "                yield tuple(s for i, s in enumerate(raw_line.strip().split()) if i in idx_list)"
   ]
  },
  {
   "cell_type": "code",
   "execution_count": 13,
   "metadata": {
    "collapsed": false
   },
   "outputs": [],
   "source": [
    "d = list(row_generator(halocat_fname, column_info_table, 'vmax', 'mvir', 'halo_id'))"
   ]
  },
  {
   "cell_type": "code",
   "execution_count": 14,
   "metadata": {
    "collapsed": false
   },
   "outputs": [
    {
     "data": {
      "text/plain": [
       "('1465370', '7.74900e+08', '43.750000')"
      ]
     },
     "execution_count": 14,
     "metadata": {},
     "output_type": "execute_result"
    }
   ],
   "source": [
    "d[0]"
   ]
  },
  {
   "cell_type": "code",
   "execution_count": 15,
   "metadata": {
    "collapsed": true
   },
   "outputs": [],
   "source": [
    "arr = np.array(d, dtype=build_composite_dt(column_info_table, 'vmax', 'mvir', 'halo_id'))"
   ]
  },
  {
   "cell_type": "code",
   "execution_count": null,
   "metadata": {
    "collapsed": false
   },
   "outputs": [],
   "source": []
  },
  {
   "cell_type": "code",
   "execution_count": null,
   "metadata": {
    "collapsed": false
   },
   "outputs": [],
   "source": []
  },
  {
   "cell_type": "code",
   "execution_count": null,
   "metadata": {
    "collapsed": true
   },
   "outputs": [],
   "source": []
  }
 ],
 "metadata": {
  "anaconda-cloud": {},
  "kernelspec": {
   "display_name": "Python [conda root]",
   "language": "python",
   "name": "conda-root-py"
  },
  "language_info": {
   "codemirror_mode": {
    "name": "ipython",
    "version": 2
   },
   "file_extension": ".py",
   "mimetype": "text/x-python",
   "name": "python",
   "nbconvert_exporter": "python",
   "pygments_lexer": "ipython2",
   "version": "2.7.12"
  }
 },
 "nbformat": 4,
 "nbformat_minor": 1
}
