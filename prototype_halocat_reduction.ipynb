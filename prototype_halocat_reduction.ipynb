{
 "cells": [
  {
   "cell_type": "code",
   "execution_count": 1,
   "metadata": {
    "collapsed": true
   },
   "outputs": [],
   "source": [
    "import gzip\n",
    "from astropy.table import Table\n",
    "\n",
    "column_info_fname = \"/Users/aphearin/work/sims/bolplanck/halo_catalogs/halotools_v0p4/column_info.dat\"\n",
    "\n",
    "from halocat_binary_reduction import read_column_info_array\n",
    "column_info_table = Table.read(column_info_fname, format='ascii.commented_header')\n",
    "column_info_array = read_column_info_array(column_info_fname)\n",
    "\n",
    "halocat_fname = \"/Users/aphearin/work/sims/bolplanck/halo_catalogs/halotools_v0p4/hlist_0.08037.list.gz\"\n",
    "\n",
    "from halocat_binary_reduction import create_output_dir\n",
    "snapshot_root_dirname = create_output_dir()"
   ]
  },
  {
   "cell_type": "code",
   "execution_count": 2,
   "metadata": {
    "collapsed": false
   },
   "outputs": [],
   "source": [
    "# from halocat_binary_reduction import get_column_info\n",
    "# get_column_info('x', column_info_table)"
   ]
  },
  {
   "cell_type": "code",
   "execution_count": 3,
   "metadata": {
    "collapsed": false
   },
   "outputs": [],
   "source": [
    "# from halocat_binary_reduction import row_generator as rowgen\n",
    "# d = list(rowgen(halocat_fname, column_info_table, 'vmax', 'mvir', 'halo_id'))"
   ]
  },
  {
   "cell_type": "code",
   "execution_count": 4,
   "metadata": {
    "collapsed": false
   },
   "outputs": [],
   "source": [
    "# from halocat_binary_reduction import build_composite_dt\n",
    "# data_strarr = np.array(d, dtype=build_composite_dt(column_info_table, 'vmax', 'mvir', 'halo_id'))"
   ]
  },
  {
   "cell_type": "code",
   "execution_count": 5,
   "metadata": {
    "collapsed": true
   },
   "outputs": [],
   "source": [
    "from halocat_binary_reduction import read_structured_array_from_ascii\n",
    "\n",
    "cols_to_read = ['vmax', 'mvir', 'halo_id']\n",
    "arr = read_structured_array_from_ascii(halocat_fname, column_info_table, *cols_to_read)"
   ]
  },
  {
   "cell_type": "code",
   "execution_count": 6,
   "metadata": {
    "collapsed": false
   },
   "outputs": [],
   "source": [
    "from halocat_binary_reduction import create_output_dir\n",
    "output_root_dirname = create_output_dir(halocat_fname)\n",
    "\n",
    "cols_to_save = cols_to_read\n",
    "\n",
    "from halocat_binary_reduction import save_structured_array_columns\n",
    "save_structured_array_columns(arr, column_info_array, output_root_dirname, *cols_to_save)"
   ]
  },
  {
   "cell_type": "code",
   "execution_count": 7,
   "metadata": {
    "collapsed": false
   },
   "outputs": [
    {
     "data": {
      "text/plain": [
       "array([  43.75      ,  106.90000153,   59.41999817, ...,   34.11999893,\n",
       "         85.19999695,   63.34000015], dtype=float32)"
      ]
     },
     "execution_count": 7,
     "metadata": {},
     "output_type": "execute_result"
    }
   ],
   "source": [
    "np.load('/Users/aphearin/work/sims/bolplanck/halo_catalogs/halotools_v0p4/a_0.08037/vmax/vmax_data_float32.npy')"
   ]
  },
  {
   "cell_type": "code",
   "execution_count": 8,
   "metadata": {
    "collapsed": false
   },
   "outputs": [],
   "source": [
    "from halocat_binary_reduction import assemble_halocat"
   ]
  },
  {
   "cell_type": "code",
   "execution_count": 9,
   "metadata": {
    "collapsed": false
   },
   "outputs": [],
   "source": [
    "arr=assemble_halocat(snapshot_root_dirname, column_info_array, 'vmax', 'mvir', 'halo_id')"
   ]
  },
  {
   "cell_type": "code",
   "execution_count": 11,
   "metadata": {
    "collapsed": false
   },
   "outputs": [
    {
     "data": {
      "text/plain": [
       "(dtype([('halo_id', '<i8'), ('mvir', '<f4'), ('vmax', '<f4')]), 163769)"
      ]
     },
     "execution_count": 11,
     "metadata": {},
     "output_type": "execute_result"
    }
   ],
   "source": [
    "arr.dtype, len(arr)"
   ]
  },
  {
   "cell_type": "code",
   "execution_count": null,
   "metadata": {
    "collapsed": true
   },
   "outputs": [],
   "source": []
  }
 ],
 "metadata": {
  "anaconda-cloud": {},
  "kernelspec": {
   "display_name": "Python [conda root]",
   "language": "python",
   "name": "conda-root-py"
  },
  "language_info": {
   "codemirror_mode": {
    "name": "ipython",
    "version": 2
   },
   "file_extension": ".py",
   "mimetype": "text/x-python",
   "name": "python",
   "nbconvert_exporter": "python",
   "pygments_lexer": "ipython2",
   "version": "2.7.12"
  }
 },
 "nbformat": 4,
 "nbformat_minor": 1
}
