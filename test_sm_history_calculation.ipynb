{
 "metadata": {
  "anaconda-cloud": {},
  "kernelspec": {
   "display_name": "Python [Root]",
   "language": "python",
   "name": "Python [Root]"
  },
  "language_info": {
   "codemirror_mode": {
    "name": "ipython",
    "version": 2
   },
   "file_extension": ".py",
   "mimetype": "text/x-python",
   "name": "python",
   "nbconvert_exporter": "python",
   "pygments_lexer": "ipython2",
   "version": "2.7.12"
  },
  "name": "",
  "signature": "sha256:8849cbbe5f87c78a5f461a5d9bd4e20b00f637301a4dee2316ca839ef5ee35ce"
 },
 "nbformat": 3,
 "nbformat_minor": 0,
 "worksheets": [
  {
   "cells": [
    {
     "cell_type": "code",
     "collapsed": true,
     "input": [
      "%matplotlib inline\n",
      "from matplotlib import pyplot as plt"
     ],
     "language": "python",
     "metadata": {},
     "outputs": [],
     "prompt_number": 1
    },
    {
     "cell_type": "code",
     "collapsed": true,
     "input": [
      "import os\n",
      "from astropy.table import Table\n",
      "dirname = \"/Users/aphearin/Dropbox/UniverseMachine/data/histories/prelim_sfh_reduction\"\n",
      "history_fname = \"sfh_catalog_1.002310_smcut_9.50_formatted_histories.hdf5\"\n",
      "histories = Table.read(os.path.join(dirname, history_fname), path='data')\n",
      "\n",
      "universe_age_array_fname = os.path.join(dirname, \"times.npy\")\n",
      "universe_age_array = np.load(universe_age_array_fname)\n",
      "universe_dt_array = np.diff(np.insert(universe_age_array, 0, 0))"
     ],
     "language": "python",
     "metadata": {},
     "outputs": [],
     "prompt_number": 1
    },
    {
     "cell_type": "code",
     "collapsed": false,
     "input": [
      "import mass_loss\n",
      "\n",
      "sfr_histories = histories['sfh']\n",
      "correct_sm_today = histories['sm'].data\n",
      "my_sm_today = mass_loss.redshift_zero_stellar_mass(sfr_histories)\n",
      "\n",
      "fracdiff = np.abs(my_sm_today - correct_sm_today)/correct_sm_today\n",
      "print(np.max(fracdiff))\n",
      "\n",
      "__=plt.hist(fracdiff, bins=np.linspace(-0.2, 0.2, 1000))"
     ],
     "language": "python",
     "metadata": {},
     "outputs": [
      {
       "output_type": "stream",
       "stream": "stdout",
       "text": [
        "0.0876510499407\n"
       ]
      },
      {
       "metadata": {},
       "output_type": "display_data",
       "png": "[encoded data removed]",
       "text": [
        "<matplotlib.figure.Figure at 0x10621c1d0>"
       ]
      }
     ],
     "prompt_number": 5
    },
    {
     "cell_type": "code",
     "collapsed": false,
     "input": [
      "reload(mass_loss)\n",
      "\n",
      "ssfr = mass_loss.ssfr_t_now(sfr_histories, 10)\n",
      "mask = np.flatnonzero(ssfr)\n",
      "\n",
      "__ = plt.hist(np.log10(ssfr[mask]), bins=np.linspace(-13.5, -8, 100))"
     ],
     "language": "python",
     "metadata": {},
     "outputs": [
      {
       "metadata": {},
       "output_type": "display_data",
       "png": "[encoded data removed]",
       "text": [
        "<matplotlib.figure.Figure at 0x1350594d0>"
       ]
      }
     ],
     "prompt_number": 27
    },
    {
     "cell_type": "code",
     "collapsed": false,
     "input": [
      "np.argmax([1, 2, 2, 1, 1, 1, 1, 1])"
     ],
     "language": "python",
     "metadata": {},
     "outputs": [
      {
       "metadata": {},
       "output_type": "pyout",
       "prompt_number": 28,
       "text": [
        "1"
       ]
      }
     ],
     "prompt_number": 28
    },
    {
     "cell_type": "code",
     "collapsed": true,
     "input": [
      "x = np.arange(15).reshape((5, 3`))"
     ],
     "language": "python",
     "metadata": {},
     "outputs": [],
     "prompt_number": 30
    },
    {
     "cell_type": "code",
     "collapsed": false,
     "input": [
      "x"
     ],
     "language": "python",
     "metadata": {},
     "outputs": [
      {
       "metadata": {},
       "output_type": "pyout",
       "prompt_number": 31,
       "text": [
        "array([[ 0,  1,  2],\n",
        "       [ 3,  4,  5],\n",
        "       [ 6,  7,  8],\n",
        "       [ 9, 10, 11],\n",
        "       [12, 13, 14]])"
       ]
      }
     ],
     "prompt_number": 31
    },
    {
     "cell_type": "code",
     "collapsed": false,
     "input": [
      "x[:, ::-1]"
     ],
     "language": "python",
     "metadata": {},
     "outputs": [
      {
       "metadata": {},
       "output_type": "pyout",
       "prompt_number": 33,
       "text": [
        "array([[ 2,  1,  0],\n",
        "       [ 5,  4,  3],\n",
        "       [ 8,  7,  6],\n",
        "       [11, 10,  9],\n",
        "       [14, 13, 12]])"
       ]
      }
     ],
     "prompt_number": 33
    },
    {
     "cell_type": "code",
     "collapsed": false,
     "input": [
      "histories.keys()"
     ],
     "language": "python",
     "metadata": {},
     "outputs": [
      {
       "metadata": {},
       "output_type": "pyout",
       "prompt_number": 34,
       "text": [
        "['id', 'sm', 'sfr', 'sfh', 'iclh']"
       ]
      }
     ],
     "prompt_number": 34
    },
    {
     "cell_type": "code",
     "collapsed": true,
     "input": [
      "universe_age_array[-5:]"
     ],
     "language": "python",
     "metadata": {},
     "outputs": [
      {
       "metadata": {},
       "output_type": "pyout",
       "prompt_number": 3,
       "text": [
        "array([ 13.38832467,  13.4993143 ,  13.60986002,  13.71996059,  13.82960055])"
       ]
      }
     ],
     "prompt_number": 3
    },
    {
     "cell_type": "code",
     "collapsed": false,
     "input": [],
     "language": "python",
     "metadata": {},
     "outputs": []
    }
   ],
   "metadata": {}
  }
 ]
}