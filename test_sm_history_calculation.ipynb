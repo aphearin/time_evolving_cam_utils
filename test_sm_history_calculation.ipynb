{
 "cells": [
  {
   "cell_type": "code",
   "execution_count": 1,
   "metadata": {
    "collapsed": true
   },
   "outputs": [],
   "source": [
    "%matplotlib inline\n",
    "from matplotlib import pyplot as plt"
   ]
  },
  {
   "cell_type": "code",
   "execution_count": 2,
   "metadata": {
    "collapsed": true
   },
   "outputs": [],
   "source": [
    "import os\n",
    "from astropy.table import Table\n",
    "dirname = \"/Users/aphearin/Dropbox/UniverseMachine/data/histories/prelim_sfh_reduction\"\n",
    "history_fname = \"sfh_catalog_1.002310_smcut_9.50_formatted_histories.hdf5\"\n",
    "histories = Table.read(os.path.join(dirname, history_fname), path='data')\n",
    "\n",
    "universe_age_array_fname = os.path.join(dirname, \"times.npy\")\n",
    "universe_age_array = np.load(universe_age_array_fname)\n",
    "universe_dt_array = np.diff(np.insert(universe_age_array, 0, 0))"
   ]
  },
  {
   "cell_type": "code",
   "execution_count": 3,
   "metadata": {
    "collapsed": false
   },
   "outputs": [
    {
     "name": "stdout",
     "output_type": "stream",
     "text": [
      "0.0876510499407\n"
     ]
    }
   ],
   "source": [
    "import mass_loss\n",
    "\n",
    "sfr_histories = histories['sfh']\n",
    "correct_sm_today = histories['sm'].data\n",
    "my_sm_today = mass_loss.redshift_zero_stellar_mass(sfr_histories)\n",
    "\n",
    "fracdiff = np.abs(my_sm_today - correct_sm_today)/correct_sm_today\n",
    "print(np.max(fracdiff))"
   ]
  },
  {
   "cell_type": "code",
   "execution_count": 4,
   "metadata": {
    "collapsed": false
   },
   "outputs": [
    {
     "data": {
      "image/png": "[encoded data removed]",
      "text/plain": [
       "<matplotlib.figure.Figure at 0x12e1c0c50>"
      ]
     },
     "metadata": {},
     "output_type": "display_data"
    }
   ],
   "source": [
    "reload(mass_loss)\n",
    "my_sm_yesterday = mass_loss.stellar_mass_t_now(sfr_histories, 14)\n",
    "\n",
    "growth_difference = my_sm_yesterday/my_sm_today\n",
    "\n",
    "__=plt.hist(growth_difference)"
   ]
  },
  {
   "cell_type": "code",
   "execution_count": 27,
   "metadata": {
    "collapsed": false
   },
   "outputs": [
    {
     "data": {
      "image/png": "[encoded data removed]",
      "text/plain": [
       "<matplotlib.figure.Figure at 0x1350594d0>"
      ]
     },
     "metadata": {},
     "output_type": "display_data"
    }
   ],
   "source": [
    "reload(mass_loss)\n",
    "\n",
    "ssfr = mass_loss.ssfr_t_now(sfr_histories, 10)\n",
    "mask = np.flatnonzero(ssfr)\n",
    "\n",
    "__ = plt.hist(np.log10(ssfr[mask]), bins=np.linspace(-13.5, -8, 100))"
   ]
  },
  {
   "cell_type": "code",
   "execution_count": 28,
   "metadata": {
    "collapsed": false
   },
   "outputs": [
    {
     "data": {
      "text/plain": [
       "1"
      ]
     },
     "execution_count": 28,
     "metadata": {},
     "output_type": "execute_result"
    }
   ],
   "source": [
    "np.argmax([1, 2, 2, 1, 1, 1, 1, 1])"
   ]
  },
  {
   "cell_type": "code",
   "execution_count": 30,
   "metadata": {
    "collapsed": true
   },
   "outputs": [],
   "source": [
    "x = np.arange(15).reshape((5, 3`))"
   ]
  },
  {
   "cell_type": "code",
   "execution_count": 31,
   "metadata": {
    "collapsed": false
   },
   "outputs": [
    {
     "data": {
      "text/plain": [
       "array([[ 0,  1,  2],\n",
       "       [ 3,  4,  5],\n",
       "       [ 6,  7,  8],\n",
       "       [ 9, 10, 11],\n",
       "       [12, 13, 14]])"
      ]
     },
     "execution_count": 31,
     "metadata": {},
     "output_type": "execute_result"
    }
   ],
   "source": [
    "x"
   ]
  },
  {
   "cell_type": "code",
   "execution_count": 33,
   "metadata": {
    "collapsed": false
   },
   "outputs": [
    {
     "data": {
      "text/plain": [
       "array([[ 2,  1,  0],\n",
       "       [ 5,  4,  3],\n",
       "       [ 8,  7,  6],\n",
       "       [11, 10,  9],\n",
       "       [14, 13, 12]])"
      ]
     },
     "execution_count": 33,
     "metadata": {},
     "output_type": "execute_result"
    }
   ],
   "source": [
    "x[:, ::-1]"
   ]
  },
  {
   "cell_type": "code",
   "execution_count": null,
   "metadata": {
    "collapsed": true
   },
   "outputs": [],
   "source": []
  }
 ],
 "metadata": {
  "anaconda-cloud": {},
  "kernelspec": {
   "display_name": "Python [Root]",
   "language": "python",
   "name": "Python [Root]"
  },
  "language_info": {
   "codemirror_mode": {
    "name": "ipython",
    "version": 2
   },
   "file_extension": ".py",
   "mimetype": "text/x-python",
   "name": "python",
   "nbconvert_exporter": "python",
   "pygments_lexer": "ipython2",
   "version": "2.7.12"
  }
 },
 "nbformat": 4,
 "nbformat_minor": 0
}
